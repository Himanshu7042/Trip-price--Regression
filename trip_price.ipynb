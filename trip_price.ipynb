{
 "cells": [
  {
   "cell_type": "code",
   "execution_count": 1,
   "id": "f2af3463",
   "metadata": {
    "_cell_guid": "b1076dfc-b9ad-4769-8c92-a6c4dae69d19",
    "_uuid": "8f2839f25d086af736a60e9eeb907d3b93b6e0e5",
    "execution": {
     "iopub.execute_input": "2023-12-15T17:39:01.397631Z",
     "iopub.status.busy": "2023-12-15T17:39:01.396355Z",
     "iopub.status.idle": "2023-12-15T17:39:02.557593Z",
     "shell.execute_reply": "2023-12-15T17:39:02.555718Z"
    },
    "papermill": {
     "duration": 1.213024,
     "end_time": "2023-12-15T17:39:02.560622",
     "exception": false,
     "start_time": "2023-12-15T17:39:01.347598",
     "status": "completed"
    },
    "tags": []
   },
   "outputs": [
    {
     "name": "stdout",
     "output_type": "stream",
     "text": [
      "/kaggle/input/taxi-fare-guru-total-amount-prediction-challenge/sample.csv.csv\n",
      "/kaggle/input/taxi-fare-guru-total-amount-prediction-challenge/train.csv\n",
      "/kaggle/input/taxi-fare-guru-total-amount-prediction-challenge/test.csv\n"
     ]
    }
   ],
   "source": [
    "# This Python 3 environment comes with many helpful analytics libraries installed\n",
    "# It is defined by the kaggle/python Docker image: https://github.com/kaggle/docker-python\n",
    "# For example, here's several helpful packages to load\n",
    "\n",
    "import numpy as np # linear algebra\n",
    "import pandas as pd # data processing, CSV file I/O (e.g. pd.read_csv)\n",
    "\n",
    "# Input data files are available in the read-only \"../input/\" directory\n",
    "# For example, running this (by clicking run or pressing Shift+Enter) will list all files under the input directory\n",
    "\n",
    "import os\n",
    "for dirname, _, filenames in os.walk('/kaggle/input'):\n",
    "    for filename in filenames:\n",
    "        print(os.path.join(dirname, filename))\n",
    "\n",
    "# You can write up to 20GB to the current directory (/kaggle/working/) that gets preserved as output when you create a version using \"Save & Run All\" \n",
    "# You can also write temporary files to /kaggle/temp/, but they won't be saved outside of the current session"
   ]
  },
  {
   "cell_type": "code",
   "execution_count": 2,
   "id": "8181e586",
   "metadata": {
    "execution": {
     "iopub.execute_input": "2023-12-15T17:39:02.658514Z",
     "iopub.status.busy": "2023-12-15T17:39:02.656868Z",
     "iopub.status.idle": "2023-12-15T17:39:03.638225Z",
     "shell.execute_reply": "2023-12-15T17:39:03.636905Z"
    },
    "papermill": {
     "duration": 1.030007,
     "end_time": "2023-12-15T17:39:03.641243",
     "exception": false,
     "start_time": "2023-12-15T17:39:02.611236",
     "status": "completed"
    },
    "tags": []
   },
   "outputs": [
    {
     "data": {
      "text/html": [
       "<div>\n",
       "<style scoped>\n",
       "    .dataframe tbody tr th:only-of-type {\n",
       "        vertical-align: middle;\n",
       "    }\n",
       "\n",
       "    .dataframe tbody tr th {\n",
       "        vertical-align: top;\n",
       "    }\n",
       "\n",
       "    .dataframe thead th {\n",
       "        text-align: right;\n",
       "    }\n",
       "</style>\n",
       "<table border=\"1\" class=\"dataframe\">\n",
       "  <thead>\n",
       "    <tr style=\"text-align: right;\">\n",
       "      <th></th>\n",
       "      <th>VendorID</th>\n",
       "      <th>tpep_pickup_datetime</th>\n",
       "      <th>tpep_dropoff_datetime</th>\n",
       "      <th>passenger_count</th>\n",
       "      <th>trip_distance</th>\n",
       "      <th>RatecodeID</th>\n",
       "      <th>store_and_fwd_flag</th>\n",
       "      <th>PULocationID</th>\n",
       "      <th>DOLocationID</th>\n",
       "      <th>payment_type</th>\n",
       "      <th>extra</th>\n",
       "      <th>tip_amount</th>\n",
       "      <th>tolls_amount</th>\n",
       "      <th>improvement_surcharge</th>\n",
       "      <th>total_amount</th>\n",
       "      <th>congestion_surcharge</th>\n",
       "      <th>Airport_fee</th>\n",
       "    </tr>\n",
       "  </thead>\n",
       "  <tbody>\n",
       "    <tr>\n",
       "      <th>0</th>\n",
       "      <td>1</td>\n",
       "      <td>2023-06-28 17:20:21</td>\n",
       "      <td>2023-06-28 16:34:45</td>\n",
       "      <td>1.0</td>\n",
       "      <td>2.14</td>\n",
       "      <td>1.0</td>\n",
       "      <td>N</td>\n",
       "      <td>120</td>\n",
       "      <td>9</td>\n",
       "      <td>Credit Card</td>\n",
       "      <td>2.5</td>\n",
       "      <td>7.165589</td>\n",
       "      <td>0.0</td>\n",
       "      <td>1.0</td>\n",
       "      <td>20.64</td>\n",
       "      <td>2.5</td>\n",
       "      <td>0.0</td>\n",
       "    </tr>\n",
       "    <tr>\n",
       "      <th>1</th>\n",
       "      <td>0</td>\n",
       "      <td>2023-06-29 23:05:01</td>\n",
       "      <td>2023-06-29 22:01:35</td>\n",
       "      <td>1.0</td>\n",
       "      <td>2.70</td>\n",
       "      <td>1.0</td>\n",
       "      <td>N</td>\n",
       "      <td>15</td>\n",
       "      <td>215</td>\n",
       "      <td>Credit Card</td>\n",
       "      <td>3.5</td>\n",
       "      <td>6.067401</td>\n",
       "      <td>0.0</td>\n",
       "      <td>1.0</td>\n",
       "      <td>25.55</td>\n",
       "      <td>2.5</td>\n",
       "      <td>0.0</td>\n",
       "    </tr>\n",
       "    <tr>\n",
       "      <th>2</th>\n",
       "      <td>1</td>\n",
       "      <td>2023-06-30 10:19:31</td>\n",
       "      <td>2023-06-30 11:13:10</td>\n",
       "      <td>1.0</td>\n",
       "      <td>1.15</td>\n",
       "      <td>1.0</td>\n",
       "      <td>N</td>\n",
       "      <td>167</td>\n",
       "      <td>223</td>\n",
       "      <td>Credit Card</td>\n",
       "      <td>0.0</td>\n",
       "      <td>4.111547</td>\n",
       "      <td>0.0</td>\n",
       "      <td>1.0</td>\n",
       "      <td>17.64</td>\n",
       "      <td>2.5</td>\n",
       "      <td>0.0</td>\n",
       "    </tr>\n",
       "    <tr>\n",
       "      <th>3</th>\n",
       "      <td>0</td>\n",
       "      <td>2023-06-29 13:23:09</td>\n",
       "      <td>2023-06-29 14:20:01</td>\n",
       "      <td>1.0</td>\n",
       "      <td>0.40</td>\n",
       "      <td>1.0</td>\n",
       "      <td>N</td>\n",
       "      <td>128</td>\n",
       "      <td>239</td>\n",
       "      <td>Credit Card</td>\n",
       "      <td>2.5</td>\n",
       "      <td>6.411079</td>\n",
       "      <td>0.0</td>\n",
       "      <td>1.0</td>\n",
       "      <td>12.80</td>\n",
       "      <td>2.5</td>\n",
       "      <td>0.0</td>\n",
       "    </tr>\n",
       "    <tr>\n",
       "      <th>4</th>\n",
       "      <td>1</td>\n",
       "      <td>2023-06-29 22:03:32</td>\n",
       "      <td>2023-06-29 22:22:22</td>\n",
       "      <td>3.0</td>\n",
       "      <td>1.10</td>\n",
       "      <td>1.0</td>\n",
       "      <td>N</td>\n",
       "      <td>203</td>\n",
       "      <td>52</td>\n",
       "      <td>Credit Card</td>\n",
       "      <td>1.0</td>\n",
       "      <td>4.769377</td>\n",
       "      <td>0.0</td>\n",
       "      <td>1.0</td>\n",
       "      <td>18.00</td>\n",
       "      <td>2.5</td>\n",
       "      <td>0.0</td>\n",
       "    </tr>\n",
       "  </tbody>\n",
       "</table>\n",
       "</div>"
      ],
      "text/plain": [
       "   VendorID tpep_pickup_datetime tpep_dropoff_datetime  passenger_count  \\\n",
       "0         1  2023-06-28 17:20:21   2023-06-28 16:34:45              1.0   \n",
       "1         0  2023-06-29 23:05:01   2023-06-29 22:01:35              1.0   \n",
       "2         1  2023-06-30 10:19:31   2023-06-30 11:13:10              1.0   \n",
       "3         0  2023-06-29 13:23:09   2023-06-29 14:20:01              1.0   \n",
       "4         1  2023-06-29 22:03:32   2023-06-29 22:22:22              3.0   \n",
       "\n",
       "   trip_distance  RatecodeID store_and_fwd_flag  PULocationID  DOLocationID  \\\n",
       "0           2.14         1.0                  N           120             9   \n",
       "1           2.70         1.0                  N            15           215   \n",
       "2           1.15         1.0                  N           167           223   \n",
       "3           0.40         1.0                  N           128           239   \n",
       "4           1.10         1.0                  N           203            52   \n",
       "\n",
       "  payment_type  extra  tip_amount  tolls_amount  improvement_surcharge  \\\n",
       "0  Credit Card    2.5    7.165589           0.0                    1.0   \n",
       "1  Credit Card    3.5    6.067401           0.0                    1.0   \n",
       "2  Credit Card    0.0    4.111547           0.0                    1.0   \n",
       "3  Credit Card    2.5    6.411079           0.0                    1.0   \n",
       "4  Credit Card    1.0    4.769377           0.0                    1.0   \n",
       "\n",
       "   total_amount  congestion_surcharge  Airport_fee  \n",
       "0         20.64                   2.5          0.0  \n",
       "1         25.55                   2.5          0.0  \n",
       "2         17.64                   2.5          0.0  \n",
       "3         12.80                   2.5          0.0  \n",
       "4         18.00                   2.5          0.0  "
      ]
     },
     "execution_count": 2,
     "metadata": {},
     "output_type": "execute_result"
    }
   ],
   "source": [
    "# Reading the train data \n",
    "import pandas as pd\n",
    "data= pd.read_csv(\"/kaggle/input/taxi-fare-guru-total-amount-prediction-challenge/train.csv\")\n",
    "data.head(5)"
   ]
  },
  {
   "cell_type": "code",
   "execution_count": 3,
   "id": "d79c3ccc",
   "metadata": {
    "execution": {
     "iopub.execute_input": "2023-12-15T17:39:03.803879Z",
     "iopub.status.busy": "2023-12-15T17:39:03.803467Z",
     "iopub.status.idle": "2023-12-15T17:39:03.958023Z",
     "shell.execute_reply": "2023-12-15T17:39:03.956476Z"
    },
    "papermill": {
     "duration": 0.275797,
     "end_time": "2023-12-15T17:39:03.960722",
     "exception": false,
     "start_time": "2023-12-15T17:39:03.684925",
     "status": "completed"
    },
    "tags": []
   },
   "outputs": [
    {
     "data": {
      "text/html": [
       "<div>\n",
       "<style scoped>\n",
       "    .dataframe tbody tr th:only-of-type {\n",
       "        vertical-align: middle;\n",
       "    }\n",
       "\n",
       "    .dataframe tbody tr th {\n",
       "        vertical-align: top;\n",
       "    }\n",
       "\n",
       "    .dataframe thead th {\n",
       "        text-align: right;\n",
       "    }\n",
       "</style>\n",
       "<table border=\"1\" class=\"dataframe\">\n",
       "  <thead>\n",
       "    <tr style=\"text-align: right;\">\n",
       "      <th></th>\n",
       "      <th>VendorID</th>\n",
       "      <th>passenger_count</th>\n",
       "      <th>trip_distance</th>\n",
       "      <th>RatecodeID</th>\n",
       "      <th>PULocationID</th>\n",
       "      <th>DOLocationID</th>\n",
       "      <th>extra</th>\n",
       "      <th>tip_amount</th>\n",
       "      <th>tolls_amount</th>\n",
       "      <th>improvement_surcharge</th>\n",
       "      <th>total_amount</th>\n",
       "      <th>congestion_surcharge</th>\n",
       "      <th>Airport_fee</th>\n",
       "    </tr>\n",
       "  </thead>\n",
       "  <tbody>\n",
       "    <tr>\n",
       "      <th>count</th>\n",
       "      <td>175000.000000</td>\n",
       "      <td>168923.000000</td>\n",
       "      <td>175000.000000</td>\n",
       "      <td>168923.000000</td>\n",
       "      <td>175000.000000</td>\n",
       "      <td>175000.000000</td>\n",
       "      <td>175000.000000</td>\n",
       "      <td>175000.000000</td>\n",
       "      <td>175000.000000</td>\n",
       "      <td>175000.000000</td>\n",
       "      <td>175000.000000</td>\n",
       "      <td>168923.000000</td>\n",
       "      <td>168923.000000</td>\n",
       "    </tr>\n",
       "    <tr>\n",
       "      <th>mean</th>\n",
       "      <td>0.728377</td>\n",
       "      <td>1.357678</td>\n",
       "      <td>5.145930</td>\n",
       "      <td>1.518307</td>\n",
       "      <td>132.710349</td>\n",
       "      <td>132.701429</td>\n",
       "      <td>1.932143</td>\n",
       "      <td>6.127497</td>\n",
       "      <td>0.646816</td>\n",
       "      <td>0.979689</td>\n",
       "      <td>29.633901</td>\n",
       "      <td>2.246971</td>\n",
       "      <td>0.158825</td>\n",
       "    </tr>\n",
       "    <tr>\n",
       "      <th>std</th>\n",
       "      <td>0.445606</td>\n",
       "      <td>0.891283</td>\n",
       "      <td>394.971052</td>\n",
       "      <td>6.514678</td>\n",
       "      <td>76.148799</td>\n",
       "      <td>76.192493</td>\n",
       "      <td>1.948497</td>\n",
       "      <td>4.610834</td>\n",
       "      <td>2.328274</td>\n",
       "      <td>0.198775</td>\n",
       "      <td>25.425206</td>\n",
       "      <td>0.819216</td>\n",
       "      <td>0.511968</td>\n",
       "    </tr>\n",
       "    <tr>\n",
       "      <th>min</th>\n",
       "      <td>0.000000</td>\n",
       "      <td>0.000000</td>\n",
       "      <td>0.000000</td>\n",
       "      <td>1.000000</td>\n",
       "      <td>1.000000</td>\n",
       "      <td>1.000000</td>\n",
       "      <td>-7.500000</td>\n",
       "      <td>0.000079</td>\n",
       "      <td>-29.300000</td>\n",
       "      <td>-1.000000</td>\n",
       "      <td>-576.750000</td>\n",
       "      <td>-2.500000</td>\n",
       "      <td>-1.750000</td>\n",
       "    </tr>\n",
       "    <tr>\n",
       "      <th>25%</th>\n",
       "      <td>0.000000</td>\n",
       "      <td>1.000000</td>\n",
       "      <td>1.080000</td>\n",
       "      <td>1.000000</td>\n",
       "      <td>67.000000</td>\n",
       "      <td>67.000000</td>\n",
       "      <td>0.000000</td>\n",
       "      <td>3.473321</td>\n",
       "      <td>0.000000</td>\n",
       "      <td>1.000000</td>\n",
       "      <td>16.300000</td>\n",
       "      <td>2.500000</td>\n",
       "      <td>0.000000</td>\n",
       "    </tr>\n",
       "    <tr>\n",
       "      <th>50%</th>\n",
       "      <td>1.000000</td>\n",
       "      <td>1.000000</td>\n",
       "      <td>1.840000</td>\n",
       "      <td>1.000000</td>\n",
       "      <td>133.000000</td>\n",
       "      <td>133.000000</td>\n",
       "      <td>1.000000</td>\n",
       "      <td>5.286217</td>\n",
       "      <td>0.000000</td>\n",
       "      <td>1.000000</td>\n",
       "      <td>21.450000</td>\n",
       "      <td>2.500000</td>\n",
       "      <td>0.000000</td>\n",
       "    </tr>\n",
       "    <tr>\n",
       "      <th>75%</th>\n",
       "      <td>1.000000</td>\n",
       "      <td>1.000000</td>\n",
       "      <td>3.610000</td>\n",
       "      <td>1.000000</td>\n",
       "      <td>199.000000</td>\n",
       "      <td>199.000000</td>\n",
       "      <td>2.500000</td>\n",
       "      <td>7.502746</td>\n",
       "      <td>0.000000</td>\n",
       "      <td>1.000000</td>\n",
       "      <td>31.800000</td>\n",
       "      <td>2.500000</td>\n",
       "      <td>0.000000</td>\n",
       "    </tr>\n",
       "    <tr>\n",
       "      <th>max</th>\n",
       "      <td>2.000000</td>\n",
       "      <td>9.000000</td>\n",
       "      <td>135182.060000</td>\n",
       "      <td>99.000000</td>\n",
       "      <td>264.000000</td>\n",
       "      <td>264.000000</td>\n",
       "      <td>11.750000</td>\n",
       "      <td>484.876151</td>\n",
       "      <td>80.000000</td>\n",
       "      <td>1.000000</td>\n",
       "      <td>587.250000</td>\n",
       "      <td>2.500000</td>\n",
       "      <td>1.750000</td>\n",
       "    </tr>\n",
       "  </tbody>\n",
       "</table>\n",
       "</div>"
      ],
      "text/plain": [
       "            VendorID  passenger_count  trip_distance     RatecodeID  \\\n",
       "count  175000.000000    168923.000000  175000.000000  168923.000000   \n",
       "mean        0.728377         1.357678       5.145930       1.518307   \n",
       "std         0.445606         0.891283     394.971052       6.514678   \n",
       "min         0.000000         0.000000       0.000000       1.000000   \n",
       "25%         0.000000         1.000000       1.080000       1.000000   \n",
       "50%         1.000000         1.000000       1.840000       1.000000   \n",
       "75%         1.000000         1.000000       3.610000       1.000000   \n",
       "max         2.000000         9.000000  135182.060000      99.000000   \n",
       "\n",
       "        PULocationID   DOLocationID          extra     tip_amount  \\\n",
       "count  175000.000000  175000.000000  175000.000000  175000.000000   \n",
       "mean      132.710349     132.701429       1.932143       6.127497   \n",
       "std        76.148799      76.192493       1.948497       4.610834   \n",
       "min         1.000000       1.000000      -7.500000       0.000079   \n",
       "25%        67.000000      67.000000       0.000000       3.473321   \n",
       "50%       133.000000     133.000000       1.000000       5.286217   \n",
       "75%       199.000000     199.000000       2.500000       7.502746   \n",
       "max       264.000000     264.000000      11.750000     484.876151   \n",
       "\n",
       "        tolls_amount  improvement_surcharge   total_amount  \\\n",
       "count  175000.000000          175000.000000  175000.000000   \n",
       "mean        0.646816               0.979689      29.633901   \n",
       "std         2.328274               0.198775      25.425206   \n",
       "min       -29.300000              -1.000000    -576.750000   \n",
       "25%         0.000000               1.000000      16.300000   \n",
       "50%         0.000000               1.000000      21.450000   \n",
       "75%         0.000000               1.000000      31.800000   \n",
       "max        80.000000               1.000000     587.250000   \n",
       "\n",
       "       congestion_surcharge    Airport_fee  \n",
       "count         168923.000000  168923.000000  \n",
       "mean               2.246971       0.158825  \n",
       "std                0.819216       0.511968  \n",
       "min               -2.500000      -1.750000  \n",
       "25%                2.500000       0.000000  \n",
       "50%                2.500000       0.000000  \n",
       "75%                2.500000       0.000000  \n",
       "max                2.500000       1.750000  "
      ]
     },
     "execution_count": 3,
     "metadata": {},
     "output_type": "execute_result"
    }
   ],
   "source": [
    "data.describe()"
   ]
  },
  {
   "cell_type": "code",
   "execution_count": 4,
   "id": "d4ee2539",
   "metadata": {
    "execution": {
     "iopub.execute_input": "2023-12-15T17:39:04.054481Z",
     "iopub.status.busy": "2023-12-15T17:39:04.054009Z",
     "iopub.status.idle": "2023-12-15T17:39:04.161830Z",
     "shell.execute_reply": "2023-12-15T17:39:04.159139Z"
    },
    "papermill": {
     "duration": 0.156509,
     "end_time": "2023-12-15T17:39:04.164611",
     "exception": false,
     "start_time": "2023-12-15T17:39:04.008102",
     "status": "completed"
    },
    "tags": []
   },
   "outputs": [
    {
     "name": "stdout",
     "output_type": "stream",
     "text": [
      "<class 'pandas.core.frame.DataFrame'>\n",
      "RangeIndex: 175000 entries, 0 to 174999\n",
      "Data columns (total 17 columns):\n",
      " #   Column                 Non-Null Count   Dtype  \n",
      "---  ------                 --------------   -----  \n",
      " 0   VendorID               175000 non-null  int64  \n",
      " 1   tpep_pickup_datetime   175000 non-null  object \n",
      " 2   tpep_dropoff_datetime  175000 non-null  object \n",
      " 3   passenger_count        168923 non-null  float64\n",
      " 4   trip_distance          175000 non-null  float64\n",
      " 5   RatecodeID             168923 non-null  float64\n",
      " 6   store_and_fwd_flag     168923 non-null  object \n",
      " 7   PULocationID           175000 non-null  int64  \n",
      " 8   DOLocationID           175000 non-null  int64  \n",
      " 9   payment_type           175000 non-null  object \n",
      " 10  extra                  175000 non-null  float64\n",
      " 11  tip_amount             175000 non-null  float64\n",
      " 12  tolls_amount           175000 non-null  float64\n",
      " 13  improvement_surcharge  175000 non-null  float64\n",
      " 14  total_amount           175000 non-null  float64\n",
      " 15  congestion_surcharge   168923 non-null  float64\n",
      " 16  Airport_fee            168923 non-null  float64\n",
      "dtypes: float64(10), int64(3), object(4)\n",
      "memory usage: 22.7+ MB\n"
     ]
    }
   ],
   "source": [
    "# getting feature data types\n",
    "data.info()"
   ]
  },
  {
   "cell_type": "code",
   "execution_count": 5,
   "id": "dbbf8f30",
   "metadata": {
    "execution": {
     "iopub.execute_input": "2023-12-15T17:39:04.256429Z",
     "iopub.status.busy": "2023-12-15T17:39:04.255129Z",
     "iopub.status.idle": "2023-12-15T17:39:04.262084Z",
     "shell.execute_reply": "2023-12-15T17:39:04.261104Z"
    },
    "papermill": {
     "duration": 0.055183,
     "end_time": "2023-12-15T17:39:04.265015",
     "exception": false,
     "start_time": "2023-12-15T17:39:04.209832",
     "status": "completed"
    },
    "tags": []
   },
   "outputs": [
    {
     "data": {
      "text/plain": [
       "(175000, 17)"
      ]
     },
     "execution_count": 5,
     "metadata": {},
     "output_type": "execute_result"
    }
   ],
   "source": [
    "data.shape"
   ]
  },
  {
   "cell_type": "markdown",
   "id": "7f72411c",
   "metadata": {
    "papermill": {
     "duration": 0.043684,
     "end_time": "2023-12-15T17:39:04.355917",
     "exception": false,
     "start_time": "2023-12-15T17:39:04.312233",
     "status": "completed"
    },
    "tags": []
   },
   "source": [
    "# **DATA PREPROCESSESING**"
   ]
  },
  {
   "cell_type": "code",
   "execution_count": 6,
   "id": "410fe26f",
   "metadata": {
    "execution": {
     "iopub.execute_input": "2023-12-15T17:39:04.452813Z",
     "iopub.status.busy": "2023-12-15T17:39:04.452435Z",
     "iopub.status.idle": "2023-12-15T17:39:04.542665Z",
     "shell.execute_reply": "2023-12-15T17:39:04.540924Z"
    },
    "papermill": {
     "duration": 0.144216,
     "end_time": "2023-12-15T17:39:04.546334",
     "exception": false,
     "start_time": "2023-12-15T17:39:04.402118",
     "status": "completed"
    },
    "tags": []
   },
   "outputs": [
    {
     "data": {
      "text/plain": [
       "passenger_count         6077\n",
       "RatecodeID              6077\n",
       "store_and_fwd_flag      6077\n",
       "congestion_surcharge    6077\n",
       "Airport_fee             6077\n",
       "dtype: int64"
      ]
     },
     "execution_count": 6,
     "metadata": {},
     "output_type": "execute_result"
    }
   ],
   "source": [
    "# number of null values present in the columns of the dataset which should be imputed\n",
    "missing_data_values = data.isnull().sum()\n",
    "filter_miss_data = missing_data_values.loc[missing_data_values != 0]\n",
    "filter_miss_data"
   ]
  },
  {
   "cell_type": "code",
   "execution_count": 7,
   "id": "b3029dcc",
   "metadata": {
    "execution": {
     "iopub.execute_input": "2023-12-15T17:39:04.645607Z",
     "iopub.status.busy": "2023-12-15T17:39:04.645162Z",
     "iopub.status.idle": "2023-12-15T17:39:04.834931Z",
     "shell.execute_reply": "2023-12-15T17:39:04.832472Z"
    },
    "papermill": {
     "duration": 0.241058,
     "end_time": "2023-12-15T17:39:04.837734",
     "exception": false,
     "start_time": "2023-12-15T17:39:04.596676",
     "status": "completed"
    },
    "tags": []
   },
   "outputs": [
    {
     "data": {
      "text/plain": [
       "0    45.600000\n",
       "1    63.433333\n",
       "2    53.650000\n",
       "Name: trip_time, dtype: float64"
      ]
     },
     "execution_count": 7,
     "metadata": {},
     "output_type": "execute_result"
    }
   ],
   "source": [
    "# absolute trip time is calculated from pickup time and drop time and removed these two columns from the dataset\n",
    "data['trip_time'] = (((pd.to_datetime(data['tpep_dropoff_datetime']))- (pd.to_datetime(data['tpep_pickup_datetime']))).dt.total_seconds()/60)\n",
    "data['trip_time'] = data['trip_time'].abs()\n",
    "df = data.drop(columns = ['tpep_dropoff_datetime','tpep_pickup_datetime'])\n",
    "df['trip_time'].head(3)\n"
   ]
  },
  {
   "cell_type": "code",
   "execution_count": 8,
   "id": "1197aea5",
   "metadata": {
    "execution": {
     "iopub.execute_input": "2023-12-15T17:39:04.929374Z",
     "iopub.status.busy": "2023-12-15T17:39:04.928991Z",
     "iopub.status.idle": "2023-12-15T17:39:04.968115Z",
     "shell.execute_reply": "2023-12-15T17:39:04.966210Z"
    },
    "papermill": {
     "duration": 0.087691,
     "end_time": "2023-12-15T17:39:04.970814",
     "exception": false,
     "start_time": "2023-12-15T17:39:04.883123",
     "status": "completed"
    },
    "tags": []
   },
   "outputs": [
    {
     "name": "stdout",
     "output_type": "stream",
     "text": [
      "these are string columns:  ['store_and_fwd_flag', 'payment_type']\n",
      "these are numeric columns:  ['VendorID', 'passenger_count', 'trip_distance', 'RatecodeID', 'PULocationID', 'DOLocationID', 'extra', 'tip_amount', 'tolls_amount', 'improvement_surcharge', 'total_amount', 'congestion_surcharge', 'Airport_fee', 'trip_time']\n"
     ]
    }
   ],
   "source": [
    "# numeric and categorical columns taken in to arrays\n",
    "string_columns = df.select_dtypes(include=['object']).columns.tolist()\n",
    "numeric_columns = df.select_dtypes(include=['int','float']).columns.tolist()\n",
    "print('these are string columns: ',string_columns)\n",
    "print('these are numeric columns: ',numeric_columns)"
   ]
  },
  {
   "cell_type": "code",
   "execution_count": 9,
   "id": "238fe103",
   "metadata": {
    "execution": {
     "iopub.execute_input": "2023-12-15T17:39:05.067731Z",
     "iopub.status.busy": "2023-12-15T17:39:05.067315Z",
     "iopub.status.idle": "2023-12-15T17:39:05.101746Z",
     "shell.execute_reply": "2023-12-15T17:39:05.100357Z"
    },
    "papermill": {
     "duration": 0.086718,
     "end_time": "2023-12-15T17:39:05.104200",
     "exception": false,
     "start_time": "2023-12-15T17:39:05.017482",
     "status": "completed"
    },
    "tags": []
   },
   "outputs": [
    {
     "name": "stdout",
     "output_type": "stream",
     "text": [
      "['Credit Card' 'Cash' 'Wallet' 'UPI' 'unknown']\n",
      "['N' nan 'Y']\n"
     ]
    }
   ],
   "source": [
    "# checking for unique values present in object datatype features\n",
    "print(df['payment_type'].unique())\n",
    "print(df['store_and_fwd_flag'].unique())"
   ]
  },
  {
   "cell_type": "code",
   "execution_count": 10,
   "id": "ff364f38",
   "metadata": {
    "execution": {
     "iopub.execute_input": "2023-12-15T17:39:05.196420Z",
     "iopub.status.busy": "2023-12-15T17:39:05.196012Z",
     "iopub.status.idle": "2023-12-15T17:39:06.067209Z",
     "shell.execute_reply": "2023-12-15T17:39:06.065839Z"
    },
    "papermill": {
     "duration": 0.920265,
     "end_time": "2023-12-15T17:39:06.070516",
     "exception": false,
     "start_time": "2023-12-15T17:39:05.150251",
     "status": "completed"
    },
    "tags": []
   },
   "outputs": [
    {
     "data": {
      "image/png": "[encoded data removed]",
      "text/plain": [
       "<Figure size 1000x600 with 1 Axes>"
      ]
     },
     "metadata": {},
     "output_type": "display_data"
    }
   ],
   "source": [
    "# Scatter Plot of index vs total amount\n",
    "import matplotlib.pyplot as plt\n",
    "plt.figure(figsize=(10, 6))\n",
    "plt.scatter(df.index, df['total_amount'], color='green', alpha=0.5)\n",
    "plt.title('Scatter Plot of index vs total amount')\n",
    "plt.xlabel('index')\n",
    "plt.ylabel('total amount')\n",
    "plt.grid(True)\n",
    "plt.show()"
   ]
  },
  {
   "cell_type": "code",
   "execution_count": 11,
   "id": "aceb4fba",
   "metadata": {
    "execution": {
     "iopub.execute_input": "2023-12-15T17:39:06.166233Z",
     "iopub.status.busy": "2023-12-15T17:39:06.165784Z",
     "iopub.status.idle": "2023-12-15T17:39:06.998804Z",
     "shell.execute_reply": "2023-12-15T17:39:06.997616Z"
    },
    "papermill": {
     "duration": 0.884711,
     "end_time": "2023-12-15T17:39:07.002058",
     "exception": false,
     "start_time": "2023-12-15T17:39:06.117347",
     "status": "completed"
    },
    "tags": []
   },
   "outputs": [
    {
     "data": {
      "image/png": "[encoded data removed]",
      "text/plain": [
       "<Figure size 1000x600 with 1 Axes>"
      ]
     },
     "metadata": {},
     "output_type": "display_data"
    }
   ],
   "source": [
    "import matplotlib.pyplot as plt\n",
    "plt.figure(figsize=(10, 6))\n",
    "plt.scatter(df.index, df['trip_distance'], color='green', alpha=0.5)\n",
    "plt.title('Scatter Plot of index vs trip_distance')\n",
    "plt.xlabel('index')\n",
    "plt.ylabel('trip_distance')\n",
    "plt.grid(True)\n",
    "plt.show()\n"
   ]
  },
  {
   "cell_type": "code",
   "execution_count": 12,
   "id": "e872c12d",
   "metadata": {
    "execution": {
     "iopub.execute_input": "2023-12-15T17:39:07.105854Z",
     "iopub.status.busy": "2023-12-15T17:39:07.104684Z",
     "iopub.status.idle": "2023-12-15T17:39:07.113145Z",
     "shell.execute_reply": "2023-12-15T17:39:07.111824Z"
    },
    "papermill": {
     "duration": 0.06147,
     "end_time": "2023-12-15T17:39:07.116216",
     "exception": false,
     "start_time": "2023-12-15T17:39:07.054746",
     "status": "completed"
    },
    "tags": []
   },
   "outputs": [],
   "source": [
    "df.loc[df['trip_distance'] > 100, 'trip_distance'] = np.nan\n",
    "# #7 rows trip_distance is changed to nan which will be imputed in imputer\n"
   ]
  },
  {
   "cell_type": "code",
   "execution_count": 13,
   "id": "acde7d30",
   "metadata": {
    "execution": {
     "iopub.execute_input": "2023-12-15T17:39:07.225887Z",
     "iopub.status.busy": "2023-12-15T17:39:07.224483Z",
     "iopub.status.idle": "2023-12-15T17:39:08.016577Z",
     "shell.execute_reply": "2023-12-15T17:39:08.015401Z"
    },
    "papermill": {
     "duration": 0.848536,
     "end_time": "2023-12-15T17:39:08.019327",
     "exception": false,
     "start_time": "2023-12-15T17:39:07.170791",
     "status": "completed"
    },
    "tags": []
   },
   "outputs": [
    {
     "data": {
      "image/png": "[encoded data removed]",
      "text/plain": [
       "<Figure size 1000x600 with 1 Axes>"
      ]
     },
     "metadata": {},
     "output_type": "display_data"
    }
   ],
   "source": [
    "import matplotlib.pyplot as plt\n",
    "plt.figure(figsize=(10, 6))\n",
    "plt.scatter(df['RatecodeID'],df['total_amount'], color='green', alpha=0.5)\n",
    "plt.title('Scatter Plot of RatecodeID vs total_amount')\n",
    "plt.xlabel('RatecodeID')\n",
    "plt.ylabel('total_amount')\n",
    "plt.grid(True)\n",
    "plt.show()"
   ]
  },
  {
   "cell_type": "code",
   "execution_count": 14,
   "id": "62912764",
   "metadata": {
    "execution": {
     "iopub.execute_input": "2023-12-15T17:39:08.121957Z",
     "iopub.status.busy": "2023-12-15T17:39:08.121054Z",
     "iopub.status.idle": "2023-12-15T17:39:08.130960Z",
     "shell.execute_reply": "2023-12-15T17:39:08.129476Z"
    },
    "papermill": {
     "duration": 0.066236,
     "end_time": "2023-12-15T17:39:08.133567",
     "exception": false,
     "start_time": "2023-12-15T17:39:08.067331",
     "status": "completed"
    },
    "tags": []
   },
   "outputs": [
    {
     "name": "stdout",
     "output_type": "stream",
     "text": [
      "[ 1. 99.  3. nan  2.  5.  4.]\n"
     ]
    }
   ],
   "source": [
    "print(df['RatecodeID'].unique())\n"
   ]
  },
  {
   "cell_type": "code",
   "execution_count": 15,
   "id": "ed5b9386",
   "metadata": {
    "execution": {
     "iopub.execute_input": "2023-12-15T17:39:08.234698Z",
     "iopub.status.busy": "2023-12-15T17:39:08.233907Z",
     "iopub.status.idle": "2023-12-15T17:39:08.240470Z",
     "shell.execute_reply": "2023-12-15T17:39:08.239587Z"
    },
    "papermill": {
     "duration": 0.060384,
     "end_time": "2023-12-15T17:39:08.243087",
     "exception": false,
     "start_time": "2023-12-15T17:39:08.182703",
     "status": "completed"
    },
    "tags": []
   },
   "outputs": [],
   "source": [
    "df.loc[df['RatecodeID'] > 5, 'RatecodeID'] = np.nan\n",
    "# all the 99's will be converted to nan to impute in imputer"
   ]
  },
  {
   "cell_type": "code",
   "execution_count": 16,
   "id": "fc249d52",
   "metadata": {
    "execution": {
     "iopub.execute_input": "2023-12-15T17:39:08.348643Z",
     "iopub.status.busy": "2023-12-15T17:39:08.347765Z",
     "iopub.status.idle": "2023-12-15T17:39:09.110225Z",
     "shell.execute_reply": "2023-12-15T17:39:09.108824Z"
    },
    "papermill": {
     "duration": 0.817145,
     "end_time": "2023-12-15T17:39:09.112906",
     "exception": false,
     "start_time": "2023-12-15T17:39:08.295761",
     "status": "completed"
    },
    "tags": []
   },
   "outputs": [
    {
     "data": {
      "image/png": "[encoded data removed]",
      "text/plain": [
       "<Figure size 1000x600 with 1 Axes>"
      ]
     },
     "metadata": {},
     "output_type": "display_data"
    }
   ],
   "source": [
    "# plot after removing 99's \n",
    "import matplotlib.pyplot as plt\n",
    "plt.figure(figsize=(10, 6))\n",
    "plt.scatter(df['RatecodeID'],df['total_amount'], color='green', alpha=0.5)\n",
    "plt.title('Scatter Plot of RatecodeID vs total_amount')\n",
    "plt.xlabel('RatecodeID')\n",
    "plt.ylabel('total_amount')\n",
    "plt.grid(True)\n",
    "plt.show()"
   ]
  },
  {
   "cell_type": "code",
   "execution_count": 17,
   "id": "c8de6dd4",
   "metadata": {
    "execution": {
     "iopub.execute_input": "2023-12-15T17:39:09.216348Z",
     "iopub.status.busy": "2023-12-15T17:39:09.215922Z",
     "iopub.status.idle": "2023-12-15T17:39:09.229373Z",
     "shell.execute_reply": "2023-12-15T17:39:09.228159Z"
    },
    "papermill": {
     "duration": 0.067296,
     "end_time": "2023-12-15T17:39:09.231916",
     "exception": false,
     "start_time": "2023-12-15T17:39:09.164620",
     "status": "completed"
    },
    "tags": []
   },
   "outputs": [
    {
     "data": {
      "text/plain": [
       "['passenger_count',\n",
       " 'trip_distance',\n",
       " 'RatecodeID',\n",
       " 'congestion_surcharge',\n",
       " 'Airport_fee']"
      ]
     },
     "execution_count": 17,
     "metadata": {},
     "output_type": "execute_result"
    }
   ],
   "source": [
    "# Checking for numeric features having null values\n",
    "numeric_nan_col = [col for col in numeric_columns if df[col].isnull().any()]\n",
    "numeric_nan_col"
   ]
  },
  {
   "cell_type": "code",
   "execution_count": 18,
   "id": "da5a2b0f",
   "metadata": {
    "execution": {
     "iopub.execute_input": "2023-12-15T17:39:09.336377Z",
     "iopub.status.busy": "2023-12-15T17:39:09.335008Z",
     "iopub.status.idle": "2023-12-15T17:39:11.416297Z",
     "shell.execute_reply": "2023-12-15T17:39:11.415224Z"
    },
    "papermill": {
     "duration": 2.137726,
     "end_time": "2023-12-15T17:39:11.419160",
     "exception": false,
     "start_time": "2023-12-15T17:39:09.281434",
     "status": "completed"
    },
    "tags": []
   },
   "outputs": [
    {
     "data": {
      "text/html": [
       "<div>\n",
       "<style scoped>\n",
       "    .dataframe tbody tr th:only-of-type {\n",
       "        vertical-align: middle;\n",
       "    }\n",
       "\n",
       "    .dataframe tbody tr th {\n",
       "        vertical-align: top;\n",
       "    }\n",
       "\n",
       "    .dataframe thead th {\n",
       "        text-align: right;\n",
       "    }\n",
       "</style>\n",
       "<table border=\"1\" class=\"dataframe\">\n",
       "  <thead>\n",
       "    <tr style=\"text-align: right;\">\n",
       "      <th></th>\n",
       "      <th>VendorID</th>\n",
       "      <th>passenger_count</th>\n",
       "      <th>trip_distance</th>\n",
       "      <th>RatecodeID</th>\n",
       "      <th>store_and_fwd_flag</th>\n",
       "      <th>PULocationID</th>\n",
       "      <th>DOLocationID</th>\n",
       "      <th>payment_type</th>\n",
       "      <th>extra</th>\n",
       "      <th>tip_amount</th>\n",
       "      <th>tolls_amount</th>\n",
       "      <th>improvement_surcharge</th>\n",
       "      <th>total_amount</th>\n",
       "      <th>congestion_surcharge</th>\n",
       "      <th>Airport_fee</th>\n",
       "      <th>trip_time</th>\n",
       "    </tr>\n",
       "  </thead>\n",
       "  <tbody>\n",
       "    <tr>\n",
       "      <th>0</th>\n",
       "      <td>1</td>\n",
       "      <td>1.0</td>\n",
       "      <td>2.14</td>\n",
       "      <td>1.0</td>\n",
       "      <td>N</td>\n",
       "      <td>120</td>\n",
       "      <td>9</td>\n",
       "      <td>Credit Card</td>\n",
       "      <td>2.5</td>\n",
       "      <td>7.165589</td>\n",
       "      <td>0.0</td>\n",
       "      <td>1.0</td>\n",
       "      <td>20.64</td>\n",
       "      <td>2.5</td>\n",
       "      <td>0.0</td>\n",
       "      <td>45.600000</td>\n",
       "    </tr>\n",
       "    <tr>\n",
       "      <th>1</th>\n",
       "      <td>0</td>\n",
       "      <td>1.0</td>\n",
       "      <td>2.70</td>\n",
       "      <td>1.0</td>\n",
       "      <td>N</td>\n",
       "      <td>15</td>\n",
       "      <td>215</td>\n",
       "      <td>Credit Card</td>\n",
       "      <td>3.5</td>\n",
       "      <td>6.067401</td>\n",
       "      <td>0.0</td>\n",
       "      <td>1.0</td>\n",
       "      <td>25.55</td>\n",
       "      <td>2.5</td>\n",
       "      <td>0.0</td>\n",
       "      <td>63.433333</td>\n",
       "    </tr>\n",
       "    <tr>\n",
       "      <th>2</th>\n",
       "      <td>1</td>\n",
       "      <td>1.0</td>\n",
       "      <td>1.15</td>\n",
       "      <td>1.0</td>\n",
       "      <td>N</td>\n",
       "      <td>167</td>\n",
       "      <td>223</td>\n",
       "      <td>Credit Card</td>\n",
       "      <td>0.0</td>\n",
       "      <td>4.111547</td>\n",
       "      <td>0.0</td>\n",
       "      <td>1.0</td>\n",
       "      <td>17.64</td>\n",
       "      <td>2.5</td>\n",
       "      <td>0.0</td>\n",
       "      <td>53.650000</td>\n",
       "    </tr>\n",
       "  </tbody>\n",
       "</table>\n",
       "</div>"
      ],
      "text/plain": [
       "   VendorID  passenger_count  trip_distance  RatecodeID store_and_fwd_flag  \\\n",
       "0         1              1.0           2.14         1.0                  N   \n",
       "1         0              1.0           2.70         1.0                  N   \n",
       "2         1              1.0           1.15         1.0                  N   \n",
       "\n",
       "   PULocationID  DOLocationID payment_type  extra  tip_amount  tolls_amount  \\\n",
       "0           120             9  Credit Card    2.5    7.165589           0.0   \n",
       "1            15           215  Credit Card    3.5    6.067401           0.0   \n",
       "2           167           223  Credit Card    0.0    4.111547           0.0   \n",
       "\n",
       "   improvement_surcharge  total_amount  congestion_surcharge  Airport_fee  \\\n",
       "0                    1.0         20.64                   2.5          0.0   \n",
       "1                    1.0         25.55                   2.5          0.0   \n",
       "2                    1.0         17.64                   2.5          0.0   \n",
       "\n",
       "   trip_time  \n",
       "0  45.600000  \n",
       "1  63.433333  \n",
       "2  53.650000  "
      ]
     },
     "execution_count": 18,
     "metadata": {},
     "output_type": "execute_result"
    }
   ],
   "source": [
    "# imputing null values using simple immputer\n",
    "from sklearn.impute import SimpleImputer\n",
    "si=SimpleImputer(strategy='mean')\n",
    "numbercol=['passenger_count','trip_distance','congestion_surcharge','Airport_fee']\n",
    "df[numbercol] = si.fit_transform(df[numbercol])\n",
    "df.head(3)"
   ]
  },
  {
   "cell_type": "code",
   "execution_count": 19,
   "id": "13a8bd60",
   "metadata": {
    "execution": {
     "iopub.execute_input": "2023-12-15T17:39:11.527652Z",
     "iopub.status.busy": "2023-12-15T17:39:11.526793Z",
     "iopub.status.idle": "2023-12-15T17:39:11.577676Z",
     "shell.execute_reply": "2023-12-15T17:39:11.576311Z"
    },
    "papermill": {
     "duration": 0.10732,
     "end_time": "2023-12-15T17:39:11.580250",
     "exception": false,
     "start_time": "2023-12-15T17:39:11.472930",
     "status": "completed"
    },
    "tags": []
   },
   "outputs": [
    {
     "data": {
      "text/plain": [
       "RatecodeID            6825\n",
       "store_and_fwd_flag    6077\n",
       "dtype: int64"
      ]
     },
     "execution_count": 19,
     "metadata": {},
     "output_type": "execute_result"
    }
   ],
   "source": [
    "# checking for null values after inputer\n",
    "missing_df_values = df.isnull().sum()\n",
    "filter_miss_df = missing_df_values.loc[missing_df_values != 0]\n",
    "filter_miss_df"
   ]
  },
  {
   "cell_type": "code",
   "execution_count": 20,
   "id": "954f57d0",
   "metadata": {
    "execution": {
     "iopub.execute_input": "2023-12-15T17:39:11.683837Z",
     "iopub.status.busy": "2023-12-15T17:39:11.682928Z",
     "iopub.status.idle": "2023-12-15T17:39:11.728491Z",
     "shell.execute_reply": "2023-12-15T17:39:11.727340Z"
    },
    "papermill": {
     "duration": 0.100943,
     "end_time": "2023-12-15T17:39:11.730964",
     "exception": false,
     "start_time": "2023-12-15T17:39:11.630021",
     "status": "completed"
    },
    "tags": []
   },
   "outputs": [
    {
     "data": {
      "text/plain": [
       "['store_and_fwd_flag']"
      ]
     },
     "execution_count": 20,
     "metadata": {},
     "output_type": "execute_result"
    }
   ],
   "source": [
    "string_nan_cols = [col for col in string_columns if df[col].isnull().any()]\n",
    "\n",
    "string_nan_cols"
   ]
  },
  {
   "cell_type": "code",
   "execution_count": 21,
   "id": "b2c0e332",
   "metadata": {
    "execution": {
     "iopub.execute_input": "2023-12-15T17:39:11.836314Z",
     "iopub.status.busy": "2023-12-15T17:39:11.835481Z",
     "iopub.status.idle": "2023-12-15T17:39:11.926046Z",
     "shell.execute_reply": "2023-12-15T17:39:11.924674Z"
    },
    "papermill": {
     "duration": 0.146734,
     "end_time": "2023-12-15T17:39:11.929106",
     "exception": false,
     "start_time": "2023-12-15T17:39:11.782372",
     "status": "completed"
    },
    "tags": []
   },
   "outputs": [
    {
     "data": {
      "text/html": [
       "<div>\n",
       "<style scoped>\n",
       "    .dataframe tbody tr th:only-of-type {\n",
       "        vertical-align: middle;\n",
       "    }\n",
       "\n",
       "    .dataframe tbody tr th {\n",
       "        vertical-align: top;\n",
       "    }\n",
       "\n",
       "    .dataframe thead th {\n",
       "        text-align: right;\n",
       "    }\n",
       "</style>\n",
       "<table border=\"1\" class=\"dataframe\">\n",
       "  <thead>\n",
       "    <tr style=\"text-align: right;\">\n",
       "      <th></th>\n",
       "      <th>VendorID</th>\n",
       "      <th>passenger_count</th>\n",
       "      <th>trip_distance</th>\n",
       "      <th>RatecodeID</th>\n",
       "      <th>store_and_fwd_flag</th>\n",
       "      <th>PULocationID</th>\n",
       "      <th>DOLocationID</th>\n",
       "      <th>payment_type</th>\n",
       "      <th>extra</th>\n",
       "      <th>tip_amount</th>\n",
       "      <th>tolls_amount</th>\n",
       "      <th>improvement_surcharge</th>\n",
       "      <th>total_amount</th>\n",
       "      <th>congestion_surcharge</th>\n",
       "      <th>Airport_fee</th>\n",
       "      <th>trip_time</th>\n",
       "    </tr>\n",
       "  </thead>\n",
       "  <tbody>\n",
       "    <tr>\n",
       "      <th>0</th>\n",
       "      <td>1</td>\n",
       "      <td>1.0</td>\n",
       "      <td>2.14</td>\n",
       "      <td>1.0</td>\n",
       "      <td>N</td>\n",
       "      <td>120</td>\n",
       "      <td>9</td>\n",
       "      <td>Credit Card</td>\n",
       "      <td>2.5</td>\n",
       "      <td>7.165589</td>\n",
       "      <td>0.0</td>\n",
       "      <td>1.0</td>\n",
       "      <td>20.64</td>\n",
       "      <td>2.5</td>\n",
       "      <td>0.00</td>\n",
       "      <td>45.600000</td>\n",
       "    </tr>\n",
       "    <tr>\n",
       "      <th>1</th>\n",
       "      <td>0</td>\n",
       "      <td>1.0</td>\n",
       "      <td>2.70</td>\n",
       "      <td>1.0</td>\n",
       "      <td>N</td>\n",
       "      <td>15</td>\n",
       "      <td>215</td>\n",
       "      <td>Credit Card</td>\n",
       "      <td>3.5</td>\n",
       "      <td>6.067401</td>\n",
       "      <td>0.0</td>\n",
       "      <td>1.0</td>\n",
       "      <td>25.55</td>\n",
       "      <td>2.5</td>\n",
       "      <td>0.00</td>\n",
       "      <td>63.433333</td>\n",
       "    </tr>\n",
       "    <tr>\n",
       "      <th>2</th>\n",
       "      <td>1</td>\n",
       "      <td>1.0</td>\n",
       "      <td>1.15</td>\n",
       "      <td>1.0</td>\n",
       "      <td>N</td>\n",
       "      <td>167</td>\n",
       "      <td>223</td>\n",
       "      <td>Credit Card</td>\n",
       "      <td>0.0</td>\n",
       "      <td>4.111547</td>\n",
       "      <td>0.0</td>\n",
       "      <td>1.0</td>\n",
       "      <td>17.64</td>\n",
       "      <td>2.5</td>\n",
       "      <td>0.00</td>\n",
       "      <td>53.650000</td>\n",
       "    </tr>\n",
       "    <tr>\n",
       "      <th>3</th>\n",
       "      <td>0</td>\n",
       "      <td>1.0</td>\n",
       "      <td>0.40</td>\n",
       "      <td>1.0</td>\n",
       "      <td>N</td>\n",
       "      <td>128</td>\n",
       "      <td>239</td>\n",
       "      <td>Credit Card</td>\n",
       "      <td>2.5</td>\n",
       "      <td>6.411079</td>\n",
       "      <td>0.0</td>\n",
       "      <td>1.0</td>\n",
       "      <td>12.80</td>\n",
       "      <td>2.5</td>\n",
       "      <td>0.00</td>\n",
       "      <td>56.866667</td>\n",
       "    </tr>\n",
       "    <tr>\n",
       "      <th>4</th>\n",
       "      <td>1</td>\n",
       "      <td>3.0</td>\n",
       "      <td>1.10</td>\n",
       "      <td>1.0</td>\n",
       "      <td>N</td>\n",
       "      <td>203</td>\n",
       "      <td>52</td>\n",
       "      <td>Credit Card</td>\n",
       "      <td>1.0</td>\n",
       "      <td>4.769377</td>\n",
       "      <td>0.0</td>\n",
       "      <td>1.0</td>\n",
       "      <td>18.00</td>\n",
       "      <td>2.5</td>\n",
       "      <td>0.00</td>\n",
       "      <td>18.833333</td>\n",
       "    </tr>\n",
       "    <tr>\n",
       "      <th>...</th>\n",
       "      <td>...</td>\n",
       "      <td>...</td>\n",
       "      <td>...</td>\n",
       "      <td>...</td>\n",
       "      <td>...</td>\n",
       "      <td>...</td>\n",
       "      <td>...</td>\n",
       "      <td>...</td>\n",
       "      <td>...</td>\n",
       "      <td>...</td>\n",
       "      <td>...</td>\n",
       "      <td>...</td>\n",
       "      <td>...</td>\n",
       "      <td>...</td>\n",
       "      <td>...</td>\n",
       "      <td>...</td>\n",
       "    </tr>\n",
       "    <tr>\n",
       "      <th>174995</th>\n",
       "      <td>1</td>\n",
       "      <td>3.0</td>\n",
       "      <td>3.45</td>\n",
       "      <td>1.0</td>\n",
       "      <td>N</td>\n",
       "      <td>147</td>\n",
       "      <td>167</td>\n",
       "      <td>Credit Card</td>\n",
       "      <td>1.0</td>\n",
       "      <td>8.732495</td>\n",
       "      <td>0.0</td>\n",
       "      <td>1.0</td>\n",
       "      <td>28.08</td>\n",
       "      <td>2.5</td>\n",
       "      <td>0.00</td>\n",
       "      <td>28.583333</td>\n",
       "    </tr>\n",
       "    <tr>\n",
       "      <th>174996</th>\n",
       "      <td>1</td>\n",
       "      <td>1.0</td>\n",
       "      <td>9.44</td>\n",
       "      <td>1.0</td>\n",
       "      <td>N</td>\n",
       "      <td>154</td>\n",
       "      <td>191</td>\n",
       "      <td>Cash</td>\n",
       "      <td>5.0</td>\n",
       "      <td>0.283275</td>\n",
       "      <td>0.0</td>\n",
       "      <td>1.0</td>\n",
       "      <td>59.95</td>\n",
       "      <td>2.5</td>\n",
       "      <td>1.75</td>\n",
       "      <td>61.400000</td>\n",
       "    </tr>\n",
       "    <tr>\n",
       "      <th>174997</th>\n",
       "      <td>0</td>\n",
       "      <td>1.0</td>\n",
       "      <td>2.40</td>\n",
       "      <td>1.0</td>\n",
       "      <td>N</td>\n",
       "      <td>168</td>\n",
       "      <td>106</td>\n",
       "      <td>Credit Card</td>\n",
       "      <td>2.5</td>\n",
       "      <td>4.245354</td>\n",
       "      <td>0.0</td>\n",
       "      <td>1.0</td>\n",
       "      <td>33.50</td>\n",
       "      <td>2.5</td>\n",
       "      <td>0.00</td>\n",
       "      <td>70.033333</td>\n",
       "    </tr>\n",
       "    <tr>\n",
       "      <th>174998</th>\n",
       "      <td>1</td>\n",
       "      <td>1.0</td>\n",
       "      <td>4.71</td>\n",
       "      <td>1.0</td>\n",
       "      <td>N</td>\n",
       "      <td>240</td>\n",
       "      <td>100</td>\n",
       "      <td>Credit Card</td>\n",
       "      <td>2.5</td>\n",
       "      <td>10.479776</td>\n",
       "      <td>0.0</td>\n",
       "      <td>1.0</td>\n",
       "      <td>40.80</td>\n",
       "      <td>2.5</td>\n",
       "      <td>0.00</td>\n",
       "      <td>38.366667</td>\n",
       "    </tr>\n",
       "    <tr>\n",
       "      <th>174999</th>\n",
       "      <td>1</td>\n",
       "      <td>1.0</td>\n",
       "      <td>1.01</td>\n",
       "      <td>1.0</td>\n",
       "      <td>N</td>\n",
       "      <td>153</td>\n",
       "      <td>72</td>\n",
       "      <td>Credit Card</td>\n",
       "      <td>1.0</td>\n",
       "      <td>6.541699</td>\n",
       "      <td>0.0</td>\n",
       "      <td>1.0</td>\n",
       "      <td>16.32</td>\n",
       "      <td>2.5</td>\n",
       "      <td>0.00</td>\n",
       "      <td>87.983333</td>\n",
       "    </tr>\n",
       "  </tbody>\n",
       "</table>\n",
       "<p>175000 rows × 16 columns</p>\n",
       "</div>"
      ],
      "text/plain": [
       "        VendorID  passenger_count  trip_distance  RatecodeID  \\\n",
       "0              1              1.0           2.14         1.0   \n",
       "1              0              1.0           2.70         1.0   \n",
       "2              1              1.0           1.15         1.0   \n",
       "3              0              1.0           0.40         1.0   \n",
       "4              1              3.0           1.10         1.0   \n",
       "...          ...              ...            ...         ...   \n",
       "174995         1              3.0           3.45         1.0   \n",
       "174996         1              1.0           9.44         1.0   \n",
       "174997         0              1.0           2.40         1.0   \n",
       "174998         1              1.0           4.71         1.0   \n",
       "174999         1              1.0           1.01         1.0   \n",
       "\n",
       "       store_and_fwd_flag  PULocationID  DOLocationID payment_type  extra  \\\n",
       "0                       N           120             9  Credit Card    2.5   \n",
       "1                       N            15           215  Credit Card    3.5   \n",
       "2                       N           167           223  Credit Card    0.0   \n",
       "3                       N           128           239  Credit Card    2.5   \n",
       "4                       N           203            52  Credit Card    1.0   \n",
       "...                   ...           ...           ...          ...    ...   \n",
       "174995                  N           147           167  Credit Card    1.0   \n",
       "174996                  N           154           191         Cash    5.0   \n",
       "174997                  N           168           106  Credit Card    2.5   \n",
       "174998                  N           240           100  Credit Card    2.5   \n",
       "174999                  N           153            72  Credit Card    1.0   \n",
       "\n",
       "        tip_amount  tolls_amount  improvement_surcharge  total_amount  \\\n",
       "0         7.165589           0.0                    1.0         20.64   \n",
       "1         6.067401           0.0                    1.0         25.55   \n",
       "2         4.111547           0.0                    1.0         17.64   \n",
       "3         6.411079           0.0                    1.0         12.80   \n",
       "4         4.769377           0.0                    1.0         18.00   \n",
       "...            ...           ...                    ...           ...   \n",
       "174995    8.732495           0.0                    1.0         28.08   \n",
       "174996    0.283275           0.0                    1.0         59.95   \n",
       "174997    4.245354           0.0                    1.0         33.50   \n",
       "174998   10.479776           0.0                    1.0         40.80   \n",
       "174999    6.541699           0.0                    1.0         16.32   \n",
       "\n",
       "        congestion_surcharge  Airport_fee  trip_time  \n",
       "0                        2.5         0.00  45.600000  \n",
       "1                        2.5         0.00  63.433333  \n",
       "2                        2.5         0.00  53.650000  \n",
       "3                        2.5         0.00  56.866667  \n",
       "4                        2.5         0.00  18.833333  \n",
       "...                      ...          ...        ...  \n",
       "174995                   2.5         0.00  28.583333  \n",
       "174996                   2.5         1.75  61.400000  \n",
       "174997                   2.5         0.00  70.033333  \n",
       "174998                   2.5         0.00  38.366667  \n",
       "174999                   2.5         0.00  87.983333  \n",
       "\n",
       "[175000 rows x 16 columns]"
      ]
     },
     "execution_count": 21,
     "metadata": {},
     "output_type": "execute_result"
    }
   ],
   "source": [
    "from sklearn.impute import SimpleImputer\n",
    "si=SimpleImputer(strategy='most_frequent')\n",
    "df[string_nan_cols] = si.fit_transform(df[string_nan_cols])\n",
    "df[['RatecodeID']] = si.fit_transform(df[['RatecodeID']])\n",
    "df"
   ]
  },
  {
   "cell_type": "code",
   "execution_count": 22,
   "id": "692ef5ad",
   "metadata": {
    "execution": {
     "iopub.execute_input": "2023-12-15T17:39:12.035985Z",
     "iopub.status.busy": "2023-12-15T17:39:12.035291Z",
     "iopub.status.idle": "2023-12-15T17:39:12.819699Z",
     "shell.execute_reply": "2023-12-15T17:39:12.818195Z"
    },
    "papermill": {
     "duration": 0.842023,
     "end_time": "2023-12-15T17:39:12.822607",
     "exception": false,
     "start_time": "2023-12-15T17:39:11.980584",
     "status": "completed"
    },
    "tags": []
   },
   "outputs": [
    {
     "data": {
      "image/png": "[encoded data removed]",
      "text/plain": [
       "<Figure size 1000x600 with 1 Axes>"
      ]
     },
     "metadata": {},
     "output_type": "display_data"
    }
   ],
   "source": [
    "# plot after imputing \n",
    "import matplotlib.pyplot as plt\n",
    "plt.figure(figsize=(10, 6))\n",
    "plt.scatter(df['RatecodeID'],df['total_amount'], color='green', alpha=0.5)\n",
    "plt.title('Scatter Plot of RatecodeID vs total_amount')\n",
    "plt.xlabel('RatecodeID')\n",
    "plt.ylabel('total_amount')\n",
    "plt.grid(True)\n",
    "plt.show()"
   ]
  },
  {
   "cell_type": "code",
   "execution_count": 23,
   "id": "11ef4a98",
   "metadata": {
    "execution": {
     "iopub.execute_input": "2023-12-15T17:39:12.935113Z",
     "iopub.status.busy": "2023-12-15T17:39:12.934694Z",
     "iopub.status.idle": "2023-12-15T17:39:12.987889Z",
     "shell.execute_reply": "2023-12-15T17:39:12.986241Z"
    },
    "papermill": {
     "duration": 0.113492,
     "end_time": "2023-12-15T17:39:12.990849",
     "exception": false,
     "start_time": "2023-12-15T17:39:12.877357",
     "status": "completed"
    },
    "tags": []
   },
   "outputs": [
    {
     "data": {
      "text/plain": [
       "Series([], dtype: int64)"
      ]
     },
     "execution_count": 23,
     "metadata": {},
     "output_type": "execute_result"
    }
   ],
   "source": [
    "# Checking for missing values \n",
    "missing_df_values = df.isnull().sum()\n",
    "filter_miss_df = missing_df_values.loc[missing_df_values != 0]\n",
    "filter_miss_df"
   ]
  },
  {
   "cell_type": "code",
   "execution_count": 24,
   "id": "d861cdd8",
   "metadata": {
    "execution": {
     "iopub.execute_input": "2023-12-15T17:39:13.098058Z",
     "iopub.status.busy": "2023-12-15T17:39:13.097644Z",
     "iopub.status.idle": "2023-12-15T17:39:13.155287Z",
     "shell.execute_reply": "2023-12-15T17:39:13.153657Z"
    },
    "papermill": {
     "duration": 0.113614,
     "end_time": "2023-12-15T17:39:13.158143",
     "exception": false,
     "start_time": "2023-12-15T17:39:13.044529",
     "status": "completed"
    },
    "tags": []
   },
   "outputs": [
    {
     "name": "stdout",
     "output_type": "stream",
     "text": [
      "<class 'pandas.core.frame.DataFrame'>\n",
      "RangeIndex: 175000 entries, 0 to 174999\n",
      "Data columns (total 16 columns):\n",
      " #   Column                 Non-Null Count   Dtype  \n",
      "---  ------                 --------------   -----  \n",
      " 0   VendorID               175000 non-null  int64  \n",
      " 1   passenger_count        175000 non-null  float64\n",
      " 2   trip_distance          175000 non-null  float64\n",
      " 3   RatecodeID             175000 non-null  float64\n",
      " 4   store_and_fwd_flag     175000 non-null  object \n",
      " 5   PULocationID           175000 non-null  int64  \n",
      " 6   DOLocationID           175000 non-null  int64  \n",
      " 7   payment_type           175000 non-null  object \n",
      " 8   extra                  175000 non-null  float64\n",
      " 9   tip_amount             175000 non-null  float64\n",
      " 10  tolls_amount           175000 non-null  float64\n",
      " 11  improvement_surcharge  175000 non-null  float64\n",
      " 12  total_amount           175000 non-null  float64\n",
      " 13  congestion_surcharge   175000 non-null  float64\n",
      " 14  Airport_fee            175000 non-null  float64\n",
      " 15  trip_time              175000 non-null  float64\n",
      "dtypes: float64(11), int64(3), object(2)\n",
      "memory usage: 21.4+ MB\n"
     ]
    }
   ],
   "source": [
    "df.info()"
   ]
  },
  {
   "cell_type": "code",
   "execution_count": 25,
   "id": "475160bf",
   "metadata": {
    "execution": {
     "iopub.execute_input": "2023-12-15T17:39:13.264472Z",
     "iopub.status.busy": "2023-12-15T17:39:13.264021Z",
     "iopub.status.idle": "2023-12-15T17:39:13.291151Z",
     "shell.execute_reply": "2023-12-15T17:39:13.289987Z"
    },
    "papermill": {
     "duration": 0.083683,
     "end_time": "2023-12-15T17:39:13.294411",
     "exception": false,
     "start_time": "2023-12-15T17:39:13.210728",
     "status": "completed"
    },
    "tags": []
   },
   "outputs": [],
   "source": [
    "# Splitting the dataset into target variable and train variable set\n",
    "x = df.drop(\"total_amount\" , axis=1)\n",
    "y = df[\"total_amount\"]"
   ]
  },
  {
   "cell_type": "code",
   "execution_count": 26,
   "id": "04fff1d1",
   "metadata": {
    "execution": {
     "iopub.execute_input": "2023-12-15T17:39:13.401635Z",
     "iopub.status.busy": "2023-12-15T17:39:13.401202Z",
     "iopub.status.idle": "2023-12-15T17:39:13.816337Z",
     "shell.execute_reply": "2023-12-15T17:39:13.815219Z"
    },
    "papermill": {
     "duration": 0.473108,
     "end_time": "2023-12-15T17:39:13.820131",
     "exception": false,
     "start_time": "2023-12-15T17:39:13.347023",
     "status": "completed"
    },
    "tags": []
   },
   "outputs": [
    {
     "name": "stdout",
     "output_type": "stream",
     "text": [
      "Original DataFrame:\n",
      "        VendorID  passenger_count  trip_distance  RatecodeID  \\\n",
      "0              1              1.0           2.14         1.0   \n",
      "1              0              1.0           2.70         1.0   \n",
      "2              1              1.0           1.15         1.0   \n",
      "3              0              1.0           0.40         1.0   \n",
      "4              1              3.0           1.10         1.0   \n",
      "...          ...              ...            ...         ...   \n",
      "174995         1              3.0           3.45         1.0   \n",
      "174996         1              1.0           9.44         1.0   \n",
      "174997         0              1.0           2.40         1.0   \n",
      "174998         1              1.0           4.71         1.0   \n",
      "174999         1              1.0           1.01         1.0   \n",
      "\n",
      "       store_and_fwd_flag  PULocationID  DOLocationID payment_type  extra  \\\n",
      "0                       N           120             9  Credit Card    2.5   \n",
      "1                       N            15           215  Credit Card    3.5   \n",
      "2                       N           167           223  Credit Card    0.0   \n",
      "3                       N           128           239  Credit Card    2.5   \n",
      "4                       N           203            52  Credit Card    1.0   \n",
      "...                   ...           ...           ...          ...    ...   \n",
      "174995                  N           147           167  Credit Card    1.0   \n",
      "174996                  N           154           191         Cash    5.0   \n",
      "174997                  N           168           106  Credit Card    2.5   \n",
      "174998                  N           240           100  Credit Card    2.5   \n",
      "174999                  N           153            72  Credit Card    1.0   \n",
      "\n",
      "        tip_amount  tolls_amount  improvement_surcharge  congestion_surcharge  \\\n",
      "0         7.165589           0.0                    1.0                   2.5   \n",
      "1         6.067401           0.0                    1.0                   2.5   \n",
      "2         4.111547           0.0                    1.0                   2.5   \n",
      "3         6.411079           0.0                    1.0                   2.5   \n",
      "4         4.769377           0.0                    1.0                   2.5   \n",
      "...            ...           ...                    ...                   ...   \n",
      "174995    8.732495           0.0                    1.0                   2.5   \n",
      "174996    0.283275           0.0                    1.0                   2.5   \n",
      "174997    4.245354           0.0                    1.0                   2.5   \n",
      "174998   10.479776           0.0                    1.0                   2.5   \n",
      "174999    6.541699           0.0                    1.0                   2.5   \n",
      "\n",
      "        Airport_fee  trip_time  \n",
      "0              0.00  45.600000  \n",
      "1              0.00  63.433333  \n",
      "2              0.00  53.650000  \n",
      "3              0.00  56.866667  \n",
      "4              0.00  18.833333  \n",
      "...             ...        ...  \n",
      "174995         0.00  28.583333  \n",
      "174996         1.75  61.400000  \n",
      "174997         0.00  70.033333  \n",
      "174998         0.00  38.366667  \n",
      "174999         0.00  87.983333  \n",
      "\n",
      "[175000 rows x 15 columns]\n",
      "\n",
      "Transformed DataFrame:\n",
      "        VendorID  passenger_count  trip_distance  RatecodeID  PULocationID  \\\n",
      "0            0.0              0.0       0.118577         0.0     -0.098485   \n",
      "1           -1.0              0.0       0.339921         0.0     -0.893939   \n",
      "2            0.0              0.0      -0.272727         0.0      0.257576   \n",
      "3           -1.0              0.0      -0.569170         0.0     -0.037879   \n",
      "4            0.0              2.0      -0.292490         0.0      0.530303   \n",
      "...          ...              ...            ...         ...           ...   \n",
      "174995       0.0              2.0       0.636364         0.0      0.106061   \n",
      "174996       0.0              0.0       3.003953         0.0      0.159091   \n",
      "174997      -1.0              0.0       0.221344         0.0      0.265152   \n",
      "174998       0.0              0.0       1.134387         0.0      0.810606   \n",
      "174999       0.0              0.0      -0.328063         0.0      0.151515   \n",
      "\n",
      "        DOLocationID  extra  tip_amount  tolls_amount  improvement_surcharge  \\\n",
      "0          -0.939394    0.6    0.466412           0.0                    0.0   \n",
      "1           0.621212    1.0    0.193870           0.0                    0.0   \n",
      "2           0.681818   -0.4   -0.291523           0.0                    0.0   \n",
      "3           0.803030    0.6    0.279162           0.0                    0.0   \n",
      "4          -0.613636    0.0   -0.128266           0.0                    0.0   \n",
      "...              ...    ...         ...           ...                    ...   \n",
      "174995      0.257576    0.0    0.855278           0.0                    0.0   \n",
      "174996      0.439394    1.6   -1.241602           0.0                    0.0   \n",
      "174997     -0.204545    0.6   -0.258316           0.0                    0.0   \n",
      "174998     -0.250000    0.6    1.288908           0.0                    0.0   \n",
      "174999     -0.462121    0.0    0.311578           0.0                    0.0   \n",
      "\n",
      "        congestion_surcharge  Airport_fee  trip_time  store_and_fwd_flag_N  \\\n",
      "0                        0.0         0.00   0.165052                   1.0   \n",
      "1                        0.0         0.00   0.548977                   1.0   \n",
      "2                        0.0         0.00   0.338357                   1.0   \n",
      "3                        0.0         0.00   0.407607                   1.0   \n",
      "4                        0.0         0.00  -0.411195                   1.0   \n",
      "...                      ...          ...        ...                   ...   \n",
      "174995                   0.0         0.00  -0.201292                   1.0   \n",
      "174996                   0.0         1.75   0.505203                   1.0   \n",
      "174997                   0.0         0.00   0.691066                   1.0   \n",
      "174998                   0.0         0.00   0.009329                   1.0   \n",
      "174999                   0.0         0.00   1.077503                   1.0   \n",
      "\n",
      "        store_and_fwd_flag_Y  payment_type_Cash  payment_type_Credit Card  \\\n",
      "0                        0.0                0.0                       1.0   \n",
      "1                        0.0                0.0                       1.0   \n",
      "2                        0.0                0.0                       1.0   \n",
      "3                        0.0                0.0                       1.0   \n",
      "4                        0.0                0.0                       1.0   \n",
      "...                      ...                ...                       ...   \n",
      "174995                   0.0                0.0                       1.0   \n",
      "174996                   0.0                1.0                       0.0   \n",
      "174997                   0.0                0.0                       1.0   \n",
      "174998                   0.0                0.0                       1.0   \n",
      "174999                   0.0                0.0                       1.0   \n",
      "\n",
      "        payment_type_UPI  payment_type_Wallet  payment_type_unknown  \n",
      "0                    0.0                  0.0                   0.0  \n",
      "1                    0.0                  0.0                   0.0  \n",
      "2                    0.0                  0.0                   0.0  \n",
      "3                    0.0                  0.0                   0.0  \n",
      "4                    0.0                  0.0                   0.0  \n",
      "...                  ...                  ...                   ...  \n",
      "174995               0.0                  0.0                   0.0  \n",
      "174996               0.0                  0.0                   0.0  \n",
      "174997               0.0                  0.0                   0.0  \n",
      "174998               0.0                  0.0                   0.0  \n",
      "174999               0.0                  0.0                   0.0  \n",
      "\n",
      "[175000 rows x 20 columns]\n"
     ]
    }
   ],
   "source": [
    "# Using scaler and encoder on the dataset\n",
    "import pandas as pd\n",
    "import numpy as np\n",
    "from sklearn.compose import ColumnTransformer, make_column_transformer, make_column_selector\n",
    "from sklearn.pipeline import Pipeline, make_pipeline\n",
    "from sklearn.preprocessing import OneHotEncoder, RobustScaler\n",
    "from sklearn.impute import SimpleImputer\n",
    "from sklearn.compose import make_column_transformer\n",
    "\n",
    "\n",
    "# Identify numeric and string columns\n",
    "numeric_cols = x.select_dtypes(include=['float64', 'int64']).columns\n",
    "string_cols = x.select_dtypes(include=['object']).columns\n",
    "\n",
    "# Create transformers with specified columns\n",
    "numeric_transformer = Pipeline(steps=[\n",
    "    ('scaler', RobustScaler())\n",
    "])\n",
    "\n",
    "string_transformer = Pipeline(steps=[\n",
    "    ('onehot', OneHotEncoder(handle_unknown='ignore'))\n",
    "])\n",
    "\n",
    "# Create column transformer\n",
    "preprocessor = make_column_transformer(\n",
    "    (numeric_transformer, numeric_cols),\n",
    "    (string_transformer, string_cols)\n",
    ")\n",
    "\n",
    "# Create the full pipeline\n",
    "pipeline = make_pipeline(preprocessor)\n",
    "\n",
    "# Apply the pipeline to the DataFrame\n",
    "x_transformed = pipeline.fit_transform(x)\n",
    "\n",
    "# Convert the result back to a DataFrame\n",
    "columns = ['VendorID', 'passenger_count', 'trip_distance', 'RatecodeID',\n",
    "       'PULocationID', 'DOLocationID', 'extra', 'tip_amount', 'tolls_amount',\n",
    "       'improvement_surcharge', 'congestion_surcharge',\n",
    "       'Airport_fee', 'trip_time','store_and_fwd_flag_N',\n",
    "       'store_and_fwd_flag_Y', 'payment_type_Cash', 'payment_type_Credit Card',\n",
    "       'payment_type_UPI', 'payment_type_Wallet', 'payment_type_unknown']\n",
    "x_transformed = pd.DataFrame(x_transformed, columns=columns)\n",
    "\n",
    "# Display the original and transformed DataFrames\n",
    "print(\"Original DataFrame:\")\n",
    "print(x)\n",
    "print(\"\\nTransformed DataFrame:\")\n",
    "print(x_transformed)\n"
   ]
  },
  {
   "cell_type": "code",
   "execution_count": 27,
   "id": "672c07e5",
   "metadata": {
    "execution": {
     "iopub.execute_input": "2023-12-15T17:39:13.933037Z",
     "iopub.status.busy": "2023-12-15T17:39:13.932611Z",
     "iopub.status.idle": "2023-12-15T17:39:13.976517Z",
     "shell.execute_reply": "2023-12-15T17:39:13.975275Z"
    },
    "papermill": {
     "duration": 0.103002,
     "end_time": "2023-12-15T17:39:13.978972",
     "exception": false,
     "start_time": "2023-12-15T17:39:13.875970",
     "status": "completed"
    },
    "tags": []
   },
   "outputs": [
    {
     "data": {
      "text/html": [
       "<div>\n",
       "<style scoped>\n",
       "    .dataframe tbody tr th:only-of-type {\n",
       "        vertical-align: middle;\n",
       "    }\n",
       "\n",
       "    .dataframe tbody tr th {\n",
       "        vertical-align: top;\n",
       "    }\n",
       "\n",
       "    .dataframe thead th {\n",
       "        text-align: right;\n",
       "    }\n",
       "</style>\n",
       "<table border=\"1\" class=\"dataframe\">\n",
       "  <thead>\n",
       "    <tr style=\"text-align: right;\">\n",
       "      <th></th>\n",
       "      <th>VendorID</th>\n",
       "      <th>passenger_count</th>\n",
       "      <th>trip_distance</th>\n",
       "      <th>RatecodeID</th>\n",
       "      <th>PULocationID</th>\n",
       "      <th>DOLocationID</th>\n",
       "      <th>extra</th>\n",
       "      <th>tip_amount</th>\n",
       "      <th>tolls_amount</th>\n",
       "      <th>improvement_surcharge</th>\n",
       "      <th>congestion_surcharge</th>\n",
       "      <th>Airport_fee</th>\n",
       "      <th>trip_time</th>\n",
       "      <th>store_and_fwd_flag_N</th>\n",
       "      <th>store_and_fwd_flag_Y</th>\n",
       "      <th>payment_type_Cash</th>\n",
       "      <th>payment_type_Credit Card</th>\n",
       "      <th>payment_type_UPI</th>\n",
       "      <th>payment_type_Wallet</th>\n",
       "      <th>payment_type_unknown</th>\n",
       "    </tr>\n",
       "  </thead>\n",
       "  <tbody>\n",
       "    <tr>\n",
       "      <th>0</th>\n",
       "      <td>0.0</td>\n",
       "      <td>0.0</td>\n",
       "      <td>0.118577</td>\n",
       "      <td>0.0</td>\n",
       "      <td>-0.098485</td>\n",
       "      <td>-0.939394</td>\n",
       "      <td>0.6</td>\n",
       "      <td>0.466412</td>\n",
       "      <td>0.0</td>\n",
       "      <td>0.0</td>\n",
       "      <td>0.0</td>\n",
       "      <td>0.00</td>\n",
       "      <td>0.165052</td>\n",
       "      <td>1.0</td>\n",
       "      <td>0.0</td>\n",
       "      <td>0.0</td>\n",
       "      <td>1.0</td>\n",
       "      <td>0.0</td>\n",
       "      <td>0.0</td>\n",
       "      <td>0.0</td>\n",
       "    </tr>\n",
       "    <tr>\n",
       "      <th>1</th>\n",
       "      <td>-1.0</td>\n",
       "      <td>0.0</td>\n",
       "      <td>0.339921</td>\n",
       "      <td>0.0</td>\n",
       "      <td>-0.893939</td>\n",
       "      <td>0.621212</td>\n",
       "      <td>1.0</td>\n",
       "      <td>0.193870</td>\n",
       "      <td>0.0</td>\n",
       "      <td>0.0</td>\n",
       "      <td>0.0</td>\n",
       "      <td>0.00</td>\n",
       "      <td>0.548977</td>\n",
       "      <td>1.0</td>\n",
       "      <td>0.0</td>\n",
       "      <td>0.0</td>\n",
       "      <td>1.0</td>\n",
       "      <td>0.0</td>\n",
       "      <td>0.0</td>\n",
       "      <td>0.0</td>\n",
       "    </tr>\n",
       "    <tr>\n",
       "      <th>2</th>\n",
       "      <td>0.0</td>\n",
       "      <td>0.0</td>\n",
       "      <td>-0.272727</td>\n",
       "      <td>0.0</td>\n",
       "      <td>0.257576</td>\n",
       "      <td>0.681818</td>\n",
       "      <td>-0.4</td>\n",
       "      <td>-0.291523</td>\n",
       "      <td>0.0</td>\n",
       "      <td>0.0</td>\n",
       "      <td>0.0</td>\n",
       "      <td>0.00</td>\n",
       "      <td>0.338357</td>\n",
       "      <td>1.0</td>\n",
       "      <td>0.0</td>\n",
       "      <td>0.0</td>\n",
       "      <td>1.0</td>\n",
       "      <td>0.0</td>\n",
       "      <td>0.0</td>\n",
       "      <td>0.0</td>\n",
       "    </tr>\n",
       "    <tr>\n",
       "      <th>3</th>\n",
       "      <td>-1.0</td>\n",
       "      <td>0.0</td>\n",
       "      <td>-0.569170</td>\n",
       "      <td>0.0</td>\n",
       "      <td>-0.037879</td>\n",
       "      <td>0.803030</td>\n",
       "      <td>0.6</td>\n",
       "      <td>0.279162</td>\n",
       "      <td>0.0</td>\n",
       "      <td>0.0</td>\n",
       "      <td>0.0</td>\n",
       "      <td>0.00</td>\n",
       "      <td>0.407607</td>\n",
       "      <td>1.0</td>\n",
       "      <td>0.0</td>\n",
       "      <td>0.0</td>\n",
       "      <td>1.0</td>\n",
       "      <td>0.0</td>\n",
       "      <td>0.0</td>\n",
       "      <td>0.0</td>\n",
       "    </tr>\n",
       "    <tr>\n",
       "      <th>4</th>\n",
       "      <td>0.0</td>\n",
       "      <td>2.0</td>\n",
       "      <td>-0.292490</td>\n",
       "      <td>0.0</td>\n",
       "      <td>0.530303</td>\n",
       "      <td>-0.613636</td>\n",
       "      <td>0.0</td>\n",
       "      <td>-0.128266</td>\n",
       "      <td>0.0</td>\n",
       "      <td>0.0</td>\n",
       "      <td>0.0</td>\n",
       "      <td>0.00</td>\n",
       "      <td>-0.411195</td>\n",
       "      <td>1.0</td>\n",
       "      <td>0.0</td>\n",
       "      <td>0.0</td>\n",
       "      <td>1.0</td>\n",
       "      <td>0.0</td>\n",
       "      <td>0.0</td>\n",
       "      <td>0.0</td>\n",
       "    </tr>\n",
       "    <tr>\n",
       "      <th>...</th>\n",
       "      <td>...</td>\n",
       "      <td>...</td>\n",
       "      <td>...</td>\n",
       "      <td>...</td>\n",
       "      <td>...</td>\n",
       "      <td>...</td>\n",
       "      <td>...</td>\n",
       "      <td>...</td>\n",
       "      <td>...</td>\n",
       "      <td>...</td>\n",
       "      <td>...</td>\n",
       "      <td>...</td>\n",
       "      <td>...</td>\n",
       "      <td>...</td>\n",
       "      <td>...</td>\n",
       "      <td>...</td>\n",
       "      <td>...</td>\n",
       "      <td>...</td>\n",
       "      <td>...</td>\n",
       "      <td>...</td>\n",
       "    </tr>\n",
       "    <tr>\n",
       "      <th>174995</th>\n",
       "      <td>0.0</td>\n",
       "      <td>2.0</td>\n",
       "      <td>0.636364</td>\n",
       "      <td>0.0</td>\n",
       "      <td>0.106061</td>\n",
       "      <td>0.257576</td>\n",
       "      <td>0.0</td>\n",
       "      <td>0.855278</td>\n",
       "      <td>0.0</td>\n",
       "      <td>0.0</td>\n",
       "      <td>0.0</td>\n",
       "      <td>0.00</td>\n",
       "      <td>-0.201292</td>\n",
       "      <td>1.0</td>\n",
       "      <td>0.0</td>\n",
       "      <td>0.0</td>\n",
       "      <td>1.0</td>\n",
       "      <td>0.0</td>\n",
       "      <td>0.0</td>\n",
       "      <td>0.0</td>\n",
       "    </tr>\n",
       "    <tr>\n",
       "      <th>174996</th>\n",
       "      <td>0.0</td>\n",
       "      <td>0.0</td>\n",
       "      <td>3.003953</td>\n",
       "      <td>0.0</td>\n",
       "      <td>0.159091</td>\n",
       "      <td>0.439394</td>\n",
       "      <td>1.6</td>\n",
       "      <td>-1.241602</td>\n",
       "      <td>0.0</td>\n",
       "      <td>0.0</td>\n",
       "      <td>0.0</td>\n",
       "      <td>1.75</td>\n",
       "      <td>0.505203</td>\n",
       "      <td>1.0</td>\n",
       "      <td>0.0</td>\n",
       "      <td>1.0</td>\n",
       "      <td>0.0</td>\n",
       "      <td>0.0</td>\n",
       "      <td>0.0</td>\n",
       "      <td>0.0</td>\n",
       "    </tr>\n",
       "    <tr>\n",
       "      <th>174997</th>\n",
       "      <td>-1.0</td>\n",
       "      <td>0.0</td>\n",
       "      <td>0.221344</td>\n",
       "      <td>0.0</td>\n",
       "      <td>0.265152</td>\n",
       "      <td>-0.204545</td>\n",
       "      <td>0.6</td>\n",
       "      <td>-0.258316</td>\n",
       "      <td>0.0</td>\n",
       "      <td>0.0</td>\n",
       "      <td>0.0</td>\n",
       "      <td>0.00</td>\n",
       "      <td>0.691066</td>\n",
       "      <td>1.0</td>\n",
       "      <td>0.0</td>\n",
       "      <td>0.0</td>\n",
       "      <td>1.0</td>\n",
       "      <td>0.0</td>\n",
       "      <td>0.0</td>\n",
       "      <td>0.0</td>\n",
       "    </tr>\n",
       "    <tr>\n",
       "      <th>174998</th>\n",
       "      <td>0.0</td>\n",
       "      <td>0.0</td>\n",
       "      <td>1.134387</td>\n",
       "      <td>0.0</td>\n",
       "      <td>0.810606</td>\n",
       "      <td>-0.250000</td>\n",
       "      <td>0.6</td>\n",
       "      <td>1.288908</td>\n",
       "      <td>0.0</td>\n",
       "      <td>0.0</td>\n",
       "      <td>0.0</td>\n",
       "      <td>0.00</td>\n",
       "      <td>0.009329</td>\n",
       "      <td>1.0</td>\n",
       "      <td>0.0</td>\n",
       "      <td>0.0</td>\n",
       "      <td>1.0</td>\n",
       "      <td>0.0</td>\n",
       "      <td>0.0</td>\n",
       "      <td>0.0</td>\n",
       "    </tr>\n",
       "    <tr>\n",
       "      <th>174999</th>\n",
       "      <td>0.0</td>\n",
       "      <td>0.0</td>\n",
       "      <td>-0.328063</td>\n",
       "      <td>0.0</td>\n",
       "      <td>0.151515</td>\n",
       "      <td>-0.462121</td>\n",
       "      <td>0.0</td>\n",
       "      <td>0.311578</td>\n",
       "      <td>0.0</td>\n",
       "      <td>0.0</td>\n",
       "      <td>0.0</td>\n",
       "      <td>0.00</td>\n",
       "      <td>1.077503</td>\n",
       "      <td>1.0</td>\n",
       "      <td>0.0</td>\n",
       "      <td>0.0</td>\n",
       "      <td>1.0</td>\n",
       "      <td>0.0</td>\n",
       "      <td>0.0</td>\n",
       "      <td>0.0</td>\n",
       "    </tr>\n",
       "  </tbody>\n",
       "</table>\n",
       "<p>175000 rows × 20 columns</p>\n",
       "</div>"
      ],
      "text/plain": [
       "        VendorID  passenger_count  trip_distance  RatecodeID  PULocationID  \\\n",
       "0            0.0              0.0       0.118577         0.0     -0.098485   \n",
       "1           -1.0              0.0       0.339921         0.0     -0.893939   \n",
       "2            0.0              0.0      -0.272727         0.0      0.257576   \n",
       "3           -1.0              0.0      -0.569170         0.0     -0.037879   \n",
       "4            0.0              2.0      -0.292490         0.0      0.530303   \n",
       "...          ...              ...            ...         ...           ...   \n",
       "174995       0.0              2.0       0.636364         0.0      0.106061   \n",
       "174996       0.0              0.0       3.003953         0.0      0.159091   \n",
       "174997      -1.0              0.0       0.221344         0.0      0.265152   \n",
       "174998       0.0              0.0       1.134387         0.0      0.810606   \n",
       "174999       0.0              0.0      -0.328063         0.0      0.151515   \n",
       "\n",
       "        DOLocationID  extra  tip_amount  tolls_amount  improvement_surcharge  \\\n",
       "0          -0.939394    0.6    0.466412           0.0                    0.0   \n",
       "1           0.621212    1.0    0.193870           0.0                    0.0   \n",
       "2           0.681818   -0.4   -0.291523           0.0                    0.0   \n",
       "3           0.803030    0.6    0.279162           0.0                    0.0   \n",
       "4          -0.613636    0.0   -0.128266           0.0                    0.0   \n",
       "...              ...    ...         ...           ...                    ...   \n",
       "174995      0.257576    0.0    0.855278           0.0                    0.0   \n",
       "174996      0.439394    1.6   -1.241602           0.0                    0.0   \n",
       "174997     -0.204545    0.6   -0.258316           0.0                    0.0   \n",
       "174998     -0.250000    0.6    1.288908           0.0                    0.0   \n",
       "174999     -0.462121    0.0    0.311578           0.0                    0.0   \n",
       "\n",
       "        congestion_surcharge  Airport_fee  trip_time  store_and_fwd_flag_N  \\\n",
       "0                        0.0         0.00   0.165052                   1.0   \n",
       "1                        0.0         0.00   0.548977                   1.0   \n",
       "2                        0.0         0.00   0.338357                   1.0   \n",
       "3                        0.0         0.00   0.407607                   1.0   \n",
       "4                        0.0         0.00  -0.411195                   1.0   \n",
       "...                      ...          ...        ...                   ...   \n",
       "174995                   0.0         0.00  -0.201292                   1.0   \n",
       "174996                   0.0         1.75   0.505203                   1.0   \n",
       "174997                   0.0         0.00   0.691066                   1.0   \n",
       "174998                   0.0         0.00   0.009329                   1.0   \n",
       "174999                   0.0         0.00   1.077503                   1.0   \n",
       "\n",
       "        store_and_fwd_flag_Y  payment_type_Cash  payment_type_Credit Card  \\\n",
       "0                        0.0                0.0                       1.0   \n",
       "1                        0.0                0.0                       1.0   \n",
       "2                        0.0                0.0                       1.0   \n",
       "3                        0.0                0.0                       1.0   \n",
       "4                        0.0                0.0                       1.0   \n",
       "...                      ...                ...                       ...   \n",
       "174995                   0.0                0.0                       1.0   \n",
       "174996                   0.0                1.0                       0.0   \n",
       "174997                   0.0                0.0                       1.0   \n",
       "174998                   0.0                0.0                       1.0   \n",
       "174999                   0.0                0.0                       1.0   \n",
       "\n",
       "        payment_type_UPI  payment_type_Wallet  payment_type_unknown  \n",
       "0                    0.0                  0.0                   0.0  \n",
       "1                    0.0                  0.0                   0.0  \n",
       "2                    0.0                  0.0                   0.0  \n",
       "3                    0.0                  0.0                   0.0  \n",
       "4                    0.0                  0.0                   0.0  \n",
       "...                  ...                  ...                   ...  \n",
       "174995               0.0                  0.0                   0.0  \n",
       "174996               0.0                  0.0                   0.0  \n",
       "174997               0.0                  0.0                   0.0  \n",
       "174998               0.0                  0.0                   0.0  \n",
       "174999               0.0                  0.0                   0.0  \n",
       "\n",
       "[175000 rows x 20 columns]"
      ]
     },
     "execution_count": 27,
     "metadata": {},
     "output_type": "execute_result"
    }
   ],
   "source": [
    "x_transformed"
   ]
  },
  {
   "cell_type": "code",
   "execution_count": 28,
   "id": "d80c3c36",
   "metadata": {
    "execution": {
     "iopub.execute_input": "2023-12-15T17:39:14.087651Z",
     "iopub.status.busy": "2023-12-15T17:39:14.086955Z",
     "iopub.status.idle": "2023-12-15T17:39:14.314080Z",
     "shell.execute_reply": "2023-12-15T17:39:14.312566Z"
    },
    "papermill": {
     "duration": 0.28509,
     "end_time": "2023-12-15T17:39:14.316985",
     "exception": false,
     "start_time": "2023-12-15T17:39:14.031895",
     "status": "completed"
    },
    "tags": []
   },
   "outputs": [
    {
     "data": {
      "text/html": [
       "<div>\n",
       "<style scoped>\n",
       "    .dataframe tbody tr th:only-of-type {\n",
       "        vertical-align: middle;\n",
       "    }\n",
       "\n",
       "    .dataframe tbody tr th {\n",
       "        vertical-align: top;\n",
       "    }\n",
       "\n",
       "    .dataframe thead th {\n",
       "        text-align: right;\n",
       "    }\n",
       "</style>\n",
       "<table border=\"1\" class=\"dataframe\">\n",
       "  <thead>\n",
       "    <tr style=\"text-align: right;\">\n",
       "      <th></th>\n",
       "      <th>VendorID</th>\n",
       "      <th>passenger_count</th>\n",
       "      <th>trip_distance</th>\n",
       "      <th>RatecodeID</th>\n",
       "      <th>PULocationID</th>\n",
       "      <th>DOLocationID</th>\n",
       "      <th>extra</th>\n",
       "      <th>tip_amount</th>\n",
       "      <th>tolls_amount</th>\n",
       "      <th>improvement_surcharge</th>\n",
       "      <th>congestion_surcharge</th>\n",
       "      <th>Airport_fee</th>\n",
       "      <th>trip_time</th>\n",
       "      <th>store_and_fwd_flag_N</th>\n",
       "      <th>store_and_fwd_flag_Y</th>\n",
       "      <th>payment_type_Cash</th>\n",
       "      <th>payment_type_Credit Card</th>\n",
       "      <th>payment_type_UPI</th>\n",
       "      <th>payment_type_Wallet</th>\n",
       "      <th>payment_type_unknown</th>\n",
       "    </tr>\n",
       "  </thead>\n",
       "  <tbody>\n",
       "    <tr>\n",
       "      <th>count</th>\n",
       "      <td>175000.000000</td>\n",
       "      <td>175000.000000</td>\n",
       "      <td>175000.000000</td>\n",
       "      <td>175000.000000</td>\n",
       "      <td>175000.000000</td>\n",
       "      <td>175000.000000</td>\n",
       "      <td>175000.000000</td>\n",
       "      <td>175000.000000</td>\n",
       "      <td>175000.000000</td>\n",
       "      <td>175000.000000</td>\n",
       "      <td>175000.000000</td>\n",
       "      <td>175000.000000</td>\n",
       "      <td>175000.000000</td>\n",
       "      <td>175000.000000</td>\n",
       "      <td>175000.000000</td>\n",
       "      <td>175000.000000</td>\n",
       "      <td>175000.000000</td>\n",
       "      <td>175000.000000</td>\n",
       "      <td>175000.000000</td>\n",
       "      <td>175000.000000</td>\n",
       "    </tr>\n",
       "    <tr>\n",
       "      <th>mean</th>\n",
       "      <td>-0.271623</td>\n",
       "      <td>0.357678</td>\n",
       "      <td>0.724386</td>\n",
       "      <td>0.081429</td>\n",
       "      <td>-0.002194</td>\n",
       "      <td>-0.002262</td>\n",
       "      <td>0.372857</td>\n",
       "      <td>0.208784</td>\n",
       "      <td>0.646816</td>\n",
       "      <td>-0.020311</td>\n",
       "      <td>-0.253029</td>\n",
       "      <td>0.158825</td>\n",
       "      <td>0.142880</td>\n",
       "      <td>0.993177</td>\n",
       "      <td>0.006823</td>\n",
       "      <td>0.172234</td>\n",
       "      <td>0.772897</td>\n",
       "      <td>0.006811</td>\n",
       "      <td>0.034726</td>\n",
       "      <td>0.013331</td>\n",
       "    </tr>\n",
       "    <tr>\n",
       "      <th>std</th>\n",
       "      <td>0.445606</td>\n",
       "      <td>0.875671</td>\n",
       "      <td>1.918079</td>\n",
       "      <td>0.411630</td>\n",
       "      <td>0.576885</td>\n",
       "      <td>0.577216</td>\n",
       "      <td>0.779399</td>\n",
       "      <td>1.144291</td>\n",
       "      <td>2.328274</td>\n",
       "      <td>0.198775</td>\n",
       "      <td>0.804867</td>\n",
       "      <td>0.503000</td>\n",
       "      <td>1.012158</td>\n",
       "      <td>0.082319</td>\n",
       "      <td>0.082319</td>\n",
       "      <td>0.377585</td>\n",
       "      <td>0.418961</td>\n",
       "      <td>0.082250</td>\n",
       "      <td>0.183085</td>\n",
       "      <td>0.114690</td>\n",
       "    </tr>\n",
       "    <tr>\n",
       "      <th>min</th>\n",
       "      <td>-1.000000</td>\n",
       "      <td>-1.000000</td>\n",
       "      <td>-0.727273</td>\n",
       "      <td>0.000000</td>\n",
       "      <td>-1.000000</td>\n",
       "      <td>-1.000000</td>\n",
       "      <td>-3.400000</td>\n",
       "      <td>-1.311884</td>\n",
       "      <td>-29.300000</td>\n",
       "      <td>-2.000000</td>\n",
       "      <td>-5.000000</td>\n",
       "      <td>-1.750000</td>\n",
       "      <td>-0.816649</td>\n",
       "      <td>0.000000</td>\n",
       "      <td>0.000000</td>\n",
       "      <td>0.000000</td>\n",
       "      <td>0.000000</td>\n",
       "      <td>0.000000</td>\n",
       "      <td>0.000000</td>\n",
       "      <td>0.000000</td>\n",
       "    </tr>\n",
       "    <tr>\n",
       "      <th>25%</th>\n",
       "      <td>-1.000000</td>\n",
       "      <td>0.000000</td>\n",
       "      <td>-0.300395</td>\n",
       "      <td>0.000000</td>\n",
       "      <td>-0.500000</td>\n",
       "      <td>-0.500000</td>\n",
       "      <td>-0.400000</td>\n",
       "      <td>-0.449914</td>\n",
       "      <td>0.000000</td>\n",
       "      <td>0.000000</td>\n",
       "      <td>0.000000</td>\n",
       "      <td>0.000000</td>\n",
       "      <td>-0.433441</td>\n",
       "      <td>1.000000</td>\n",
       "      <td>0.000000</td>\n",
       "      <td>0.000000</td>\n",
       "      <td>1.000000</td>\n",
       "      <td>0.000000</td>\n",
       "      <td>0.000000</td>\n",
       "      <td>0.000000</td>\n",
       "    </tr>\n",
       "    <tr>\n",
       "      <th>50%</th>\n",
       "      <td>0.000000</td>\n",
       "      <td>0.000000</td>\n",
       "      <td>0.000000</td>\n",
       "      <td>0.000000</td>\n",
       "      <td>0.000000</td>\n",
       "      <td>0.000000</td>\n",
       "      <td>0.000000</td>\n",
       "      <td>0.000000</td>\n",
       "      <td>0.000000</td>\n",
       "      <td>0.000000</td>\n",
       "      <td>0.000000</td>\n",
       "      <td>0.000000</td>\n",
       "      <td>0.000000</td>\n",
       "      <td>1.000000</td>\n",
       "      <td>0.000000</td>\n",
       "      <td>0.000000</td>\n",
       "      <td>1.000000</td>\n",
       "      <td>0.000000</td>\n",
       "      <td>0.000000</td>\n",
       "      <td>0.000000</td>\n",
       "    </tr>\n",
       "    <tr>\n",
       "      <th>75%</th>\n",
       "      <td>0.000000</td>\n",
       "      <td>0.000000</td>\n",
       "      <td>0.699605</td>\n",
       "      <td>0.000000</td>\n",
       "      <td>0.500000</td>\n",
       "      <td>0.500000</td>\n",
       "      <td>0.600000</td>\n",
       "      <td>0.550086</td>\n",
       "      <td>0.000000</td>\n",
       "      <td>0.000000</td>\n",
       "      <td>0.000000</td>\n",
       "      <td>0.000000</td>\n",
       "      <td>0.566559</td>\n",
       "      <td>1.000000</td>\n",
       "      <td>0.000000</td>\n",
       "      <td>0.000000</td>\n",
       "      <td>1.000000</td>\n",
       "      <td>0.000000</td>\n",
       "      <td>0.000000</td>\n",
       "      <td>0.000000</td>\n",
       "    </tr>\n",
       "    <tr>\n",
       "      <th>max</th>\n",
       "      <td>1.000000</td>\n",
       "      <td>8.000000</td>\n",
       "      <td>32.537549</td>\n",
       "      <td>4.000000</td>\n",
       "      <td>0.992424</td>\n",
       "      <td>0.992424</td>\n",
       "      <td>4.300000</td>\n",
       "      <td>119.021944</td>\n",
       "      <td>80.000000</td>\n",
       "      <td>0.000000</td>\n",
       "      <td>0.000000</td>\n",
       "      <td>1.750000</td>\n",
       "      <td>32.275924</td>\n",
       "      <td>1.000000</td>\n",
       "      <td>1.000000</td>\n",
       "      <td>1.000000</td>\n",
       "      <td>1.000000</td>\n",
       "      <td>1.000000</td>\n",
       "      <td>1.000000</td>\n",
       "      <td>1.000000</td>\n",
       "    </tr>\n",
       "  </tbody>\n",
       "</table>\n",
       "</div>"
      ],
      "text/plain": [
       "            VendorID  passenger_count  trip_distance     RatecodeID  \\\n",
       "count  175000.000000    175000.000000  175000.000000  175000.000000   \n",
       "mean       -0.271623         0.357678       0.724386       0.081429   \n",
       "std         0.445606         0.875671       1.918079       0.411630   \n",
       "min        -1.000000        -1.000000      -0.727273       0.000000   \n",
       "25%        -1.000000         0.000000      -0.300395       0.000000   \n",
       "50%         0.000000         0.000000       0.000000       0.000000   \n",
       "75%         0.000000         0.000000       0.699605       0.000000   \n",
       "max         1.000000         8.000000      32.537549       4.000000   \n",
       "\n",
       "        PULocationID   DOLocationID          extra     tip_amount  \\\n",
       "count  175000.000000  175000.000000  175000.000000  175000.000000   \n",
       "mean       -0.002194      -0.002262       0.372857       0.208784   \n",
       "std         0.576885       0.577216       0.779399       1.144291   \n",
       "min        -1.000000      -1.000000      -3.400000      -1.311884   \n",
       "25%        -0.500000      -0.500000      -0.400000      -0.449914   \n",
       "50%         0.000000       0.000000       0.000000       0.000000   \n",
       "75%         0.500000       0.500000       0.600000       0.550086   \n",
       "max         0.992424       0.992424       4.300000     119.021944   \n",
       "\n",
       "        tolls_amount  improvement_surcharge  congestion_surcharge  \\\n",
       "count  175000.000000          175000.000000         175000.000000   \n",
       "mean        0.646816              -0.020311             -0.253029   \n",
       "std         2.328274               0.198775              0.804867   \n",
       "min       -29.300000              -2.000000             -5.000000   \n",
       "25%         0.000000               0.000000              0.000000   \n",
       "50%         0.000000               0.000000              0.000000   \n",
       "75%         0.000000               0.000000              0.000000   \n",
       "max        80.000000               0.000000              0.000000   \n",
       "\n",
       "         Airport_fee      trip_time  store_and_fwd_flag_N  \\\n",
       "count  175000.000000  175000.000000         175000.000000   \n",
       "mean        0.158825       0.142880              0.993177   \n",
       "std         0.503000       1.012158              0.082319   \n",
       "min        -1.750000      -0.816649              0.000000   \n",
       "25%         0.000000      -0.433441              1.000000   \n",
       "50%         0.000000       0.000000              1.000000   \n",
       "75%         0.000000       0.566559              1.000000   \n",
       "max         1.750000      32.275924              1.000000   \n",
       "\n",
       "       store_and_fwd_flag_Y  payment_type_Cash  payment_type_Credit Card  \\\n",
       "count         175000.000000      175000.000000             175000.000000   \n",
       "mean               0.006823           0.172234                  0.772897   \n",
       "std                0.082319           0.377585                  0.418961   \n",
       "min                0.000000           0.000000                  0.000000   \n",
       "25%                0.000000           0.000000                  1.000000   \n",
       "50%                0.000000           0.000000                  1.000000   \n",
       "75%                0.000000           0.000000                  1.000000   \n",
       "max                1.000000           1.000000                  1.000000   \n",
       "\n",
       "       payment_type_UPI  payment_type_Wallet  payment_type_unknown  \n",
       "count     175000.000000        175000.000000         175000.000000  \n",
       "mean           0.006811             0.034726              0.013331  \n",
       "std            0.082250             0.183085              0.114690  \n",
       "min            0.000000             0.000000              0.000000  \n",
       "25%            0.000000             0.000000              0.000000  \n",
       "50%            0.000000             0.000000              0.000000  \n",
       "75%            0.000000             0.000000              0.000000  \n",
       "max            1.000000             1.000000              1.000000  "
      ]
     },
     "execution_count": 28,
     "metadata": {},
     "output_type": "execute_result"
    }
   ],
   "source": [
    "x_transformed.describe()\n"
   ]
  },
  {
   "cell_type": "code",
   "execution_count": 29,
   "id": "b2e891e2",
   "metadata": {
    "execution": {
     "iopub.execute_input": "2023-12-15T17:39:14.426421Z",
     "iopub.status.busy": "2023-12-15T17:39:14.425716Z",
     "iopub.status.idle": "2023-12-15T17:39:14.456129Z",
     "shell.execute_reply": "2023-12-15T17:39:14.454924Z"
    },
    "papermill": {
     "duration": 0.088842,
     "end_time": "2023-12-15T17:39:14.459505",
     "exception": false,
     "start_time": "2023-12-15T17:39:14.370663",
     "status": "completed"
    },
    "tags": []
   },
   "outputs": [
    {
     "name": "stdout",
     "output_type": "stream",
     "text": [
      "<class 'pandas.core.frame.DataFrame'>\n",
      "RangeIndex: 175000 entries, 0 to 174999\n",
      "Data columns (total 20 columns):\n",
      " #   Column                    Non-Null Count   Dtype  \n",
      "---  ------                    --------------   -----  \n",
      " 0   VendorID                  175000 non-null  float64\n",
      " 1   passenger_count           175000 non-null  float64\n",
      " 2   trip_distance             175000 non-null  float64\n",
      " 3   RatecodeID                175000 non-null  float64\n",
      " 4   PULocationID              175000 non-null  float64\n",
      " 5   DOLocationID              175000 non-null  float64\n",
      " 6   extra                     175000 non-null  float64\n",
      " 7   tip_amount                175000 non-null  float64\n",
      " 8   tolls_amount              175000 non-null  float64\n",
      " 9   improvement_surcharge     175000 non-null  float64\n",
      " 10  congestion_surcharge      175000 non-null  float64\n",
      " 11  Airport_fee               175000 non-null  float64\n",
      " 12  trip_time                 175000 non-null  float64\n",
      " 13  store_and_fwd_flag_N      175000 non-null  float64\n",
      " 14  store_and_fwd_flag_Y      175000 non-null  float64\n",
      " 15  payment_type_Cash         175000 non-null  float64\n",
      " 16  payment_type_Credit Card  175000 non-null  float64\n",
      " 17  payment_type_UPI          175000 non-null  float64\n",
      " 18  payment_type_Wallet       175000 non-null  float64\n",
      " 19  payment_type_unknown      175000 non-null  float64\n",
      "dtypes: float64(20)\n",
      "memory usage: 26.7 MB\n"
     ]
    }
   ],
   "source": [
    "x_transformed.info()"
   ]
  },
  {
   "cell_type": "code",
   "execution_count": 30,
   "id": "7e614380",
   "metadata": {
    "execution": {
     "iopub.execute_input": "2023-12-15T17:39:14.570168Z",
     "iopub.status.busy": "2023-12-15T17:39:14.569765Z",
     "iopub.status.idle": "2023-12-15T17:39:14.580073Z",
     "shell.execute_reply": "2023-12-15T17:39:14.578619Z"
    },
    "papermill": {
     "duration": 0.069166,
     "end_time": "2023-12-15T17:39:14.583348",
     "exception": false,
     "start_time": "2023-12-15T17:39:14.514182",
     "status": "completed"
    },
    "tags": []
   },
   "outputs": [
    {
     "data": {
      "text/plain": [
       "0    20.64\n",
       "1    25.55\n",
       "2    17.64\n",
       "3    12.80\n",
       "4    18.00\n",
       "Name: total_amount, dtype: float64"
      ]
     },
     "execution_count": 30,
     "metadata": {},
     "output_type": "execute_result"
    }
   ],
   "source": [
    "y.head(5)"
   ]
  },
  {
   "cell_type": "code",
   "execution_count": 31,
   "id": "b06edbac",
   "metadata": {
    "execution": {
     "iopub.execute_input": "2023-12-15T17:39:14.694358Z",
     "iopub.status.busy": "2023-12-15T17:39:14.693205Z",
     "iopub.status.idle": "2023-12-15T17:39:14.753995Z",
     "shell.execute_reply": "2023-12-15T17:39:14.752277Z"
    },
    "papermill": {
     "duration": 0.120054,
     "end_time": "2023-12-15T17:39:14.757136",
     "exception": false,
     "start_time": "2023-12-15T17:39:14.637082",
     "status": "completed"
    },
    "tags": []
   },
   "outputs": [
    {
     "data": {
      "text/html": [
       "<div>\n",
       "<style scoped>\n",
       "    .dataframe tbody tr th:only-of-type {\n",
       "        vertical-align: middle;\n",
       "    }\n",
       "\n",
       "    .dataframe tbody tr th {\n",
       "        vertical-align: top;\n",
       "    }\n",
       "\n",
       "    .dataframe thead th {\n",
       "        text-align: right;\n",
       "    }\n",
       "</style>\n",
       "<table border=\"1\" class=\"dataframe\">\n",
       "  <thead>\n",
       "    <tr style=\"text-align: right;\">\n",
       "      <th></th>\n",
       "      <th>VendorID</th>\n",
       "      <th>passenger_count</th>\n",
       "      <th>trip_distance</th>\n",
       "      <th>RatecodeID</th>\n",
       "      <th>PULocationID</th>\n",
       "      <th>DOLocationID</th>\n",
       "      <th>extra</th>\n",
       "      <th>tip_amount</th>\n",
       "      <th>tolls_amount</th>\n",
       "      <th>improvement_surcharge</th>\n",
       "      <th>...</th>\n",
       "      <th>Airport_fee</th>\n",
       "      <th>trip_time</th>\n",
       "      <th>store_and_fwd_flag_N</th>\n",
       "      <th>store_and_fwd_flag_Y</th>\n",
       "      <th>payment_type_Cash</th>\n",
       "      <th>payment_type_Credit Card</th>\n",
       "      <th>payment_type_UPI</th>\n",
       "      <th>payment_type_Wallet</th>\n",
       "      <th>payment_type_unknown</th>\n",
       "      <th>total_amount</th>\n",
       "    </tr>\n",
       "  </thead>\n",
       "  <tbody>\n",
       "    <tr>\n",
       "      <th>0</th>\n",
       "      <td>0.0</td>\n",
       "      <td>0.0</td>\n",
       "      <td>0.118577</td>\n",
       "      <td>0.0</td>\n",
       "      <td>-0.098485</td>\n",
       "      <td>-0.939394</td>\n",
       "      <td>0.6</td>\n",
       "      <td>0.466412</td>\n",
       "      <td>0.0</td>\n",
       "      <td>0.0</td>\n",
       "      <td>...</td>\n",
       "      <td>0.0</td>\n",
       "      <td>0.165052</td>\n",
       "      <td>1.0</td>\n",
       "      <td>0.0</td>\n",
       "      <td>0.0</td>\n",
       "      <td>1.0</td>\n",
       "      <td>0.0</td>\n",
       "      <td>0.0</td>\n",
       "      <td>0.0</td>\n",
       "      <td>20.64</td>\n",
       "    </tr>\n",
       "  </tbody>\n",
       "</table>\n",
       "<p>1 rows × 21 columns</p>\n",
       "</div>"
      ],
      "text/plain": [
       "   VendorID  passenger_count  trip_distance  RatecodeID  PULocationID  \\\n",
       "0       0.0              0.0       0.118577         0.0     -0.098485   \n",
       "\n",
       "   DOLocationID  extra  tip_amount  tolls_amount  improvement_surcharge  ...  \\\n",
       "0     -0.939394    0.6    0.466412           0.0                    0.0  ...   \n",
       "\n",
       "   Airport_fee  trip_time  store_and_fwd_flag_N  store_and_fwd_flag_Y  \\\n",
       "0          0.0   0.165052                   1.0                   0.0   \n",
       "\n",
       "   payment_type_Cash  payment_type_Credit Card  payment_type_UPI  \\\n",
       "0                0.0                       1.0               0.0   \n",
       "\n",
       "   payment_type_Wallet  payment_type_unknown  total_amount  \n",
       "0                  0.0                   0.0         20.64  \n",
       "\n",
       "[1 rows x 21 columns]"
      ]
     },
     "execution_count": 31,
     "metadata": {},
     "output_type": "execute_result"
    }
   ],
   "source": [
    "z=pd.concat([x_transformed,y],axis = 1)\n",
    "z.head(1)"
   ]
  },
  {
   "cell_type": "code",
   "execution_count": 32,
   "id": "5f606218",
   "metadata": {
    "execution": {
     "iopub.execute_input": "2023-12-15T17:39:14.869518Z",
     "iopub.status.busy": "2023-12-15T17:39:14.869062Z",
     "iopub.status.idle": "2023-12-15T17:39:15.125712Z",
     "shell.execute_reply": "2023-12-15T17:39:15.124665Z"
    },
    "papermill": {
     "duration": 0.31607,
     "end_time": "2023-12-15T17:39:15.128374",
     "exception": false,
     "start_time": "2023-12-15T17:39:14.812304",
     "status": "completed"
    },
    "tags": []
   },
   "outputs": [
    {
     "data": {
      "text/plain": [
       "VendorID                    0.039695\n",
       "passenger_count             0.052454\n",
       "trip_distance               0.856990\n",
       "RatecodeID                  0.524311\n",
       "PULocationID                0.000715\n",
       "DOLocationID               -0.002954\n",
       "extra                       0.234346\n",
       "tip_amount                  0.638658\n",
       "tolls_amount                0.684765\n",
       "improvement_surcharge       0.224036\n",
       "congestion_surcharge       -0.145627\n",
       "Airport_fee                 0.589178\n",
       "trip_time                   0.107297\n",
       "store_and_fwd_flag_N        0.007610\n",
       "store_and_fwd_flag_Y       -0.007610\n",
       "payment_type_Cash          -0.067062\n",
       "payment_type_Credit Card    0.085099\n",
       "payment_type_UPI           -0.055895\n",
       "payment_type_Wallet         0.046087\n",
       "payment_type_unknown       -0.123569\n",
       "total_amount                1.000000\n",
       "Name: total_amount, dtype: float64"
      ]
     },
     "execution_count": 32,
     "metadata": {},
     "output_type": "execute_result"
    }
   ],
   "source": [
    "# CORELATION OF FEATURES WITH TARGET FEATUER\n",
    "core = z.corr()\n",
    "ans = core['total_amount']\n",
    "ans"
   ]
  },
  {
   "cell_type": "code",
   "execution_count": 33,
   "id": "943e4fff",
   "metadata": {
    "execution": {
     "iopub.execute_input": "2023-12-15T17:39:15.241603Z",
     "iopub.status.busy": "2023-12-15T17:39:15.240775Z",
     "iopub.status.idle": "2023-12-15T17:39:16.019393Z",
     "shell.execute_reply": "2023-12-15T17:39:16.018081Z"
    },
    "papermill": {
     "duration": 0.839664,
     "end_time": "2023-12-15T17:39:16.023356",
     "exception": false,
     "start_time": "2023-12-15T17:39:15.183692",
     "status": "completed"
    },
    "tags": []
   },
   "outputs": [
    {
     "data": {
      "image/png": "[encoded data removed]",
      "text/plain": [
       "<Figure size 1000x600 with 1 Axes>"
      ]
     },
     "metadata": {},
     "output_type": "display_data"
    }
   ],
   "source": [
    "import matplotlib.pyplot as plt\n",
    "plt.figure(figsize=(10, 6))\n",
    "plt.scatter(x_transformed.index,x_transformed['RatecodeID'], color='green', alpha=0.5)\n",
    "plt.title('Scatter Plot of index vs RatecodeID')\n",
    "plt.xlabel('index')\n",
    "plt.ylabel('RatecodeID')\n",
    "plt.grid(True)\n",
    "plt.show()\n"
   ]
  },
  {
   "cell_type": "markdown",
   "id": "b7bde964",
   "metadata": {
    "papermill": {
     "duration": 0.055294,
     "end_time": "2023-12-15T17:39:16.133711",
     "exception": false,
     "start_time": "2023-12-15T17:39:16.078417",
     "status": "completed"
    },
    "tags": []
   },
   "source": [
    "* **Toal amount has highest corelation 0.85 with feature trip distance**\n",
    "* **Then tolls amount, tip amount and ratecode id comes with corelation of 0.68,0.63,0.52 respectively**"
   ]
  },
  {
   "cell_type": "markdown",
   "id": "2365563a",
   "metadata": {
    "papermill": {
     "duration": 0.054515,
     "end_time": "2023-12-15T17:39:16.245688",
     "exception": false,
     "start_time": "2023-12-15T17:39:16.191173",
     "status": "completed"
    },
    "tags": []
   },
   "source": [
    "# **DATA MODELLING**"
   ]
  },
  {
   "cell_type": "code",
   "execution_count": 34,
   "id": "9d9123a6",
   "metadata": {
    "execution": {
     "iopub.execute_input": "2023-12-15T17:39:16.360979Z",
     "iopub.status.busy": "2023-12-15T17:39:16.360557Z",
     "iopub.status.idle": "2023-12-15T17:39:16.402769Z",
     "shell.execute_reply": "2023-12-15T17:39:16.401339Z"
    },
    "papermill": {
     "duration": 0.102234,
     "end_time": "2023-12-15T17:39:16.405912",
     "exception": false,
     "start_time": "2023-12-15T17:39:16.303678",
     "status": "completed"
    },
    "tags": []
   },
   "outputs": [],
   "source": [
    "# Splitting the dataset into train and test data \n",
    "from sklearn.model_selection import train_test_split\n",
    "x_train,x_test,y_train,y_test =train_test_split(x_transformed,y,test_size=0.2,random_state=42)"
   ]
  },
  {
   "cell_type": "markdown",
   "id": "f5d2721f",
   "metadata": {
    "papermill": {
     "duration": 0.057655,
     "end_time": "2023-12-15T17:39:16.520606",
     "exception": false,
     "start_time": "2023-12-15T17:39:16.462951",
     "status": "completed"
    },
    "tags": []
   },
   "source": [
    "# **DECISION TREE REGRESSOR**"
   ]
  },
  {
   "cell_type": "code",
   "execution_count": 35,
   "id": "7b26846f",
   "metadata": {
    "execution": {
     "iopub.execute_input": "2023-12-15T17:39:16.636316Z",
     "iopub.status.busy": "2023-12-15T17:39:16.635058Z",
     "iopub.status.idle": "2023-12-15T17:39:16.640346Z",
     "shell.execute_reply": "2023-12-15T17:39:16.638990Z"
    },
    "papermill": {
     "duration": 0.067095,
     "end_time": "2023-12-15T17:39:16.643119",
     "exception": false,
     "start_time": "2023-12-15T17:39:16.576024",
     "status": "completed"
    },
    "tags": []
   },
   "outputs": [],
   "source": [
    "# from sklearn.tree import DecisionTreeRegressor\n",
    "\n",
    "# tree = DecisionTreeRegressor(random_state=42)\n",
    "\n",
    "# tree.fit(x_train, y_train)"
   ]
  },
  {
   "cell_type": "code",
   "execution_count": 36,
   "id": "14049c44",
   "metadata": {
    "execution": {
     "iopub.execute_input": "2023-12-15T17:39:16.759226Z",
     "iopub.status.busy": "2023-12-15T17:39:16.758198Z",
     "iopub.status.idle": "2023-12-15T17:39:16.762702Z",
     "shell.execute_reply": "2023-12-15T17:39:16.761678Z"
    },
    "papermill": {
     "duration": 0.066401,
     "end_time": "2023-12-15T17:39:16.765024",
     "exception": false,
     "start_time": "2023-12-15T17:39:16.698623",
     "status": "completed"
    },
    "tags": []
   },
   "outputs": [],
   "source": [
    "# tree.score(x_train,y_train)\n",
    "# # 1.0"
   ]
  },
  {
   "cell_type": "code",
   "execution_count": 37,
   "id": "064d453c",
   "metadata": {
    "execution": {
     "iopub.execute_input": "2023-12-15T17:39:16.878923Z",
     "iopub.status.busy": "2023-12-15T17:39:16.878526Z",
     "iopub.status.idle": "2023-12-15T17:39:16.882855Z",
     "shell.execute_reply": "2023-12-15T17:39:16.881870Z"
    },
    "papermill": {
     "duration": 0.06386,
     "end_time": "2023-12-15T17:39:16.885063",
     "exception": false,
     "start_time": "2023-12-15T17:39:16.821203",
     "status": "completed"
    },
    "tags": []
   },
   "outputs": [],
   "source": [
    "# tree.score(x_test,y_test)\n",
    "# #0.8910446394875845"
   ]
  },
  {
   "cell_type": "markdown",
   "id": "5b80eade",
   "metadata": {
    "papermill": {
     "duration": 0.055675,
     "end_time": "2023-12-15T17:39:16.995778",
     "exception": false,
     "start_time": "2023-12-15T17:39:16.940103",
     "status": "completed"
    },
    "tags": []
   },
   "source": [
    "**LINEAR REGRESSION MODEL**"
   ]
  },
  {
   "cell_type": "code",
   "execution_count": 38,
   "id": "29e24d11",
   "metadata": {
    "execution": {
     "iopub.execute_input": "2023-12-15T17:39:17.109654Z",
     "iopub.status.busy": "2023-12-15T17:39:17.108872Z",
     "iopub.status.idle": "2023-12-15T17:39:17.113076Z",
     "shell.execute_reply": "2023-12-15T17:39:17.112120Z"
    },
    "papermill": {
     "duration": 0.064295,
     "end_time": "2023-12-15T17:39:17.115504",
     "exception": false,
     "start_time": "2023-12-15T17:39:17.051209",
     "status": "completed"
    },
    "tags": []
   },
   "outputs": [],
   "source": [
    "# from sklearn.linear_model import LinearRegression\n",
    "# linr=LinearRegression()\n",
    "# linr.fit(x_train,y_train)"
   ]
  },
  {
   "cell_type": "code",
   "execution_count": 39,
   "id": "a8109f67",
   "metadata": {
    "execution": {
     "iopub.execute_input": "2023-12-15T17:39:17.228368Z",
     "iopub.status.busy": "2023-12-15T17:39:17.227592Z",
     "iopub.status.idle": "2023-12-15T17:39:17.232144Z",
     "shell.execute_reply": "2023-12-15T17:39:17.231212Z"
    },
    "papermill": {
     "duration": 0.064391,
     "end_time": "2023-12-15T17:39:17.234647",
     "exception": false,
     "start_time": "2023-12-15T17:39:17.170256",
     "status": "completed"
    },
    "tags": []
   },
   "outputs": [],
   "source": [
    "# linr.score(x_train,y_train)\n",
    "# # 0.8691413951420555"
   ]
  },
  {
   "cell_type": "code",
   "execution_count": 40,
   "id": "f8dc7327",
   "metadata": {
    "execution": {
     "iopub.execute_input": "2023-12-15T17:39:17.348251Z",
     "iopub.status.busy": "2023-12-15T17:39:17.347494Z",
     "iopub.status.idle": "2023-12-15T17:39:17.351611Z",
     "shell.execute_reply": "2023-12-15T17:39:17.350684Z"
    },
    "papermill": {
     "duration": 0.064505,
     "end_time": "2023-12-15T17:39:17.354019",
     "exception": false,
     "start_time": "2023-12-15T17:39:17.289514",
     "status": "completed"
    },
    "tags": []
   },
   "outputs": [],
   "source": [
    "# linr.score(x_test,y_test)\n",
    "\n",
    "# #  0.890390721537678"
   ]
  },
  {
   "cell_type": "markdown",
   "id": "0a5d1fcf",
   "metadata": {
    "papermill": {
     "duration": 0.055367,
     "end_time": "2023-12-15T17:39:17.464491",
     "exception": false,
     "start_time": "2023-12-15T17:39:17.409124",
     "status": "completed"
    },
    "tags": []
   },
   "source": [
    "**RIDGE MODEL**"
   ]
  },
  {
   "cell_type": "code",
   "execution_count": 41,
   "id": "46882316",
   "metadata": {
    "execution": {
     "iopub.execute_input": "2023-12-15T17:39:17.577289Z",
     "iopub.status.busy": "2023-12-15T17:39:17.576547Z",
     "iopub.status.idle": "2023-12-15T17:39:17.581221Z",
     "shell.execute_reply": "2023-12-15T17:39:17.580396Z"
    },
    "papermill": {
     "duration": 0.063285,
     "end_time": "2023-12-15T17:39:17.583781",
     "exception": false,
     "start_time": "2023-12-15T17:39:17.520496",
     "status": "completed"
    },
    "tags": []
   },
   "outputs": [],
   "source": [
    "# from sklearn.linear_model import Ridge\n",
    "# ri=Ridge()\n",
    "# # Fit and transform on the training data\n",
    "# ri.fit(x_train,y_train)"
   ]
  },
  {
   "cell_type": "code",
   "execution_count": 42,
   "id": "4a3e0e50",
   "metadata": {
    "execution": {
     "iopub.execute_input": "2023-12-15T17:39:17.697142Z",
     "iopub.status.busy": "2023-12-15T17:39:17.696341Z",
     "iopub.status.idle": "2023-12-15T17:39:17.700940Z",
     "shell.execute_reply": "2023-12-15T17:39:17.700144Z"
    },
    "papermill": {
     "duration": 0.065724,
     "end_time": "2023-12-15T17:39:17.703306",
     "exception": false,
     "start_time": "2023-12-15T17:39:17.637582",
     "status": "completed"
    },
    "tags": []
   },
   "outputs": [],
   "source": [
    "# ri.score(x_train,y_train)\n",
    "\n",
    "# # 0.8691413922661941\n"
   ]
  },
  {
   "cell_type": "code",
   "execution_count": 43,
   "id": "1704e48d",
   "metadata": {
    "execution": {
     "iopub.execute_input": "2023-12-15T17:39:17.812968Z",
     "iopub.status.busy": "2023-12-15T17:39:17.812564Z",
     "iopub.status.idle": "2023-12-15T17:39:17.817116Z",
     "shell.execute_reply": "2023-12-15T17:39:17.815974Z"
    },
    "papermill": {
     "duration": 0.06226,
     "end_time": "2023-12-15T17:39:17.819464",
     "exception": false,
     "start_time": "2023-12-15T17:39:17.757204",
     "status": "completed"
    },
    "tags": []
   },
   "outputs": [],
   "source": [
    "# ri.score(x_test,y_test)\n",
    "\n",
    "# # 0.8903905753231358"
   ]
  },
  {
   "cell_type": "markdown",
   "id": "798e0651",
   "metadata": {
    "papermill": {
     "duration": 0.055267,
     "end_time": "2023-12-15T17:39:17.931329",
     "exception": false,
     "start_time": "2023-12-15T17:39:17.876062",
     "status": "completed"
    },
    "tags": []
   },
   "source": [
    "**KNN MODEL**"
   ]
  },
  {
   "cell_type": "code",
   "execution_count": 44,
   "id": "dd5f6e69",
   "metadata": {
    "execution": {
     "iopub.execute_input": "2023-12-15T17:39:18.048455Z",
     "iopub.status.busy": "2023-12-15T17:39:18.047673Z",
     "iopub.status.idle": "2023-12-15T17:39:18.051863Z",
     "shell.execute_reply": "2023-12-15T17:39:18.050841Z"
    },
    "papermill": {
     "duration": 0.063238,
     "end_time": "2023-12-15T17:39:18.054271",
     "exception": false,
     "start_time": "2023-12-15T17:39:17.991033",
     "status": "completed"
    },
    "tags": []
   },
   "outputs": [],
   "source": [
    "# from sklearn.neighbors import KNeighborsRegressor\n",
    "# kn=KNeighborsRegressor()\n",
    "# kn.fit(x_train,y_train)"
   ]
  },
  {
   "cell_type": "code",
   "execution_count": 45,
   "id": "03948521",
   "metadata": {
    "execution": {
     "iopub.execute_input": "2023-12-15T17:39:18.167064Z",
     "iopub.status.busy": "2023-12-15T17:39:18.166619Z",
     "iopub.status.idle": "2023-12-15T17:39:18.171452Z",
     "shell.execute_reply": "2023-12-15T17:39:18.170183Z"
    },
    "papermill": {
     "duration": 0.065014,
     "end_time": "2023-12-15T17:39:18.173842",
     "exception": false,
     "start_time": "2023-12-15T17:39:18.108828",
     "status": "completed"
    },
    "tags": []
   },
   "outputs": [],
   "source": [
    "# kn.score(x_train,y_train)\n",
    "\n",
    "# # 0.9413557899035991"
   ]
  },
  {
   "cell_type": "code",
   "execution_count": 46,
   "id": "89d05ebf",
   "metadata": {
    "execution": {
     "iopub.execute_input": "2023-12-15T17:39:18.287986Z",
     "iopub.status.busy": "2023-12-15T17:39:18.287080Z",
     "iopub.status.idle": "2023-12-15T17:39:18.291845Z",
     "shell.execute_reply": "2023-12-15T17:39:18.290696Z"
    },
    "papermill": {
     "duration": 0.064488,
     "end_time": "2023-12-15T17:39:18.294602",
     "exception": false,
     "start_time": "2023-12-15T17:39:18.230114",
     "status": "completed"
    },
    "tags": []
   },
   "outputs": [],
   "source": [
    "# kn.score(x_test,y_test) \n",
    "# # 0.9387178642845309"
   ]
  },
  {
   "cell_type": "markdown",
   "id": "339f4d0b",
   "metadata": {
    "papermill": {
     "duration": 0.053856,
     "end_time": "2023-12-15T17:39:18.402944",
     "exception": false,
     "start_time": "2023-12-15T17:39:18.349088",
     "status": "completed"
    },
    "tags": []
   },
   "source": [
    "**SVR MODEL**"
   ]
  },
  {
   "cell_type": "code",
   "execution_count": 47,
   "id": "cbfe8026",
   "metadata": {
    "execution": {
     "iopub.execute_input": "2023-12-15T17:39:18.514808Z",
     "iopub.status.busy": "2023-12-15T17:39:18.514358Z",
     "iopub.status.idle": "2023-12-15T17:39:18.519779Z",
     "shell.execute_reply": "2023-12-15T17:39:18.518541Z"
    },
    "papermill": {
     "duration": 0.065357,
     "end_time": "2023-12-15T17:39:18.522578",
     "exception": false,
     "start_time": "2023-12-15T17:39:18.457221",
     "status": "completed"
    },
    "tags": []
   },
   "outputs": [],
   "source": [
    "# from sklearn.svm import SVR\n",
    "# svr = SVR(C=1.0, epsilon=0.2)\n",
    "# svr.fit(x_train,y_train)"
   ]
  },
  {
   "cell_type": "code",
   "execution_count": 48,
   "id": "656bdc2e",
   "metadata": {
    "execution": {
     "iopub.execute_input": "2023-12-15T17:39:18.637721Z",
     "iopub.status.busy": "2023-12-15T17:39:18.637041Z",
     "iopub.status.idle": "2023-12-15T17:39:18.641800Z",
     "shell.execute_reply": "2023-12-15T17:39:18.640718Z"
    },
    "papermill": {
     "duration": 0.066306,
     "end_time": "2023-12-15T17:39:18.644084",
     "exception": false,
     "start_time": "2023-12-15T17:39:18.577778",
     "status": "completed"
    },
    "tags": []
   },
   "outputs": [],
   "source": [
    "# svr.score(x_train,y_train)"
   ]
  },
  {
   "cell_type": "code",
   "execution_count": 49,
   "id": "0754dad3",
   "metadata": {
    "execution": {
     "iopub.execute_input": "2023-12-15T17:39:18.756912Z",
     "iopub.status.busy": "2023-12-15T17:39:18.755768Z",
     "iopub.status.idle": "2023-12-15T17:39:18.761431Z",
     "shell.execute_reply": "2023-12-15T17:39:18.759980Z"
    },
    "papermill": {
     "duration": 0.063992,
     "end_time": "2023-12-15T17:39:18.764055",
     "exception": false,
     "start_time": "2023-12-15T17:39:18.700063",
     "status": "completed"
    },
    "tags": []
   },
   "outputs": [],
   "source": [
    "# svr.score(x_test,y_test)"
   ]
  },
  {
   "cell_type": "markdown",
   "id": "146354ca",
   "metadata": {
    "papermill": {
     "duration": 0.056136,
     "end_time": "2023-12-15T17:39:18.875797",
     "exception": false,
     "start_time": "2023-12-15T17:39:18.819661",
     "status": "completed"
    },
    "tags": []
   },
   "source": [
    "**BAGGIGN**"
   ]
  },
  {
   "cell_type": "code",
   "execution_count": 50,
   "id": "0f16c766",
   "metadata": {
    "execution": {
     "iopub.execute_input": "2023-12-15T17:39:18.994340Z",
     "iopub.status.busy": "2023-12-15T17:39:18.993877Z",
     "iopub.status.idle": "2023-12-15T17:39:19.000082Z",
     "shell.execute_reply": "2023-12-15T17:39:18.998064Z"
    },
    "papermill": {
     "duration": 0.066187,
     "end_time": "2023-12-15T17:39:19.002952",
     "exception": false,
     "start_time": "2023-12-15T17:39:18.936765",
     "status": "completed"
    },
    "tags": []
   },
   "outputs": [],
   "source": [
    "# from sklearn.ensemble import BaggingRegressor\n",
    "# from sklearn.tree import DecisionTreeRegressor\n",
    "\n",
    "\n",
    "# # Create a base regressor (you can use any regression model)\n",
    "# base_regressor = DecisionTreeRegressor()\n",
    "\n",
    "# # Create the BaggingRegressor\n",
    "# bagging_regressor = BaggingRegressor(base_regressor, random_state=42)\n",
    "\n",
    "# # Fit the model to the training data\n",
    "# bagging_regressor.fit(x_train, y_train)\n"
   ]
  },
  {
   "cell_type": "code",
   "execution_count": 51,
   "id": "259a2607",
   "metadata": {
    "execution": {
     "iopub.execute_input": "2023-12-15T17:39:19.117287Z",
     "iopub.status.busy": "2023-12-15T17:39:19.116862Z",
     "iopub.status.idle": "2023-12-15T17:39:19.122140Z",
     "shell.execute_reply": "2023-12-15T17:39:19.120912Z"
    },
    "papermill": {
     "duration": 0.066263,
     "end_time": "2023-12-15T17:39:19.125720",
     "exception": false,
     "start_time": "2023-12-15T17:39:19.059457",
     "status": "completed"
    },
    "tags": []
   },
   "outputs": [],
   "source": [
    "# bagging_regressor.score(x_train,y_train)\n",
    "\n",
    "# # 0.9883259589739178"
   ]
  },
  {
   "cell_type": "code",
   "execution_count": 52,
   "id": "e418bf31",
   "metadata": {
    "execution": {
     "iopub.execute_input": "2023-12-15T17:39:19.237529Z",
     "iopub.status.busy": "2023-12-15T17:39:19.237050Z",
     "iopub.status.idle": "2023-12-15T17:39:19.242153Z",
     "shell.execute_reply": "2023-12-15T17:39:19.240811Z"
    },
    "papermill": {
     "duration": 0.064469,
     "end_time": "2023-12-15T17:39:19.245128",
     "exception": false,
     "start_time": "2023-12-15T17:39:19.180659",
     "status": "completed"
    },
    "tags": []
   },
   "outputs": [],
   "source": [
    "# bagging_regressor.score(x_test,y_test)\n",
    "# # 0.9506468569356759"
   ]
  },
  {
   "cell_type": "markdown",
   "id": "8e6b83c8",
   "metadata": {
    "papermill": {
     "duration": 0.054132,
     "end_time": "2023-12-15T17:39:19.354029",
     "exception": false,
     "start_time": "2023-12-15T17:39:19.299897",
     "status": "completed"
    },
    "tags": []
   },
   "source": [
    "**BOOSTING**"
   ]
  },
  {
   "cell_type": "code",
   "execution_count": 53,
   "id": "e440e144",
   "metadata": {
    "execution": {
     "iopub.execute_input": "2023-12-15T17:39:19.469107Z",
     "iopub.status.busy": "2023-12-15T17:39:19.468718Z",
     "iopub.status.idle": "2023-12-15T17:39:19.473064Z",
     "shell.execute_reply": "2023-12-15T17:39:19.472136Z"
    },
    "papermill": {
     "duration": 0.065222,
     "end_time": "2023-12-15T17:39:19.475574",
     "exception": false,
     "start_time": "2023-12-15T17:39:19.410352",
     "status": "completed"
    },
    "tags": []
   },
   "outputs": [],
   "source": [
    "# from sklearn.ensemble import GradientBoostingRegressor\n",
    "# boo = GradientBoostingRegressor()\n",
    "# boo.fit(x_train, y_train)"
   ]
  },
  {
   "cell_type": "code",
   "execution_count": 54,
   "id": "2febbb2e",
   "metadata": {
    "execution": {
     "iopub.execute_input": "2023-12-15T17:39:19.589589Z",
     "iopub.status.busy": "2023-12-15T17:39:19.589150Z",
     "iopub.status.idle": "2023-12-15T17:39:19.594295Z",
     "shell.execute_reply": "2023-12-15T17:39:19.592918Z"
    },
    "papermill": {
     "duration": 0.066694,
     "end_time": "2023-12-15T17:39:19.597241",
     "exception": false,
     "start_time": "2023-12-15T17:39:19.530547",
     "status": "completed"
    },
    "tags": []
   },
   "outputs": [],
   "source": [
    "# boo.score(x_train, y_train)"
   ]
  },
  {
   "cell_type": "code",
   "execution_count": 55,
   "id": "8aeeb4fb",
   "metadata": {
    "execution": {
     "iopub.execute_input": "2023-12-15T17:39:19.709083Z",
     "iopub.status.busy": "2023-12-15T17:39:19.707898Z",
     "iopub.status.idle": "2023-12-15T17:39:19.712891Z",
     "shell.execute_reply": "2023-12-15T17:39:19.711923Z"
    },
    "papermill": {
     "duration": 0.063086,
     "end_time": "2023-12-15T17:39:19.715130",
     "exception": false,
     "start_time": "2023-12-15T17:39:19.652044",
     "status": "completed"
    },
    "tags": []
   },
   "outputs": [],
   "source": [
    "# boo.score(x_test, y_test)"
   ]
  },
  {
   "cell_type": "markdown",
   "id": "73765237",
   "metadata": {
    "papermill": {
     "duration": 0.056815,
     "end_time": "2023-12-15T17:39:19.827614",
     "exception": false,
     "start_time": "2023-12-15T17:39:19.770799",
     "status": "completed"
    },
    "tags": []
   },
   "source": [
    "**RANDOM FOREST REGRESSOR**"
   ]
  },
  {
   "cell_type": "code",
   "execution_count": 56,
   "id": "585c14d3",
   "metadata": {
    "execution": {
     "iopub.execute_input": "2023-12-15T17:39:19.941348Z",
     "iopub.status.busy": "2023-12-15T17:39:19.940641Z",
     "iopub.status.idle": "2023-12-15T17:41:33.584879Z",
     "shell.execute_reply": "2023-12-15T17:41:33.583580Z"
    },
    "papermill": {
     "duration": 133.763213,
     "end_time": "2023-12-15T17:41:33.645346",
     "exception": false,
     "start_time": "2023-12-15T17:39:19.882133",
     "status": "completed"
    },
    "tags": []
   },
   "outputs": [
    {
     "data": {
      "text/html": [
       "<style>#sk-container-id-1 {color: black;background-color: white;}#sk-container-id-1 pre{padding: 0;}#sk-container-id-1 div.sk-toggleable {background-color: white;}#sk-container-id-1 label.sk-toggleable__label {cursor: pointer;display: block;width: 100%;margin-bottom: 0;padding: 0.3em;box-sizing: border-box;text-align: center;}#sk-container-id-1 label.sk-toggleable__label-arrow:before {content: \"▸\";float: left;margin-right: 0.25em;color: #696969;}#sk-container-id-1 label.sk-toggleable__label-arrow:hover:before {color: black;}#sk-container-id-1 div.sk-estimator:hover label.sk-toggleable__label-arrow:before {color: black;}#sk-container-id-1 div.sk-toggleable__content {max-height: 0;max-width: 0;overflow: hidden;text-align: left;background-color: #f0f8ff;}#sk-container-id-1 div.sk-toggleable__content pre {margin: 0.2em;color: black;border-radius: 0.25em;background-color: #f0f8ff;}#sk-container-id-1 input.sk-toggleable__control:checked~div.sk-toggleable__content {max-height: 200px;max-width: 100%;overflow: auto;}#sk-container-id-1 input.sk-toggleable__control:checked~label.sk-toggleable__label-arrow:before {content: \"▾\";}#sk-container-id-1 div.sk-estimator input.sk-toggleable__control:checked~label.sk-toggleable__label {background-color: #d4ebff;}#sk-container-id-1 div.sk-label input.sk-toggleable__control:checked~label.sk-toggleable__label {background-color: #d4ebff;}#sk-container-id-1 input.sk-hidden--visually {border: 0;clip: rect(1px 1px 1px 1px);clip: rect(1px, 1px, 1px, 1px);height: 1px;margin: -1px;overflow: hidden;padding: 0;position: absolute;width: 1px;}#sk-container-id-1 div.sk-estimator {font-family: monospace;background-color: #f0f8ff;border: 1px dotted black;border-radius: 0.25em;box-sizing: border-box;margin-bottom: 0.5em;}#sk-container-id-1 div.sk-estimator:hover {background-color: #d4ebff;}#sk-container-id-1 div.sk-parallel-item::after {content: \"\";width: 100%;border-bottom: 1px solid gray;flex-grow: 1;}#sk-container-id-1 div.sk-label:hover label.sk-toggleable__label {background-color: #d4ebff;}#sk-container-id-1 div.sk-serial::before {content: \"\";position: absolute;border-left: 1px solid gray;box-sizing: border-box;top: 0;bottom: 0;left: 50%;z-index: 0;}#sk-container-id-1 div.sk-serial {display: flex;flex-direction: column;align-items: center;background-color: white;padding-right: 0.2em;padding-left: 0.2em;position: relative;}#sk-container-id-1 div.sk-item {position: relative;z-index: 1;}#sk-container-id-1 div.sk-parallel {display: flex;align-items: stretch;justify-content: center;background-color: white;position: relative;}#sk-container-id-1 div.sk-item::before, #sk-container-id-1 div.sk-parallel-item::before {content: \"\";position: absolute;border-left: 1px solid gray;box-sizing: border-box;top: 0;bottom: 0;left: 50%;z-index: -1;}#sk-container-id-1 div.sk-parallel-item {display: flex;flex-direction: column;z-index: 1;position: relative;background-color: white;}#sk-container-id-1 div.sk-parallel-item:first-child::after {align-self: flex-end;width: 50%;}#sk-container-id-1 div.sk-parallel-item:last-child::after {align-self: flex-start;width: 50%;}#sk-container-id-1 div.sk-parallel-item:only-child::after {width: 0;}#sk-container-id-1 div.sk-dashed-wrapped {border: 1px dashed gray;margin: 0 0.4em 0.5em 0.4em;box-sizing: border-box;padding-bottom: 0.4em;background-color: white;}#sk-container-id-1 div.sk-label label {font-family: monospace;font-weight: bold;display: inline-block;line-height: 1.2em;}#sk-container-id-1 div.sk-label-container {text-align: center;}#sk-container-id-1 div.sk-container {/* jupyter's `normalize.less` sets `[hidden] { display: none; }` but bootstrap.min.css set `[hidden] { display: none !important; }` so we also need the `!important` here to be able to override the default hidden behavior on the sphinx rendered scikit-learn.org. See: https://github.com/scikit-learn/scikit-learn/issues/21755 */display: inline-block !important;position: relative;}#sk-container-id-1 div.sk-text-repr-fallback {display: none;}</style><div id=\"sk-container-id-1\" class=\"sk-top-container\"><div class=\"sk-text-repr-fallback\"><pre>RandomForestRegressor()</pre><b>In a Jupyter environment, please rerun this cell to show the HTML representation or trust the notebook. <br />On GitHub, the HTML representation is unable to render, please try loading this page with nbviewer.org.</b></div><div class=\"sk-container\" hidden><div class=\"sk-item\"><div class=\"sk-estimator sk-toggleable\"><input class=\"sk-toggleable__control sk-hidden--visually\" id=\"sk-estimator-id-1\" type=\"checkbox\" checked><label for=\"sk-estimator-id-1\" class=\"sk-toggleable__label sk-toggleable__label-arrow\">RandomForestRegressor</label><div class=\"sk-toggleable__content\"><pre>RandomForestRegressor()</pre></div></div></div></div></div>"
      ],
      "text/plain": [
       "RandomForestRegressor()"
      ]
     },
     "execution_count": 56,
     "metadata": {},
     "output_type": "execute_result"
    }
   ],
   "source": [
    "from sklearn.ensemble import RandomForestRegressor\n",
    "regr = RandomForestRegressor()\n",
    "regr.fit(x_train, y_train)"
   ]
  },
  {
   "cell_type": "code",
   "execution_count": 57,
   "id": "dbd9c9a0",
   "metadata": {
    "execution": {
     "iopub.execute_input": "2023-12-15T17:41:33.759797Z",
     "iopub.status.busy": "2023-12-15T17:41:33.758974Z",
     "iopub.status.idle": "2023-12-15T17:41:42.279696Z",
     "shell.execute_reply": "2023-12-15T17:41:42.278434Z"
    },
    "papermill": {
     "duration": 8.582792,
     "end_time": "2023-12-15T17:41:42.282770",
     "exception": false,
     "start_time": "2023-12-15T17:41:33.699978",
     "status": "completed"
    },
    "tags": []
   },
   "outputs": [
    {
     "data": {
      "text/plain": [
       "0.9911197520864453"
      ]
     },
     "execution_count": 57,
     "metadata": {},
     "output_type": "execute_result"
    }
   ],
   "source": [
    "regr.score(x_train, y_train)\n",
    "# 0.9911850961466759"
   ]
  },
  {
   "cell_type": "code",
   "execution_count": 58,
   "id": "90196137",
   "metadata": {
    "execution": {
     "iopub.execute_input": "2023-12-15T17:41:42.403129Z",
     "iopub.status.busy": "2023-12-15T17:41:42.402718Z",
     "iopub.status.idle": "2023-12-15T17:41:44.636119Z",
     "shell.execute_reply": "2023-12-15T17:41:44.634689Z"
    },
    "papermill": {
     "duration": 2.299398,
     "end_time": "2023-12-15T17:41:44.638855",
     "exception": false,
     "start_time": "2023-12-15T17:41:42.339457",
     "status": "completed"
    },
    "tags": []
   },
   "outputs": [
    {
     "data": {
      "text/plain": [
       "0.9575143683194879"
      ]
     },
     "execution_count": 58,
     "metadata": {},
     "output_type": "execute_result"
    }
   ],
   "source": [
    "regr.score(x_test, y_test)\n",
    "# 0.9577641895583922\n"
   ]
  },
  {
   "cell_type": "code",
   "execution_count": 59,
   "id": "0f998232",
   "metadata": {
    "execution": {
     "iopub.execute_input": "2023-12-15T17:41:44.753701Z",
     "iopub.status.busy": "2023-12-15T17:41:44.753260Z",
     "iopub.status.idle": "2023-12-15T17:41:44.757617Z",
     "shell.execute_reply": "2023-12-15T17:41:44.756463Z"
    },
    "papermill": {
     "duration": 0.063957,
     "end_time": "2023-12-15T17:41:44.759995",
     "exception": false,
     "start_time": "2023-12-15T17:41:44.696038",
     "status": "completed"
    },
    "tags": []
   },
   "outputs": [],
   "source": [
    "# from sklearn.model_selection import cross_val_score\n",
    "# cv_scores_rf = cross_val_score(regr, x_train, y_train, cv=5)\n",
    "# cv_scores_rf"
   ]
  },
  {
   "cell_type": "markdown",
   "id": "f812faa5",
   "metadata": {
    "papermill": {
     "duration": 0.055898,
     "end_time": "2023-12-15T17:41:44.872310",
     "exception": false,
     "start_time": "2023-12-15T17:41:44.816412",
     "status": "completed"
    },
    "tags": []
   },
   "source": [
    "**MLR MODEL**"
   ]
  },
  {
   "cell_type": "code",
   "execution_count": 60,
   "id": "5d0fde24",
   "metadata": {
    "execution": {
     "iopub.execute_input": "2023-12-15T17:41:44.988471Z",
     "iopub.status.busy": "2023-12-15T17:41:44.987638Z",
     "iopub.status.idle": "2023-12-15T17:41:44.992522Z",
     "shell.execute_reply": "2023-12-15T17:41:44.991630Z"
    },
    "papermill": {
     "duration": 0.065903,
     "end_time": "2023-12-15T17:41:44.995027",
     "exception": false,
     "start_time": "2023-12-15T17:41:44.929124",
     "status": "completed"
    },
    "tags": []
   },
   "outputs": [],
   "source": [
    "# from sklearn.neural_network import MLPRegressor\n",
    "# mlp = MLPRegressor(max_iter = 1000)\n",
    "# mlp.fit(x_train,y_train)"
   ]
  },
  {
   "cell_type": "code",
   "execution_count": 61,
   "id": "33b73bc4",
   "metadata": {
    "execution": {
     "iopub.execute_input": "2023-12-15T17:41:45.112326Z",
     "iopub.status.busy": "2023-12-15T17:41:45.111940Z",
     "iopub.status.idle": "2023-12-15T17:41:45.116683Z",
     "shell.execute_reply": "2023-12-15T17:41:45.115443Z"
    },
    "papermill": {
     "duration": 0.066596,
     "end_time": "2023-12-15T17:41:45.119074",
     "exception": false,
     "start_time": "2023-12-15T17:41:45.052478",
     "status": "completed"
    },
    "tags": []
   },
   "outputs": [],
   "source": [
    "# mlp.score(x_train,y_train)\n",
    "\n",
    "# # 0.9509308878016867"
   ]
  },
  {
   "cell_type": "code",
   "execution_count": 62,
   "id": "72535f8b",
   "metadata": {
    "execution": {
     "iopub.execute_input": "2023-12-15T17:41:45.234019Z",
     "iopub.status.busy": "2023-12-15T17:41:45.233610Z",
     "iopub.status.idle": "2023-12-15T17:41:45.238555Z",
     "shell.execute_reply": "2023-12-15T17:41:45.237567Z"
    },
    "papermill": {
     "duration": 0.066703,
     "end_time": "2023-12-15T17:41:45.240845",
     "exception": false,
     "start_time": "2023-12-15T17:41:45.174142",
     "status": "completed"
    },
    "tags": []
   },
   "outputs": [],
   "source": [
    "# mlp.score(x_test,y_test)\n",
    "# # 0.9562399559592966"
   ]
  },
  {
   "cell_type": "markdown",
   "id": "bf85f1c5",
   "metadata": {
    "papermill": {
     "duration": 0.058044,
     "end_time": "2023-12-15T17:41:45.354756",
     "exception": false,
     "start_time": "2023-12-15T17:41:45.296712",
     "status": "completed"
    },
    "tags": []
   },
   "source": [
    "**The test scores of above models are**\n",
    "\n",
    "desicion tree 0.8910446394875845\n",
    "\n",
    "linear reg    0.890390721537678\n",
    "\n",
    "ridge         0.8903905753231358\n",
    "\n",
    "KNN           0.9387178642845309\n",
    "\n",
    "Bagging       0.9506468569356759\n",
    "\n",
    "Random forest 0.9577641895583922\n",
    "\n",
    "MLP           0.9562399559592966\n",
    "\n",
    "**The best model without hypertuining is Random Forest**"
   ]
  },
  {
   "cell_type": "code",
   "execution_count": 63,
   "id": "94f001a0",
   "metadata": {
    "execution": {
     "iopub.execute_input": "2023-12-15T17:41:45.470719Z",
     "iopub.status.busy": "2023-12-15T17:41:45.470034Z",
     "iopub.status.idle": "2023-12-15T17:41:45.752779Z",
     "shell.execute_reply": "2023-12-15T17:41:45.751318Z"
    },
    "papermill": {
     "duration": 0.34497,
     "end_time": "2023-12-15T17:41:45.755805",
     "exception": false,
     "start_time": "2023-12-15T17:41:45.410835",
     "status": "completed"
    },
    "tags": []
   },
   "outputs": [
    {
     "data": {
      "image/png": "[encoded data removed]",
      "text/plain": [
       "<Figure size 1000x600 with 1 Axes>"
      ]
     },
     "metadata": {},
     "output_type": "display_data"
    }
   ],
   "source": [
    "q1 = ['desicion_tree','linear_reg','ridge','KNN','Bagging','Random_forest','MLP']\n",
    "q2 = [0.8910446394875845,0.890390721537678,0.8903905753231358,0.9387178642845309,0.9506468569356759,0.9577641895583922,0.9562399559592966]\n",
    "import matplotlib.pyplot as plt\n",
    "plt.figure(figsize=(10, 6))\n",
    "plt.scatter(q1,q2, color='green', alpha=0.5)\n",
    "plt.title('Scatter Plot of models vs test score')\n",
    "plt.xlabel('model')\n",
    "plt.ylabel('test score')\n",
    "plt.grid(True)\n",
    "plt.show()\n"
   ]
  },
  {
   "cell_type": "markdown",
   "id": "5a59e687",
   "metadata": {
    "papermill": {
     "duration": 0.056996,
     "end_time": "2023-12-15T17:41:45.872229",
     "exception": false,
     "start_time": "2023-12-15T17:41:45.815233",
     "status": "completed"
    },
    "tags": []
   },
   "source": [
    "# **HYPER TUINING**"
   ]
  },
  {
   "cell_type": "markdown",
   "id": "802ba61d",
   "metadata": {
    "papermill": {
     "duration": 0.059061,
     "end_time": "2023-12-15T17:41:45.993072",
     "exception": false,
     "start_time": "2023-12-15T17:41:45.934011",
     "status": "completed"
    },
    "tags": []
   },
   "source": [
    "**DECISION TREE REGRESSOR TYPER TUINING**"
   ]
  },
  {
   "cell_type": "code",
   "execution_count": 64,
   "id": "752ab6cc",
   "metadata": {
    "execution": {
     "iopub.execute_input": "2023-12-15T17:41:46.112535Z",
     "iopub.status.busy": "2023-12-15T17:41:46.112024Z",
     "iopub.status.idle": "2023-12-15T17:41:46.119543Z",
     "shell.execute_reply": "2023-12-15T17:41:46.117581Z"
    },
    "papermill": {
     "duration": 0.07135,
     "end_time": "2023-12-15T17:41:46.122499",
     "exception": false,
     "start_time": "2023-12-15T17:41:46.051149",
     "status": "completed"
    },
    "tags": []
   },
   "outputs": [],
   "source": [
    "import warnings\n",
    "warnings.filterwarnings(\"ignore\")\n"
   ]
  },
  {
   "cell_type": "code",
   "execution_count": 65,
   "id": "06d8e9fa",
   "metadata": {
    "execution": {
     "iopub.execute_input": "2023-12-15T17:41:46.240418Z",
     "iopub.status.busy": "2023-12-15T17:41:46.239629Z",
     "iopub.status.idle": "2023-12-15T17:41:46.244991Z",
     "shell.execute_reply": "2023-12-15T17:41:46.243733Z"
    },
    "papermill": {
     "duration": 0.067948,
     "end_time": "2023-12-15T17:41:46.248444",
     "exception": false,
     "start_time": "2023-12-15T17:41:46.180496",
     "status": "completed"
    },
    "tags": []
   },
   "outputs": [],
   "source": [
    "p_grid ={ 'max_depth': [10, 20, 30, 40],\n",
    "    'min_samples_split': [2, 10, 20],\n",
    "    'min_samples_leaf': [1, 5, 10], }\n"
   ]
  },
  {
   "cell_type": "code",
   "execution_count": 66,
   "id": "ea9ffee0",
   "metadata": {
    "execution": {
     "iopub.execute_input": "2023-12-15T17:41:46.367212Z",
     "iopub.status.busy": "2023-12-15T17:41:46.366805Z",
     "iopub.status.idle": "2023-12-15T17:41:46.371762Z",
     "shell.execute_reply": "2023-12-15T17:41:46.370346Z"
    },
    "papermill": {
     "duration": 0.067697,
     "end_time": "2023-12-15T17:41:46.374337",
     "exception": false,
     "start_time": "2023-12-15T17:41:46.306640",
     "status": "completed"
    },
    "tags": []
   },
   "outputs": [],
   "source": [
    "# from sklearn.model_selection import GridSearchCV\n",
    "# from sklearn.tree import DecisionTreeRegressor\n",
    "# ri=DecisionTreeRegressor()\n",
    "# gri_search_cv = GridSearchCV(ri,p_grid,cv=5,scoring='accuracy')\n",
    "# gri_search_cv.fit(x_train,y_train)"
   ]
  },
  {
   "cell_type": "code",
   "execution_count": 67,
   "id": "753f5934",
   "metadata": {
    "execution": {
     "iopub.execute_input": "2023-12-15T17:41:46.492717Z",
     "iopub.status.busy": "2023-12-15T17:41:46.491876Z",
     "iopub.status.idle": "2023-12-15T17:41:46.496906Z",
     "shell.execute_reply": "2023-12-15T17:41:46.495608Z"
    },
    "papermill": {
     "duration": 0.068372,
     "end_time": "2023-12-15T17:41:46.500443",
     "exception": false,
     "start_time": "2023-12-15T17:41:46.432071",
     "status": "completed"
    },
    "tags": []
   },
   "outputs": [],
   "source": [
    "# best_parameters=gri_search_cv.best_params_\n",
    "# print(best_parameters)"
   ]
  },
  {
   "cell_type": "code",
   "execution_count": 68,
   "id": "d98e8157",
   "metadata": {
    "execution": {
     "iopub.execute_input": "2023-12-15T17:41:46.620025Z",
     "iopub.status.busy": "2023-12-15T17:41:46.619592Z",
     "iopub.status.idle": "2023-12-15T17:41:46.623826Z",
     "shell.execute_reply": "2023-12-15T17:41:46.622790Z"
    },
    "papermill": {
     "duration": 0.066752,
     "end_time": "2023-12-15T17:41:46.626843",
     "exception": false,
     "start_time": "2023-12-15T17:41:46.560091",
     "status": "completed"
    },
    "tags": []
   },
   "outputs": [],
   "source": [
    "# from sklearn.tree import DecisionTreeRegressor\n",
    "# rr=DecisionTreeRegressor(max_depth=10,max_features=1.0,min_samples_leaf=1,min_samples_split=2)\n",
    "# # Fit and transform on the training data\n"
   ]
  },
  {
   "cell_type": "code",
   "execution_count": 69,
   "id": "f39bad8c",
   "metadata": {
    "execution": {
     "iopub.execute_input": "2023-12-15T17:41:46.743536Z",
     "iopub.status.busy": "2023-12-15T17:41:46.743057Z",
     "iopub.status.idle": "2023-12-15T17:41:46.748476Z",
     "shell.execute_reply": "2023-12-15T17:41:46.747081Z"
    },
    "papermill": {
     "duration": 0.066431,
     "end_time": "2023-12-15T17:41:46.751225",
     "exception": false,
     "start_time": "2023-12-15T17:41:46.684794",
     "status": "completed"
    },
    "tags": []
   },
   "outputs": [],
   "source": [
    "# from sklearn.model_selection import cross_val_score\n",
    "# cv_scores = cross_val_score(rr, x_train, y_train, cv=5)\n",
    "# cv_scores\n",
    "\n",
    "# # array([0.91962673, 0.91405084, 0.92726304, 0.92489058, 0.88631463])\n"
   ]
  },
  {
   "cell_type": "code",
   "execution_count": 70,
   "id": "d02e338b",
   "metadata": {
    "execution": {
     "iopub.execute_input": "2023-12-15T17:41:46.868757Z",
     "iopub.status.busy": "2023-12-15T17:41:46.868310Z",
     "iopub.status.idle": "2023-12-15T17:41:46.873590Z",
     "shell.execute_reply": "2023-12-15T17:41:46.872258Z"
    },
    "papermill": {
     "duration": 0.067462,
     "end_time": "2023-12-15T17:41:46.876063",
     "exception": false,
     "start_time": "2023-12-15T17:41:46.808601",
     "status": "completed"
    },
    "tags": []
   },
   "outputs": [],
   "source": [
    "# rr.fit(x_train,y_train)"
   ]
  },
  {
   "cell_type": "code",
   "execution_count": 71,
   "id": "451386b2",
   "metadata": {
    "execution": {
     "iopub.execute_input": "2023-12-15T17:41:46.993187Z",
     "iopub.status.busy": "2023-12-15T17:41:46.992779Z",
     "iopub.status.idle": "2023-12-15T17:41:46.998437Z",
     "shell.execute_reply": "2023-12-15T17:41:46.996703Z"
    },
    "papermill": {
     "duration": 0.067863,
     "end_time": "2023-12-15T17:41:47.001350",
     "exception": false,
     "start_time": "2023-12-15T17:41:46.933487",
     "status": "completed"
    },
    "tags": []
   },
   "outputs": [],
   "source": [
    "# rr.score(x_train,y_train)\n",
    "# # 0.9507751838511131"
   ]
  },
  {
   "cell_type": "code",
   "execution_count": 72,
   "id": "9b1d0da7",
   "metadata": {
    "execution": {
     "iopub.execute_input": "2023-12-15T17:41:47.117261Z",
     "iopub.status.busy": "2023-12-15T17:41:47.116697Z",
     "iopub.status.idle": "2023-12-15T17:41:47.121869Z",
     "shell.execute_reply": "2023-12-15T17:41:47.120601Z"
    },
    "papermill": {
     "duration": 0.066845,
     "end_time": "2023-12-15T17:41:47.124256",
     "exception": false,
     "start_time": "2023-12-15T17:41:47.057411",
     "status": "completed"
    },
    "tags": []
   },
   "outputs": [],
   "source": [
    "# rr.score(x_test,y_test)\n",
    "# # 0.9288525785897186"
   ]
  },
  {
   "cell_type": "markdown",
   "id": "bf3f4a27",
   "metadata": {
    "papermill": {
     "duration": 0.055777,
     "end_time": "2023-12-15T17:41:47.238584",
     "exception": false,
     "start_time": "2023-12-15T17:41:47.182807",
     "status": "completed"
    },
    "tags": []
   },
   "source": [
    "**LINEAR REGRESSOR HYPER TUINING**"
   ]
  },
  {
   "cell_type": "code",
   "execution_count": 73,
   "id": "b0bd79f1",
   "metadata": {
    "execution": {
     "iopub.execute_input": "2023-12-15T17:41:47.356052Z",
     "iopub.status.busy": "2023-12-15T17:41:47.355637Z",
     "iopub.status.idle": "2023-12-15T17:41:47.362242Z",
     "shell.execute_reply": "2023-12-15T17:41:47.360875Z"
    },
    "papermill": {
     "duration": 0.070193,
     "end_time": "2023-12-15T17:41:47.364886",
     "exception": false,
     "start_time": "2023-12-15T17:41:47.294693",
     "status": "completed"
    },
    "tags": []
   },
   "outputs": [],
   "source": [
    "# parameters for linear regressor model\n",
    "p_grid2 ={ 'fit_intercept': [True,False],\n",
    "    'copy_X': [True,False],\n",
    "    'positive': [True,False] }"
   ]
  },
  {
   "cell_type": "code",
   "execution_count": 74,
   "id": "d7c0aae3",
   "metadata": {
    "execution": {
     "iopub.execute_input": "2023-12-15T17:41:47.486976Z",
     "iopub.status.busy": "2023-12-15T17:41:47.486567Z",
     "iopub.status.idle": "2023-12-15T17:41:47.491799Z",
     "shell.execute_reply": "2023-12-15T17:41:47.490556Z"
    },
    "papermill": {
     "duration": 0.069293,
     "end_time": "2023-12-15T17:41:47.494533",
     "exception": false,
     "start_time": "2023-12-15T17:41:47.425240",
     "status": "completed"
    },
    "tags": []
   },
   "outputs": [],
   "source": [
    "# from sklearn.model_selection import GridSearchCV\n",
    "# from sklearn.linear_model import LinearRegression\n",
    "# li=LinearRegression()\n",
    "# gri_search_cv2 = GridSearchCV(li,p_grid2,cv=5,scoring='accuracy')\n",
    "# gri_search_cv2.fit(x_train,y_train)"
   ]
  },
  {
   "cell_type": "code",
   "execution_count": 75,
   "id": "8cb8509d",
   "metadata": {
    "execution": {
     "iopub.execute_input": "2023-12-15T17:41:47.611021Z",
     "iopub.status.busy": "2023-12-15T17:41:47.610591Z",
     "iopub.status.idle": "2023-12-15T17:41:47.615803Z",
     "shell.execute_reply": "2023-12-15T17:41:47.614612Z"
    },
    "papermill": {
     "duration": 0.065038,
     "end_time": "2023-12-15T17:41:47.618275",
     "exception": false,
     "start_time": "2023-12-15T17:41:47.553237",
     "status": "completed"
    },
    "tags": []
   },
   "outputs": [],
   "source": [
    "# best_parameters2=gri_search_cv2.best_params_\n",
    "# print(best_parameters2)\n",
    "\n",
    "## {'copy_X': True, 'fit_intercept': True, 'positive': True}"
   ]
  },
  {
   "cell_type": "code",
   "execution_count": 76,
   "id": "314ea0d8",
   "metadata": {
    "execution": {
     "iopub.execute_input": "2023-12-15T17:41:47.735875Z",
     "iopub.status.busy": "2023-12-15T17:41:47.735437Z",
     "iopub.status.idle": "2023-12-15T17:41:47.741094Z",
     "shell.execute_reply": "2023-12-15T17:41:47.739724Z"
    },
    "papermill": {
     "duration": 0.068852,
     "end_time": "2023-12-15T17:41:47.743917",
     "exception": false,
     "start_time": "2023-12-15T17:41:47.675065",
     "status": "completed"
    },
    "tags": []
   },
   "outputs": [],
   "source": [
    "# from sklearn.linear_model import LinearRegression\n",
    "# li=LinearRegression(copy_X = True,fit_intercept= True,positive=True)\n",
    "# # Fit and transform on the training data"
   ]
  },
  {
   "cell_type": "code",
   "execution_count": 77,
   "id": "7281c017",
   "metadata": {
    "execution": {
     "iopub.execute_input": "2023-12-15T17:41:47.862925Z",
     "iopub.status.busy": "2023-12-15T17:41:47.862458Z",
     "iopub.status.idle": "2023-12-15T17:41:47.867595Z",
     "shell.execute_reply": "2023-12-15T17:41:47.866438Z"
    },
    "papermill": {
     "duration": 0.068308,
     "end_time": "2023-12-15T17:41:47.869961",
     "exception": false,
     "start_time": "2023-12-15T17:41:47.801653",
     "status": "completed"
    },
    "tags": []
   },
   "outputs": [],
   "source": [
    "# from sklearn.model_selection import cross_val_score\n",
    "# cv_scores = cross_val_score(li, x_train, y_train, cv=5)\n",
    "# cv_scores\n",
    "\n",
    "# # array([0.84435393, 0.87045604, 0.88107306, 0.87803394, 0.86506939])\n"
   ]
  },
  {
   "cell_type": "code",
   "execution_count": 78,
   "id": "47d50a85",
   "metadata": {
    "execution": {
     "iopub.execute_input": "2023-12-15T17:41:47.988034Z",
     "iopub.status.busy": "2023-12-15T17:41:47.986999Z",
     "iopub.status.idle": "2023-12-15T17:41:47.992838Z",
     "shell.execute_reply": "2023-12-15T17:41:47.991361Z"
    },
    "papermill": {
     "duration": 0.067966,
     "end_time": "2023-12-15T17:41:47.995565",
     "exception": false,
     "start_time": "2023-12-15T17:41:47.927599",
     "status": "completed"
    },
    "tags": []
   },
   "outputs": [],
   "source": [
    "# li.fit(x_train,y_train)"
   ]
  },
  {
   "cell_type": "code",
   "execution_count": 79,
   "id": "73a2ca2a",
   "metadata": {
    "execution": {
     "iopub.execute_input": "2023-12-15T17:41:48.112870Z",
     "iopub.status.busy": "2023-12-15T17:41:48.112478Z",
     "iopub.status.idle": "2023-12-15T17:41:48.117713Z",
     "shell.execute_reply": "2023-12-15T17:41:48.116449Z"
    },
    "papermill": {
     "duration": 0.068581,
     "end_time": "2023-12-15T17:41:48.120253",
     "exception": false,
     "start_time": "2023-12-15T17:41:48.051672",
     "status": "completed"
    },
    "tags": []
   },
   "outputs": [],
   "source": [
    "# li.score(x_train,y_train)\n",
    "\n",
    "# # 0.8680542131448912\n"
   ]
  },
  {
   "cell_type": "code",
   "execution_count": 80,
   "id": "0cbc0378",
   "metadata": {
    "execution": {
     "iopub.execute_input": "2023-12-15T17:41:48.243141Z",
     "iopub.status.busy": "2023-12-15T17:41:48.242751Z",
     "iopub.status.idle": "2023-12-15T17:41:48.247651Z",
     "shell.execute_reply": "2023-12-15T17:41:48.246298Z"
    },
    "papermill": {
     "duration": 0.068359,
     "end_time": "2023-12-15T17:41:48.250549",
     "exception": false,
     "start_time": "2023-12-15T17:41:48.182190",
     "status": "completed"
    },
    "tags": []
   },
   "outputs": [],
   "source": [
    "# li.score(x_test,y_test)\n",
    "\n",
    "# # 0.8894070051689709"
   ]
  },
  {
   "cell_type": "markdown",
   "id": "e7d12308",
   "metadata": {
    "papermill": {
     "duration": 0.056181,
     "end_time": "2023-12-15T17:41:48.365304",
     "exception": false,
     "start_time": "2023-12-15T17:41:48.309123",
     "status": "completed"
    },
    "tags": []
   },
   "source": [
    "**BAGGIBG REGRESSOR HYPER TUINING**"
   ]
  },
  {
   "cell_type": "code",
   "execution_count": 81,
   "id": "f9090d95",
   "metadata": {
    "execution": {
     "iopub.execute_input": "2023-12-15T17:41:48.485536Z",
     "iopub.status.busy": "2023-12-15T17:41:48.484099Z",
     "iopub.status.idle": "2023-12-15T17:41:48.489087Z",
     "shell.execute_reply": "2023-12-15T17:41:48.488186Z"
    },
    "papermill": {
     "duration": 0.0665,
     "end_time": "2023-12-15T17:41:48.491353",
     "exception": false,
     "start_time": "2023-12-15T17:41:48.424853",
     "status": "completed"
    },
    "tags": []
   },
   "outputs": [],
   "source": [
    "# param_grid = {\n",
    "#     'n_estimators': [50, 100, 150],\n",
    "#     'max_samples': [0.7, 0.8, 0.9],\n",
    "#     'max_features': [0.7, 0.8, 0.9]\n",
    "# }"
   ]
  },
  {
   "cell_type": "code",
   "execution_count": 82,
   "id": "1ccdcb0e",
   "metadata": {
    "execution": {
     "iopub.execute_input": "2023-12-15T17:41:48.607307Z",
     "iopub.status.busy": "2023-12-15T17:41:48.606530Z",
     "iopub.status.idle": "2023-12-15T17:41:48.611187Z",
     "shell.execute_reply": "2023-12-15T17:41:48.610296Z"
    },
    "papermill": {
     "duration": 0.064513,
     "end_time": "2023-12-15T17:41:48.613596",
     "exception": false,
     "start_time": "2023-12-15T17:41:48.549083",
     "status": "completed"
    },
    "tags": []
   },
   "outputs": [],
   "source": [
    "# from sklearn.model_selection import GridSearchCV\n",
    "# from sklearn.ensemble import BaggingRegressor\n",
    "# from sklearn.tree import DecisionTreeRegressor\n",
    "\n",
    "\n",
    "# # Create a base regressor (you can use any regression model)\n",
    "# base_regressor = DecisionTreeRegressor()\n",
    "\n",
    "# # Create the BaggingRegressor\n",
    "# bagging_regressor = BaggingRegressor(base_regressor, n_estimators=10, random_state=42)\n",
    "\n",
    "# gri_search_cv5 = GridSearchCV(bagging_regressor,param_grid,cv=5,scoring='accuracy')\n",
    "\n",
    "# # Fit the model to the training data\n",
    "# gri_search_cv5.fit(x_train, y_train)\n"
   ]
  },
  {
   "cell_type": "code",
   "execution_count": 83,
   "id": "3d99233e",
   "metadata": {
    "execution": {
     "iopub.execute_input": "2023-12-15T17:41:48.730211Z",
     "iopub.status.busy": "2023-12-15T17:41:48.729422Z",
     "iopub.status.idle": "2023-12-15T17:41:48.733799Z",
     "shell.execute_reply": "2023-12-15T17:41:48.732712Z"
    },
    "papermill": {
     "duration": 0.065914,
     "end_time": "2023-12-15T17:41:48.736467",
     "exception": false,
     "start_time": "2023-12-15T17:41:48.670553",
     "status": "completed"
    },
    "tags": []
   },
   "outputs": [],
   "source": [
    "# best_parameters5=gri_search_cv5.best_params_\n",
    "# print(best_parameters5)"
   ]
  },
  {
   "cell_type": "code",
   "execution_count": 84,
   "id": "2e47d97f",
   "metadata": {
    "execution": {
     "iopub.execute_input": "2023-12-15T17:41:48.854725Z",
     "iopub.status.busy": "2023-12-15T17:41:48.854269Z",
     "iopub.status.idle": "2023-12-15T17:41:48.859443Z",
     "shell.execute_reply": "2023-12-15T17:41:48.858090Z"
    },
    "papermill": {
     "duration": 0.068594,
     "end_time": "2023-12-15T17:41:48.862151",
     "exception": false,
     "start_time": "2023-12-15T17:41:48.793557",
     "status": "completed"
    },
    "tags": []
   },
   "outputs": [],
   "source": [
    "# from sklearn.ensemble import BaggingRegressor\n",
    "# from sklearn.tree import DecisionTreeRegressor\n",
    "\n",
    "# # Create a base regressor (you can use any regression model)\n",
    "# base_regressor = DecisionTreeRegressor()\n",
    "\n",
    "# # Create the BaggingRegressor\n",
    "# bagging_regressor = BaggingRegressor(base_regressor, n_estimators=10, random_state=42)\n"
   ]
  },
  {
   "cell_type": "code",
   "execution_count": 85,
   "id": "b1d64321",
   "metadata": {
    "execution": {
     "iopub.execute_input": "2023-12-15T17:41:48.985212Z",
     "iopub.status.busy": "2023-12-15T17:41:48.984495Z",
     "iopub.status.idle": "2023-12-15T17:41:48.988918Z",
     "shell.execute_reply": "2023-12-15T17:41:48.987776Z"
    },
    "papermill": {
     "duration": 0.06788,
     "end_time": "2023-12-15T17:41:48.991598",
     "exception": false,
     "start_time": "2023-12-15T17:41:48.923718",
     "status": "completed"
    },
    "tags": []
   },
   "outputs": [],
   "source": [
    "# bagging_regressor.fit(x_train,y_train)"
   ]
  },
  {
   "cell_type": "code",
   "execution_count": 86,
   "id": "ad40fd7b",
   "metadata": {
    "execution": {
     "iopub.execute_input": "2023-12-15T17:41:49.111092Z",
     "iopub.status.busy": "2023-12-15T17:41:49.110142Z",
     "iopub.status.idle": "2023-12-15T17:41:49.115831Z",
     "shell.execute_reply": "2023-12-15T17:41:49.114496Z"
    },
    "papermill": {
     "duration": 0.066863,
     "end_time": "2023-12-15T17:41:49.118457",
     "exception": false,
     "start_time": "2023-12-15T17:41:49.051594",
     "status": "completed"
    },
    "tags": []
   },
   "outputs": [],
   "source": [
    "# bagging_regressor.score(x_train,y_train)\n",
    "# # 0.9883259589739178"
   ]
  },
  {
   "cell_type": "code",
   "execution_count": 87,
   "id": "dcf4ea2c",
   "metadata": {
    "execution": {
     "iopub.execute_input": "2023-12-15T17:41:49.235809Z",
     "iopub.status.busy": "2023-12-15T17:41:49.235300Z",
     "iopub.status.idle": "2023-12-15T17:41:49.240905Z",
     "shell.execute_reply": "2023-12-15T17:41:49.238978Z"
    },
    "papermill": {
     "duration": 0.068231,
     "end_time": "2023-12-15T17:41:49.243533",
     "exception": false,
     "start_time": "2023-12-15T17:41:49.175302",
     "status": "completed"
    },
    "tags": []
   },
   "outputs": [],
   "source": [
    "# bagging_regressor.score(x_test,y_test)\n",
    "\n",
    "# # 0.9506468569356759"
   ]
  },
  {
   "cell_type": "markdown",
   "id": "e90a3021",
   "metadata": {
    "papermill": {
     "duration": 0.058423,
     "end_time": "2023-12-15T17:41:49.359546",
     "exception": false,
     "start_time": "2023-12-15T17:41:49.301123",
     "status": "completed"
    },
    "tags": []
   },
   "source": [
    "**RIDGE REGRESSOR HYPER TUINING**"
   ]
  },
  {
   "cell_type": "code",
   "execution_count": 88,
   "id": "3aa3cdbd",
   "metadata": {
    "execution": {
     "iopub.execute_input": "2023-12-15T17:41:49.475238Z",
     "iopub.status.busy": "2023-12-15T17:41:49.474773Z",
     "iopub.status.idle": "2023-12-15T17:41:49.481121Z",
     "shell.execute_reply": "2023-12-15T17:41:49.479853Z"
    },
    "papermill": {
     "duration": 0.066537,
     "end_time": "2023-12-15T17:41:49.483697",
     "exception": false,
     "start_time": "2023-12-15T17:41:49.417160",
     "status": "completed"
    },
    "tags": []
   },
   "outputs": [],
   "source": [
    "p_grid3={ 'alpha': [0.7,1.0,1.25,1.5,1.7],\n",
    "           'max_iter':[20,30,40,50],\n",
    "           'tol':[1e-3,1e-4,1e-5],\n",
    "           }"
   ]
  },
  {
   "cell_type": "code",
   "execution_count": 89,
   "id": "8a0b40a5",
   "metadata": {
    "execution": {
     "iopub.execute_input": "2023-12-15T17:41:49.600289Z",
     "iopub.status.busy": "2023-12-15T17:41:49.599860Z",
     "iopub.status.idle": "2023-12-15T17:41:49.605305Z",
     "shell.execute_reply": "2023-12-15T17:41:49.604097Z"
    },
    "papermill": {
     "duration": 0.066485,
     "end_time": "2023-12-15T17:41:49.607817",
     "exception": false,
     "start_time": "2023-12-15T17:41:49.541332",
     "status": "completed"
    },
    "tags": []
   },
   "outputs": [],
   "source": [
    "# from sklearn.linear_model import Ridge\n",
    "# ri=Ridge()\n",
    "# gri_search_cv3 = GridSearchCV(ri,p_grid3,cv=5,scoring='accuracy')\n",
    "# gri_search_cv3.fit(x_train,y_train)"
   ]
  },
  {
   "cell_type": "code",
   "execution_count": 90,
   "id": "87c93c94",
   "metadata": {
    "execution": {
     "iopub.execute_input": "2023-12-15T17:41:49.724080Z",
     "iopub.status.busy": "2023-12-15T17:41:49.723681Z",
     "iopub.status.idle": "2023-12-15T17:41:49.727996Z",
     "shell.execute_reply": "2023-12-15T17:41:49.727031Z"
    },
    "papermill": {
     "duration": 0.065136,
     "end_time": "2023-12-15T17:41:49.730657",
     "exception": false,
     "start_time": "2023-12-15T17:41:49.665521",
     "status": "completed"
    },
    "tags": []
   },
   "outputs": [],
   "source": [
    "# best_parameters3=gri_search_cv3.best_params_\n",
    "# print(best_parameters3) \n",
    "\n",
    "## {'alpha': 0.7, 'max_iter': 20, 'tol': 0.001}\n"
   ]
  },
  {
   "cell_type": "code",
   "execution_count": 91,
   "id": "b98f8161",
   "metadata": {
    "execution": {
     "iopub.execute_input": "2023-12-15T17:41:49.847640Z",
     "iopub.status.busy": "2023-12-15T17:41:49.847178Z",
     "iopub.status.idle": "2023-12-15T17:41:49.852555Z",
     "shell.execute_reply": "2023-12-15T17:41:49.851071Z"
    },
    "papermill": {
     "duration": 0.068118,
     "end_time": "2023-12-15T17:41:49.855177",
     "exception": false,
     "start_time": "2023-12-15T17:41:49.787059",
     "status": "completed"
    },
    "tags": []
   },
   "outputs": [],
   "source": [
    "# from sklearn.linear_model import Ridge\n",
    "# ri=Ridge(alpha= 0.7,max_iter = 20 ,tol = 0.001)\n",
    "# # Fit and transform on the training data\n"
   ]
  },
  {
   "cell_type": "code",
   "execution_count": 92,
   "id": "8c3819e2",
   "metadata": {
    "execution": {
     "iopub.execute_input": "2023-12-15T17:41:49.974084Z",
     "iopub.status.busy": "2023-12-15T17:41:49.973280Z",
     "iopub.status.idle": "2023-12-15T17:41:49.978049Z",
     "shell.execute_reply": "2023-12-15T17:41:49.977039Z"
    },
    "papermill": {
     "duration": 0.067054,
     "end_time": "2023-12-15T17:41:49.980481",
     "exception": false,
     "start_time": "2023-12-15T17:41:49.913427",
     "status": "completed"
    },
    "tags": []
   },
   "outputs": [],
   "source": [
    "# from sklearn.model_selection import cross_val_score\n",
    "# cv_scores3 = cross_val_score(ri, x_train, y_train, cv=5)\n",
    "# cv_scores3\n",
    "\n",
    "# # array([0.84550881, 0.87149811, 0.88190191, 0.87875489, 0.86636532])\n"
   ]
  },
  {
   "cell_type": "code",
   "execution_count": 93,
   "id": "ad57a805",
   "metadata": {
    "execution": {
     "iopub.execute_input": "2023-12-15T17:41:50.097369Z",
     "iopub.status.busy": "2023-12-15T17:41:50.096964Z",
     "iopub.status.idle": "2023-12-15T17:41:50.101415Z",
     "shell.execute_reply": "2023-12-15T17:41:50.100277Z"
    },
    "papermill": {
     "duration": 0.066023,
     "end_time": "2023-12-15T17:41:50.103902",
     "exception": false,
     "start_time": "2023-12-15T17:41:50.037879",
     "status": "completed"
    },
    "tags": []
   },
   "outputs": [],
   "source": [
    "# ri.fit(x_train,y_train)"
   ]
  },
  {
   "cell_type": "code",
   "execution_count": 94,
   "id": "8c3b2cb8",
   "metadata": {
    "execution": {
     "iopub.execute_input": "2023-12-15T17:41:50.231031Z",
     "iopub.status.busy": "2023-12-15T17:41:50.230638Z",
     "iopub.status.idle": "2023-12-15T17:41:50.236129Z",
     "shell.execute_reply": "2023-12-15T17:41:50.234201Z"
    },
    "papermill": {
     "duration": 0.073618,
     "end_time": "2023-12-15T17:41:50.238718",
     "exception": false,
     "start_time": "2023-12-15T17:41:50.165100",
     "status": "completed"
    },
    "tags": []
   },
   "outputs": [],
   "source": [
    "# ri.score(x_train,y_train)\n",
    "\n",
    "# # 0.8691413937325098"
   ]
  },
  {
   "cell_type": "code",
   "execution_count": 95,
   "id": "1966c610",
   "metadata": {
    "execution": {
     "iopub.execute_input": "2023-12-15T17:41:50.362698Z",
     "iopub.status.busy": "2023-12-15T17:41:50.362260Z",
     "iopub.status.idle": "2023-12-15T17:41:50.367416Z",
     "shell.execute_reply": "2023-12-15T17:41:50.366132Z"
    },
    "papermill": {
     "duration": 0.072242,
     "end_time": "2023-12-15T17:41:50.370093",
     "exception": false,
     "start_time": "2023-12-15T17:41:50.297851",
     "status": "completed"
    },
    "tags": []
   },
   "outputs": [],
   "source": [
    "# ri.score(x_test,y_test)\n",
    "\n",
    "# # 0.8903906197589421"
   ]
  },
  {
   "cell_type": "markdown",
   "id": "18db4425",
   "metadata": {
    "papermill": {
     "duration": 0.056802,
     "end_time": "2023-12-15T17:41:50.485643",
     "exception": false,
     "start_time": "2023-12-15T17:41:50.428841",
     "status": "completed"
    },
    "tags": []
   },
   "source": [
    " **KNN HYPER TUINING**"
   ]
  },
  {
   "cell_type": "code",
   "execution_count": 96,
   "id": "d5738df8",
   "metadata": {
    "execution": {
     "iopub.execute_input": "2023-12-15T17:41:50.602415Z",
     "iopub.status.busy": "2023-12-15T17:41:50.601980Z",
     "iopub.status.idle": "2023-12-15T17:41:50.608847Z",
     "shell.execute_reply": "2023-12-15T17:41:50.607720Z"
    },
    "papermill": {
     "duration": 0.0689,
     "end_time": "2023-12-15T17:41:50.611600",
     "exception": false,
     "start_time": "2023-12-15T17:41:50.542700",
     "status": "completed"
    },
    "tags": []
   },
   "outputs": [],
   "source": [
    "p_grid4={ 'n_neighbors': [1,2,3,4],\n",
    "           'weights':['uniform', 'distance'],\n",
    "           'leaf_size':[20,30,40,50],\n",
    "            'p':[2,3,4],\n",
    "         \n",
    "           }"
   ]
  },
  {
   "cell_type": "code",
   "execution_count": 97,
   "id": "27268e68",
   "metadata": {
    "execution": {
     "iopub.execute_input": "2023-12-15T17:41:50.728917Z",
     "iopub.status.busy": "2023-12-15T17:41:50.728267Z",
     "iopub.status.idle": "2023-12-15T17:41:50.734220Z",
     "shell.execute_reply": "2023-12-15T17:41:50.733001Z"
    },
    "papermill": {
     "duration": 0.066155,
     "end_time": "2023-12-15T17:41:50.736841",
     "exception": false,
     "start_time": "2023-12-15T17:41:50.670686",
     "status": "completed"
    },
    "tags": []
   },
   "outputs": [],
   "source": [
    "##Takin too long no output after 30 min\n",
    "\n",
    "# from sklearn.model_selection import RandomizedSearchCV\n",
    "# from sklearn.neighbors import KNeighborsRegressor\n",
    "# kn=KNeighborsRegressor()\n",
    "# gri_search_cv4 = RandomizedSearchCV(kn,p_grid4,cv=5,scoring='accuracy')\n",
    "# gri_search_cv4.fit(x_train,y_train)"
   ]
  },
  {
   "cell_type": "code",
   "execution_count": 98,
   "id": "6388d672",
   "metadata": {
    "execution": {
     "iopub.execute_input": "2023-12-15T17:41:50.853721Z",
     "iopub.status.busy": "2023-12-15T17:41:50.853242Z",
     "iopub.status.idle": "2023-12-15T17:41:50.858609Z",
     "shell.execute_reply": "2023-12-15T17:41:50.857664Z"
    },
    "papermill": {
     "duration": 0.067036,
     "end_time": "2023-12-15T17:41:50.861038",
     "exception": false,
     "start_time": "2023-12-15T17:41:50.794002",
     "status": "completed"
    },
    "tags": []
   },
   "outputs": [],
   "source": [
    "# best_parameters4=gri_search_cv4.best_params_\n",
    "# print(best_parameters4)"
   ]
  },
  {
   "cell_type": "code",
   "execution_count": 99,
   "id": "1db923f1",
   "metadata": {
    "execution": {
     "iopub.execute_input": "2023-12-15T17:41:50.976104Z",
     "iopub.status.busy": "2023-12-15T17:41:50.975694Z",
     "iopub.status.idle": "2023-12-15T17:41:50.980113Z",
     "shell.execute_reply": "2023-12-15T17:41:50.979125Z"
    },
    "papermill": {
     "duration": 0.064685,
     "end_time": "2023-12-15T17:41:50.982321",
     "exception": false,
     "start_time": "2023-12-15T17:41:50.917636",
     "status": "completed"
    },
    "tags": []
   },
   "outputs": [],
   "source": [
    "# from sklearn.neighbors import KNeighborsRegressor\n",
    "# kn=KNeighborsRegressor()\n"
   ]
  },
  {
   "cell_type": "code",
   "execution_count": 100,
   "id": "4bf27a39",
   "metadata": {
    "execution": {
     "iopub.execute_input": "2023-12-15T17:41:51.099282Z",
     "iopub.status.busy": "2023-12-15T17:41:51.098868Z",
     "iopub.status.idle": "2023-12-15T17:41:51.103684Z",
     "shell.execute_reply": "2023-12-15T17:41:51.102531Z"
    },
    "papermill": {
     "duration": 0.065024,
     "end_time": "2023-12-15T17:41:51.106053",
     "exception": false,
     "start_time": "2023-12-15T17:41:51.041029",
     "status": "completed"
    },
    "tags": []
   },
   "outputs": [],
   "source": [
    "# from sklearn.model_selection import cross_val_score\n",
    "# cv_scores4 = cross_val_score(kn, x_train, y_train, cv=5)\n",
    "# cv_scores4\n",
    "\n",
    "## array([0.87980409, 0.93093629, 0.92057639, 0.92539327, 0.88704449])\n"
   ]
  },
  {
   "cell_type": "code",
   "execution_count": 101,
   "id": "9338246c",
   "metadata": {
    "execution": {
     "iopub.execute_input": "2023-12-15T17:41:51.223617Z",
     "iopub.status.busy": "2023-12-15T17:41:51.223172Z",
     "iopub.status.idle": "2023-12-15T17:41:51.227578Z",
     "shell.execute_reply": "2023-12-15T17:41:51.226331Z"
    },
    "papermill": {
     "duration": 0.065834,
     "end_time": "2023-12-15T17:41:51.230067",
     "exception": false,
     "start_time": "2023-12-15T17:41:51.164233",
     "status": "completed"
    },
    "tags": []
   },
   "outputs": [],
   "source": [
    "# kn.fit(x_train,y_train)"
   ]
  },
  {
   "cell_type": "code",
   "execution_count": 102,
   "id": "19fe8888",
   "metadata": {
    "execution": {
     "iopub.execute_input": "2023-12-15T17:41:51.347846Z",
     "iopub.status.busy": "2023-12-15T17:41:51.347462Z",
     "iopub.status.idle": "2023-12-15T17:41:51.352468Z",
     "shell.execute_reply": "2023-12-15T17:41:51.350899Z"
    },
    "papermill": {
     "duration": 0.067326,
     "end_time": "2023-12-15T17:41:51.355004",
     "exception": false,
     "start_time": "2023-12-15T17:41:51.287678",
     "status": "completed"
    },
    "tags": []
   },
   "outputs": [],
   "source": [
    "# kn.score(x_train,y_train)"
   ]
  },
  {
   "cell_type": "code",
   "execution_count": 103,
   "id": "5c011212",
   "metadata": {
    "execution": {
     "iopub.execute_input": "2023-12-15T17:41:51.472939Z",
     "iopub.status.busy": "2023-12-15T17:41:51.472287Z",
     "iopub.status.idle": "2023-12-15T17:41:51.478045Z",
     "shell.execute_reply": "2023-12-15T17:41:51.476666Z"
    },
    "papermill": {
     "duration": 0.068989,
     "end_time": "2023-12-15T17:41:51.480572",
     "exception": false,
     "start_time": "2023-12-15T17:41:51.411583",
     "status": "completed"
    },
    "tags": []
   },
   "outputs": [],
   "source": [
    "# kn.score(x_train,y_train)"
   ]
  },
  {
   "cell_type": "markdown",
   "id": "3afdd1fa",
   "metadata": {
    "papermill": {
     "duration": 0.060668,
     "end_time": "2023-12-15T17:41:51.600903",
     "exception": false,
     "start_time": "2023-12-15T17:41:51.540235",
     "status": "completed"
    },
    "tags": []
   },
   "source": [
    "**RANDOM FOREST HYPER TUINNNING**"
   ]
  },
  {
   "cell_type": "code",
   "execution_count": 104,
   "id": "a16a68c0",
   "metadata": {
    "execution": {
     "iopub.execute_input": "2023-12-15T17:41:51.720908Z",
     "iopub.status.busy": "2023-12-15T17:41:51.720468Z",
     "iopub.status.idle": "2023-12-15T17:41:51.726753Z",
     "shell.execute_reply": "2023-12-15T17:41:51.725271Z"
    },
    "papermill": {
     "duration": 0.071283,
     "end_time": "2023-12-15T17:41:51.729234",
     "exception": false,
     "start_time": "2023-12-15T17:41:51.657951",
     "status": "completed"
    },
    "tags": []
   },
   "outputs": [],
   "source": [
    "param_grid_r = {\n",
    "    'n_estimators': [50, 100, 200],\n",
    "    'max_depth': [None, 10, 20, 30],\n",
    "    'min_samples_split': [2, 5, 10],\n",
    "    'min_samples_leaf': [1, 2, 4],\n",
    "    'bootstrap': [True, False],\n",
    "}\n"
   ]
  },
  {
   "cell_type": "code",
   "execution_count": 105,
   "id": "c5a06f7b",
   "metadata": {
    "execution": {
     "iopub.execute_input": "2023-12-15T17:41:51.851308Z",
     "iopub.status.busy": "2023-12-15T17:41:51.850856Z",
     "iopub.status.idle": "2023-12-15T17:41:51.855296Z",
     "shell.execute_reply": "2023-12-15T17:41:51.854188Z"
    },
    "papermill": {
     "duration": 0.06903,
     "end_time": "2023-12-15T17:41:51.857764",
     "exception": false,
     "start_time": "2023-12-15T17:41:51.788734",
     "status": "completed"
    },
    "tags": []
   },
   "outputs": [],
   "source": [
    "# from sklearn.model_selection import RandomizedSearchCV\n",
    "# from sklearn.ensemble import RandomForestRegressor\n",
    "# regr = RandomForestRegressor()\n",
    "# gri_search_cv5 = RandomizedSearchCV(regr,param_grid_r,cv=5,scoring='neg_mean_squared_error',random_state=55)\n",
    "# gri_search_cv5.fit(x_train,y_train)\n"
   ]
  },
  {
   "cell_type": "code",
   "execution_count": 106,
   "id": "911699cb",
   "metadata": {
    "execution": {
     "iopub.execute_input": "2023-12-15T17:41:52.044811Z",
     "iopub.status.busy": "2023-12-15T17:41:52.044108Z",
     "iopub.status.idle": "2023-12-15T17:41:52.048604Z",
     "shell.execute_reply": "2023-12-15T17:41:52.047495Z"
    },
    "papermill": {
     "duration": 0.135405,
     "end_time": "2023-12-15T17:41:52.051171",
     "exception": false,
     "start_time": "2023-12-15T17:41:51.915766",
     "status": "completed"
    },
    "tags": []
   },
   "outputs": [],
   "source": [
    "# best_parameters5=gri_search_cv5.best_params_\n",
    "# print(best_parameters5)\n",
    "\n",
    "# ## {'n_estimators': 50, 'min_samples_split': 10, 'min_samples_leaf': 1,'max_depth': 20, 'bootstrap': True}\n"
   ]
  },
  {
   "cell_type": "code",
   "execution_count": 107,
   "id": "3e73cd40",
   "metadata": {
    "execution": {
     "iopub.execute_input": "2023-12-15T17:41:52.169535Z",
     "iopub.status.busy": "2023-12-15T17:41:52.169088Z",
     "iopub.status.idle": "2023-12-15T17:41:52.174293Z",
     "shell.execute_reply": "2023-12-15T17:41:52.172984Z"
    },
    "papermill": {
     "duration": 0.067219,
     "end_time": "2023-12-15T17:41:52.176842",
     "exception": false,
     "start_time": "2023-12-15T17:41:52.109623",
     "status": "completed"
    },
    "tags": []
   },
   "outputs": [],
   "source": [
    "# from sklearn.ensemble import RandomForestRegressor\n",
    "# regrh = RandomForestRegressor(n_estimators = 50,min_samples_split=10,min_samples_leaf=1,max_depth=20,bootstrap=True)\n",
    "# regrh.fit(x_train,y_train)"
   ]
  },
  {
   "cell_type": "code",
   "execution_count": 108,
   "id": "b039e042",
   "metadata": {
    "execution": {
     "iopub.execute_input": "2023-12-15T17:41:52.298181Z",
     "iopub.status.busy": "2023-12-15T17:41:52.296894Z",
     "iopub.status.idle": "2023-12-15T17:41:52.302945Z",
     "shell.execute_reply": "2023-12-15T17:41:52.301532Z"
    },
    "papermill": {
     "duration": 0.071306,
     "end_time": "2023-12-15T17:41:52.305756",
     "exception": false,
     "start_time": "2023-12-15T17:41:52.234450",
     "status": "completed"
    },
    "tags": []
   },
   "outputs": [],
   "source": [
    "# regrh.score(x_train,y_train)\n",
    "# # 0.9745487861859761"
   ]
  },
  {
   "cell_type": "code",
   "execution_count": 109,
   "id": "a38a0e47",
   "metadata": {
    "execution": {
     "iopub.execute_input": "2023-12-15T17:41:52.434523Z",
     "iopub.status.busy": "2023-12-15T17:41:52.433990Z",
     "iopub.status.idle": "2023-12-15T17:41:52.441208Z",
     "shell.execute_reply": "2023-12-15T17:41:52.439276Z"
    },
    "papermill": {
     "duration": 0.080546,
     "end_time": "2023-12-15T17:41:52.445123",
     "exception": false,
     "start_time": "2023-12-15T17:41:52.364577",
     "status": "completed"
    },
    "tags": []
   },
   "outputs": [],
   "source": [
    "# regrh.score(x_test,y_test)\n",
    "# # 0.9570726404401344"
   ]
  },
  {
   "cell_type": "markdown",
   "id": "8e23f1e8",
   "metadata": {
    "papermill": {
     "duration": 0.059232,
     "end_time": "2023-12-15T17:41:52.575188",
     "exception": false,
     "start_time": "2023-12-15T17:41:52.515956",
     "status": "completed"
    },
    "tags": []
   },
   "source": [
    "**MLP**"
   ]
  },
  {
   "cell_type": "code",
   "execution_count": 110,
   "id": "82f39cc7",
   "metadata": {
    "execution": {
     "iopub.execute_input": "2023-12-15T17:41:52.692353Z",
     "iopub.status.busy": "2023-12-15T17:41:52.691582Z",
     "iopub.status.idle": "2023-12-15T17:41:52.698007Z",
     "shell.execute_reply": "2023-12-15T17:41:52.697137Z"
    },
    "papermill": {
     "duration": 0.067786,
     "end_time": "2023-12-15T17:41:52.700477",
     "exception": false,
     "start_time": "2023-12-15T17:41:52.632691",
     "status": "completed"
    },
    "tags": []
   },
   "outputs": [],
   "source": [
    "# Define the parameter grid for RandomizedSearchCV\n",
    "param_dist = {\n",
    "    'hidden_layer_sizes': [(50,), (100,), (50, 50), (100, 50, 25)],\n",
    "    'activation': ['relu', 'tanh', 'logistic'],\n",
    "    'solver': ['sgd', 'adam'],\n",
    "    'alpha': np.logspace(-5, 2, 8),\n",
    "    'learning_rate': ['constant', 'invscaling', 'adaptive'],\n",
    "    'max_iter': [100, 200, 300],\n",
    "}"
   ]
  },
  {
   "cell_type": "code",
   "execution_count": 111,
   "id": "e6bf77dd",
   "metadata": {
    "execution": {
     "iopub.execute_input": "2023-12-15T17:41:52.816007Z",
     "iopub.status.busy": "2023-12-15T17:41:52.815248Z",
     "iopub.status.idle": "2023-12-15T17:41:52.819921Z",
     "shell.execute_reply": "2023-12-15T17:41:52.818970Z"
    },
    "papermill": {
     "duration": 0.065987,
     "end_time": "2023-12-15T17:41:52.822347",
     "exception": false,
     "start_time": "2023-12-15T17:41:52.756360",
     "status": "completed"
    },
    "tags": []
   },
   "outputs": [],
   "source": [
    "\n",
    "# from sklearn.neural_network import MLPRegressor\n",
    "# from sklearn.model_selection import RandomizedSearchCV\n",
    "\n",
    "# mlp_regressor = MLPRegressor(random_state=42)\n",
    "\n",
    "# # Create RandomizedSearchCV\n",
    "# random_search = RandomizedSearchCV(mlp_regressor, param_distributions=param_dist, n_iter=10, cv=5, scoring='neg_mean_squared_error', random_state=42)\n",
    "\n",
    "# # Fit the model\n",
    "# random_search.fit(x_train, y_train)\n",
    "\n",
    "# # Get the best parameters\n",
    "# best_params = random_search.best_params_\n",
    "# print(\"Best Parameters:\", best_params)"
   ]
  },
  {
   "cell_type": "code",
   "execution_count": 112,
   "id": "da848772",
   "metadata": {
    "execution": {
     "iopub.execute_input": "2023-12-15T17:41:52.941637Z",
     "iopub.status.busy": "2023-12-15T17:41:52.941224Z",
     "iopub.status.idle": "2023-12-15T17:41:52.946129Z",
     "shell.execute_reply": "2023-12-15T17:41:52.944920Z"
    },
    "papermill": {
     "duration": 0.068229,
     "end_time": "2023-12-15T17:41:52.949041",
     "exception": false,
     "start_time": "2023-12-15T17:41:52.880812",
     "status": "completed"
    },
    "tags": []
   },
   "outputs": [],
   "source": [
    "# random_search.score(x_train,y_train)"
   ]
  },
  {
   "cell_type": "code",
   "execution_count": 113,
   "id": "46019a35",
   "metadata": {
    "execution": {
     "iopub.execute_input": "2023-12-15T17:41:53.067863Z",
     "iopub.status.busy": "2023-12-15T17:41:53.067434Z",
     "iopub.status.idle": "2023-12-15T17:41:53.072027Z",
     "shell.execute_reply": "2023-12-15T17:41:53.070974Z"
    },
    "papermill": {
     "duration": 0.067256,
     "end_time": "2023-12-15T17:41:53.074885",
     "exception": false,
     "start_time": "2023-12-15T17:41:53.007629",
     "status": "completed"
    },
    "tags": []
   },
   "outputs": [],
   "source": [
    "# random_search.score(x_test,y_test)"
   ]
  },
  {
   "cell_type": "markdown",
   "id": "4c46d088",
   "metadata": {
    "papermill": {
     "duration": 0.058661,
     "end_time": "2023-12-15T17:41:53.193127",
     "exception": false,
     "start_time": "2023-12-15T17:41:53.134466",
     "status": "completed"
    },
    "tags": []
   },
   "source": [
    "test scores after hyperparameter tuning are \n",
    "\n",
    "desicion tree 0.9288525785897186\n",
    "\n",
    "linear reg    0.8894070051689709\n",
    "\n",
    "ridge         0.8903906197589421\n",
    "\n",
    "Bagging       0.9506468569356759\n",
    "\n",
    "Random forest 0.9570726404401344\n",
    "\n",
    "Best model is Random Forest without hyper tuining"
   ]
  },
  {
   "cell_type": "code",
   "execution_count": 114,
   "id": "c5b0bdf0",
   "metadata": {
    "execution": {
     "iopub.execute_input": "2023-12-15T17:41:53.314185Z",
     "iopub.status.busy": "2023-12-15T17:41:53.312046Z",
     "iopub.status.idle": "2023-12-15T17:41:53.320153Z",
     "shell.execute_reply": "2023-12-15T17:41:53.319005Z"
    },
    "papermill": {
     "duration": 0.072085,
     "end_time": "2023-12-15T17:41:53.323655",
     "exception": false,
     "start_time": "2023-12-15T17:41:53.251570",
     "status": "completed"
    },
    "tags": []
   },
   "outputs": [],
   "source": [
    "q1 = ['desicion_tree','linear_reg','ridge','Bagging','Random_forest']\n",
    "q2 = [0.9288525785897186,0.8894070051689709,0.8903906197589421,0.9506468569356759,0.9570726404401344]"
   ]
  },
  {
   "cell_type": "code",
   "execution_count": 115,
   "id": "20b0e581",
   "metadata": {
    "execution": {
     "iopub.execute_input": "2023-12-15T17:41:53.446969Z",
     "iopub.status.busy": "2023-12-15T17:41:53.446066Z",
     "iopub.status.idle": "2023-12-15T17:41:53.713055Z",
     "shell.execute_reply": "2023-12-15T17:41:53.711264Z"
    },
    "papermill": {
     "duration": 0.33196,
     "end_time": "2023-12-15T17:41:53.715907",
     "exception": false,
     "start_time": "2023-12-15T17:41:53.383947",
     "status": "completed"
    },
    "tags": []
   },
   "outputs": [
    {
     "data": {
      "image/png": "[encoded data removed]",
      "text/plain": [
       "<Figure size 1000x600 with 1 Axes>"
      ]
     },
     "metadata": {},
     "output_type": "display_data"
    }
   ],
   "source": [
    "import matplotlib.pyplot as plt\n",
    "plt.figure(figsize=(10, 6))\n",
    "plt.scatter(q1,q2, color='green', alpha=0.5)\n",
    "plt.title('Scatter Plot of models vs test score')\n",
    "plt.xlabel('model')\n",
    "plt.ylabel('test score')\n",
    "plt.grid(True)\n",
    "plt.show()\n"
   ]
  },
  {
   "cell_type": "markdown",
   "id": "cf9757b2",
   "metadata": {
    "papermill": {
     "duration": 0.0598,
     "end_time": "2023-12-15T17:41:53.837722",
     "exception": false,
     "start_time": "2023-12-15T17:41:53.777922",
     "status": "completed"
    },
    "tags": []
   },
   "source": [
    "# ***Random Forest Model without hypertuining gives score more than hypertuned model***"
   ]
  },
  {
   "cell_type": "markdown",
   "id": "338e327d",
   "metadata": {
    "papermill": {
     "duration": 0.059226,
     "end_time": "2023-12-15T17:41:53.956101",
     "exception": false,
     "start_time": "2023-12-15T17:41:53.896875",
     "status": "completed"
    },
    "tags": []
   },
   "source": [
    "# ****PREDICTION****"
   ]
  },
  {
   "cell_type": "markdown",
   "id": "c26c5b28",
   "metadata": {
    "papermill": {
     "duration": 0.059485,
     "end_time": "2023-12-15T17:41:54.076180",
     "exception": false,
     "start_time": "2023-12-15T17:41:54.016695",
     "status": "completed"
    },
    "tags": []
   },
   "source": [
    "comment"
   ]
  },
  {
   "cell_type": "code",
   "execution_count": 116,
   "id": "bb2004ca",
   "metadata": {
    "execution": {
     "iopub.execute_input": "2023-12-15T17:41:54.196889Z",
     "iopub.status.busy": "2023-12-15T17:41:54.195991Z",
     "iopub.status.idle": "2023-12-15T17:41:54.463330Z",
     "shell.execute_reply": "2023-12-15T17:41:54.461835Z"
    },
    "papermill": {
     "duration": 0.330562,
     "end_time": "2023-12-15T17:41:54.466084",
     "exception": false,
     "start_time": "2023-12-15T17:41:54.135522",
     "status": "completed"
    },
    "tags": []
   },
   "outputs": [
    {
     "data": {
      "text/html": [
       "<div>\n",
       "<style scoped>\n",
       "    .dataframe tbody tr th:only-of-type {\n",
       "        vertical-align: middle;\n",
       "    }\n",
       "\n",
       "    .dataframe tbody tr th {\n",
       "        vertical-align: top;\n",
       "    }\n",
       "\n",
       "    .dataframe thead th {\n",
       "        text-align: right;\n",
       "    }\n",
       "</style>\n",
       "<table border=\"1\" class=\"dataframe\">\n",
       "  <thead>\n",
       "    <tr style=\"text-align: right;\">\n",
       "      <th></th>\n",
       "      <th>VendorID</th>\n",
       "      <th>tpep_pickup_datetime</th>\n",
       "      <th>tpep_dropoff_datetime</th>\n",
       "      <th>passenger_count</th>\n",
       "      <th>trip_distance</th>\n",
       "      <th>RatecodeID</th>\n",
       "      <th>store_and_fwd_flag</th>\n",
       "      <th>PULocationID</th>\n",
       "      <th>DOLocationID</th>\n",
       "      <th>payment_type</th>\n",
       "      <th>extra</th>\n",
       "      <th>tip_amount</th>\n",
       "      <th>tolls_amount</th>\n",
       "      <th>improvement_surcharge</th>\n",
       "      <th>congestion_surcharge</th>\n",
       "      <th>Airport_fee</th>\n",
       "    </tr>\n",
       "  </thead>\n",
       "  <tbody>\n",
       "    <tr>\n",
       "      <th>0</th>\n",
       "      <td>1</td>\n",
       "      <td>2023-06-29 00:21:20</td>\n",
       "      <td>2023-06-29 00:25:20</td>\n",
       "      <td>1.0</td>\n",
       "      <td>4.95</td>\n",
       "      <td>1.0</td>\n",
       "      <td>N</td>\n",
       "      <td>20</td>\n",
       "      <td>3</td>\n",
       "      <td>Credit Card</td>\n",
       "      <td>1.0</td>\n",
       "      <td>6.067612</td>\n",
       "      <td>0.0</td>\n",
       "      <td>1.0</td>\n",
       "      <td>2.5</td>\n",
       "      <td>0.0</td>\n",
       "    </tr>\n",
       "  </tbody>\n",
       "</table>\n",
       "</div>"
      ],
      "text/plain": [
       "   VendorID tpep_pickup_datetime tpep_dropoff_datetime  passenger_count  \\\n",
       "0         1  2023-06-29 00:21:20   2023-06-29 00:25:20              1.0   \n",
       "\n",
       "   trip_distance  RatecodeID store_and_fwd_flag  PULocationID  DOLocationID  \\\n",
       "0           4.95         1.0                  N            20             3   \n",
       "\n",
       "  payment_type  extra  tip_amount  tolls_amount  improvement_surcharge  \\\n",
       "0  Credit Card    1.0    6.067612           0.0                    1.0   \n",
       "\n",
       "   congestion_surcharge  Airport_fee  \n",
       "0                   2.5          0.0  "
      ]
     },
     "execution_count": 116,
     "metadata": {},
     "output_type": "execute_result"
    }
   ],
   "source": [
    "x_predict = pd.read_csv(\"/kaggle/input/taxi-fare-guru-total-amount-prediction-challenge/test.csv\")\n",
    "x_predict.head(1)"
   ]
  },
  {
   "cell_type": "code",
   "execution_count": 117,
   "id": "e45be7a1",
   "metadata": {
    "execution": {
     "iopub.execute_input": "2023-12-15T17:41:54.585457Z",
     "iopub.status.busy": "2023-12-15T17:41:54.584323Z",
     "iopub.status.idle": "2023-12-15T17:41:54.643117Z",
     "shell.execute_reply": "2023-12-15T17:41:54.642141Z"
    },
    "papermill": {
     "duration": 0.121233,
     "end_time": "2023-12-15T17:41:54.645866",
     "exception": false,
     "start_time": "2023-12-15T17:41:54.524633",
     "status": "completed"
    },
    "tags": []
   },
   "outputs": [],
   "source": [
    "x_predict['trip_time'] = (((pd.to_datetime(x_predict['tpep_dropoff_datetime']))- (pd.to_datetime(x_predict['tpep_pickup_datetime']))).dt.total_seconds()/60)\n",
    "x_predict['trip_time'] = x_predict['trip_time'].abs()\n",
    "\n",
    "x_predict = x_predict.drop(columns = ['tpep_dropoff_datetime','tpep_pickup_datetime'])\n"
   ]
  },
  {
   "cell_type": "code",
   "execution_count": 118,
   "id": "06aa645d",
   "metadata": {
    "execution": {
     "iopub.execute_input": "2023-12-15T17:41:54.763672Z",
     "iopub.status.busy": "2023-12-15T17:41:54.763233Z",
     "iopub.status.idle": "2023-12-15T17:41:54.789316Z",
     "shell.execute_reply": "2023-12-15T17:41:54.787320Z"
    },
    "papermill": {
     "duration": 0.087576,
     "end_time": "2023-12-15T17:41:54.792067",
     "exception": false,
     "start_time": "2023-12-15T17:41:54.704491",
     "status": "completed"
    },
    "tags": []
   },
   "outputs": [
    {
     "name": "stdout",
     "output_type": "stream",
     "text": [
      "<class 'pandas.core.frame.DataFrame'>\n",
      "RangeIndex: 50000 entries, 0 to 49999\n",
      "Data columns (total 15 columns):\n",
      " #   Column                 Non-Null Count  Dtype  \n",
      "---  ------                 --------------  -----  \n",
      " 0   VendorID               50000 non-null  int64  \n",
      " 1   passenger_count        48221 non-null  float64\n",
      " 2   trip_distance          50000 non-null  float64\n",
      " 3   RatecodeID             48221 non-null  float64\n",
      " 4   store_and_fwd_flag     48221 non-null  object \n",
      " 5   PULocationID           50000 non-null  int64  \n",
      " 6   DOLocationID           50000 non-null  int64  \n",
      " 7   payment_type           50000 non-null  object \n",
      " 8   extra                  50000 non-null  float64\n",
      " 9   tip_amount             50000 non-null  float64\n",
      " 10  tolls_amount           50000 non-null  float64\n",
      " 11  improvement_surcharge  50000 non-null  float64\n",
      " 12  congestion_surcharge   48221 non-null  float64\n",
      " 13  Airport_fee            48221 non-null  float64\n",
      " 14  trip_time              50000 non-null  float64\n",
      "dtypes: float64(10), int64(3), object(2)\n",
      "memory usage: 5.7+ MB\n"
     ]
    }
   ],
   "source": [
    "x_predict.info()"
   ]
  },
  {
   "cell_type": "code",
   "execution_count": 119,
   "id": "e9cb4f8e",
   "metadata": {
    "execution": {
     "iopub.execute_input": "2023-12-15T17:41:54.911654Z",
     "iopub.status.busy": "2023-12-15T17:41:54.910247Z",
     "iopub.status.idle": "2023-12-15T17:41:54.923426Z",
     "shell.execute_reply": "2023-12-15T17:41:54.921832Z"
    },
    "papermill": {
     "duration": 0.076255,
     "end_time": "2023-12-15T17:41:54.926202",
     "exception": false,
     "start_time": "2023-12-15T17:41:54.849947",
     "status": "completed"
    },
    "tags": []
   },
   "outputs": [],
   "source": [
    "numeric_columns_pred=x_predict.select_dtypes(include=['int','float']).columns.tolist()"
   ]
  },
  {
   "cell_type": "code",
   "execution_count": 120,
   "id": "e9ccddd9",
   "metadata": {
    "execution": {
     "iopub.execute_input": "2023-12-15T17:41:55.048423Z",
     "iopub.status.busy": "2023-12-15T17:41:55.047714Z",
     "iopub.status.idle": "2023-12-15T17:41:55.060590Z",
     "shell.execute_reply": "2023-12-15T17:41:55.058796Z"
    },
    "papermill": {
     "duration": 0.075766,
     "end_time": "2023-12-15T17:41:55.063450",
     "exception": false,
     "start_time": "2023-12-15T17:41:54.987684",
     "status": "completed"
    },
    "tags": []
   },
   "outputs": [
    {
     "data": {
      "text/plain": [
       "['passenger_count', 'RatecodeID', 'congestion_surcharge', 'Airport_fee']"
      ]
     },
     "execution_count": 120,
     "metadata": {},
     "output_type": "execute_result"
    }
   ],
   "source": [
    "numeric_nan_col_pr = [col for col in numeric_columns_pred if x_predict[col].isnull().any()]\n",
    "numeric_nan_col_pr"
   ]
  },
  {
   "cell_type": "code",
   "execution_count": 121,
   "id": "32385b9e",
   "metadata": {
    "execution": {
     "iopub.execute_input": "2023-12-15T17:41:55.183506Z",
     "iopub.status.busy": "2023-12-15T17:41:55.183039Z",
     "iopub.status.idle": "2023-12-15T17:41:55.228312Z",
     "shell.execute_reply": "2023-12-15T17:41:55.226875Z"
    },
    "papermill": {
     "duration": 0.10818,
     "end_time": "2023-12-15T17:41:55.231001",
     "exception": false,
     "start_time": "2023-12-15T17:41:55.122821",
     "status": "completed"
    },
    "tags": []
   },
   "outputs": [
    {
     "data": {
      "text/html": [
       "<div>\n",
       "<style scoped>\n",
       "    .dataframe tbody tr th:only-of-type {\n",
       "        vertical-align: middle;\n",
       "    }\n",
       "\n",
       "    .dataframe tbody tr th {\n",
       "        vertical-align: top;\n",
       "    }\n",
       "\n",
       "    .dataframe thead th {\n",
       "        text-align: right;\n",
       "    }\n",
       "</style>\n",
       "<table border=\"1\" class=\"dataframe\">\n",
       "  <thead>\n",
       "    <tr style=\"text-align: right;\">\n",
       "      <th></th>\n",
       "      <th>VendorID</th>\n",
       "      <th>passenger_count</th>\n",
       "      <th>trip_distance</th>\n",
       "      <th>RatecodeID</th>\n",
       "      <th>store_and_fwd_flag</th>\n",
       "      <th>PULocationID</th>\n",
       "      <th>DOLocationID</th>\n",
       "      <th>payment_type</th>\n",
       "      <th>extra</th>\n",
       "      <th>tip_amount</th>\n",
       "      <th>tolls_amount</th>\n",
       "      <th>improvement_surcharge</th>\n",
       "      <th>congestion_surcharge</th>\n",
       "      <th>Airport_fee</th>\n",
       "      <th>trip_time</th>\n",
       "    </tr>\n",
       "  </thead>\n",
       "  <tbody>\n",
       "    <tr>\n",
       "      <th>0</th>\n",
       "      <td>1</td>\n",
       "      <td>1.0</td>\n",
       "      <td>4.95</td>\n",
       "      <td>1.0</td>\n",
       "      <td>N</td>\n",
       "      <td>20</td>\n",
       "      <td>3</td>\n",
       "      <td>Credit Card</td>\n",
       "      <td>1.0</td>\n",
       "      <td>6.067612</td>\n",
       "      <td>0.0</td>\n",
       "      <td>1.0</td>\n",
       "      <td>2.5</td>\n",
       "      <td>0.0</td>\n",
       "      <td>4.000000</td>\n",
       "    </tr>\n",
       "    <tr>\n",
       "      <th>1</th>\n",
       "      <td>1</td>\n",
       "      <td>1.0</td>\n",
       "      <td>2.10</td>\n",
       "      <td>1.0</td>\n",
       "      <td>N</td>\n",
       "      <td>9</td>\n",
       "      <td>81</td>\n",
       "      <td>Credit Card</td>\n",
       "      <td>2.5</td>\n",
       "      <td>6.191269</td>\n",
       "      <td>0.0</td>\n",
       "      <td>1.0</td>\n",
       "      <td>2.5</td>\n",
       "      <td>0.0</td>\n",
       "      <td>8.500000</td>\n",
       "    </tr>\n",
       "    <tr>\n",
       "      <th>2</th>\n",
       "      <td>1</td>\n",
       "      <td>1.0</td>\n",
       "      <td>0.95</td>\n",
       "      <td>1.0</td>\n",
       "      <td>N</td>\n",
       "      <td>92</td>\n",
       "      <td>90</td>\n",
       "      <td>Cash</td>\n",
       "      <td>2.5</td>\n",
       "      <td>3.983872</td>\n",
       "      <td>0.0</td>\n",
       "      <td>1.0</td>\n",
       "      <td>2.5</td>\n",
       "      <td>0.0</td>\n",
       "      <td>66.733333</td>\n",
       "    </tr>\n",
       "  </tbody>\n",
       "</table>\n",
       "</div>"
      ],
      "text/plain": [
       "   VendorID  passenger_count  trip_distance  RatecodeID store_and_fwd_flag  \\\n",
       "0         1              1.0           4.95         1.0                  N   \n",
       "1         1              1.0           2.10         1.0                  N   \n",
       "2         1              1.0           0.95         1.0                  N   \n",
       "\n",
       "   PULocationID  DOLocationID payment_type  extra  tip_amount  tolls_amount  \\\n",
       "0            20             3  Credit Card    1.0    6.067612           0.0   \n",
       "1             9            81  Credit Card    2.5    6.191269           0.0   \n",
       "2            92            90         Cash    2.5    3.983872           0.0   \n",
       "\n",
       "   improvement_surcharge  congestion_surcharge  Airport_fee  trip_time  \n",
       "0                    1.0                   2.5          0.0   4.000000  \n",
       "1                    1.0                   2.5          0.0   8.500000  \n",
       "2                    1.0                   2.5          0.0  66.733333  "
      ]
     },
     "execution_count": 121,
     "metadata": {},
     "output_type": "execute_result"
    }
   ],
   "source": [
    "from sklearn.impute import SimpleImputer\n",
    "si=SimpleImputer(strategy='mean')\n",
    "si2 = SimpleImputer(strategy='most_frequent')\n",
    "numbercol=['passenger_count','trip_distance','congestion_surcharge','Airport_fee']\n",
    "mostfrecol = ['RatecodeID']\n",
    "x_predict[numbercol] = si.fit_transform(x_predict[numbercol])\n",
    "x_predict[mostfrecol]=si2.fit_transform(x_predict[mostfrecol])\n",
    "x_predict.head(3)"
   ]
  },
  {
   "cell_type": "code",
   "execution_count": 122,
   "id": "b93f5789",
   "metadata": {
    "execution": {
     "iopub.execute_input": "2023-12-15T17:41:55.349473Z",
     "iopub.status.busy": "2023-12-15T17:41:55.349058Z",
     "iopub.status.idle": "2023-12-15T17:41:55.372479Z",
     "shell.execute_reply": "2023-12-15T17:41:55.371129Z"
    },
    "papermill": {
     "duration": 0.086142,
     "end_time": "2023-12-15T17:41:55.375098",
     "exception": false,
     "start_time": "2023-12-15T17:41:55.288956",
     "status": "completed"
    },
    "tags": []
   },
   "outputs": [
    {
     "data": {
      "text/plain": [
       "['store_and_fwd_flag']"
      ]
     },
     "execution_count": 122,
     "metadata": {},
     "output_type": "execute_result"
    }
   ],
   "source": [
    "string_columns_pred = x_predict.select_dtypes(include=['object']).columns.tolist()\n",
    "string_nan_cols = [col for col in string_columns_pred if x_predict[col].isnull().any()]\n",
    "\n",
    "string_nan_cols"
   ]
  },
  {
   "cell_type": "code",
   "execution_count": 123,
   "id": "9c6549cc",
   "metadata": {
    "execution": {
     "iopub.execute_input": "2023-12-15T17:41:55.495827Z",
     "iopub.status.busy": "2023-12-15T17:41:55.495399Z",
     "iopub.status.idle": "2023-12-15T17:41:55.549848Z",
     "shell.execute_reply": "2023-12-15T17:41:55.548511Z"
    },
    "papermill": {
     "duration": 0.118927,
     "end_time": "2023-12-15T17:41:55.552778",
     "exception": false,
     "start_time": "2023-12-15T17:41:55.433851",
     "status": "completed"
    },
    "tags": []
   },
   "outputs": [
    {
     "data": {
      "text/html": [
       "<div>\n",
       "<style scoped>\n",
       "    .dataframe tbody tr th:only-of-type {\n",
       "        vertical-align: middle;\n",
       "    }\n",
       "\n",
       "    .dataframe tbody tr th {\n",
       "        vertical-align: top;\n",
       "    }\n",
       "\n",
       "    .dataframe thead th {\n",
       "        text-align: right;\n",
       "    }\n",
       "</style>\n",
       "<table border=\"1\" class=\"dataframe\">\n",
       "  <thead>\n",
       "    <tr style=\"text-align: right;\">\n",
       "      <th></th>\n",
       "      <th>VendorID</th>\n",
       "      <th>passenger_count</th>\n",
       "      <th>trip_distance</th>\n",
       "      <th>RatecodeID</th>\n",
       "      <th>store_and_fwd_flag</th>\n",
       "      <th>PULocationID</th>\n",
       "      <th>DOLocationID</th>\n",
       "      <th>payment_type</th>\n",
       "      <th>extra</th>\n",
       "      <th>tip_amount</th>\n",
       "      <th>tolls_amount</th>\n",
       "      <th>improvement_surcharge</th>\n",
       "      <th>congestion_surcharge</th>\n",
       "      <th>Airport_fee</th>\n",
       "      <th>trip_time</th>\n",
       "    </tr>\n",
       "  </thead>\n",
       "  <tbody>\n",
       "    <tr>\n",
       "      <th>0</th>\n",
       "      <td>1</td>\n",
       "      <td>1.0</td>\n",
       "      <td>4.95</td>\n",
       "      <td>1.0</td>\n",
       "      <td>N</td>\n",
       "      <td>20</td>\n",
       "      <td>3</td>\n",
       "      <td>Credit Card</td>\n",
       "      <td>1.0</td>\n",
       "      <td>6.067612</td>\n",
       "      <td>0.0</td>\n",
       "      <td>1.0</td>\n",
       "      <td>2.5</td>\n",
       "      <td>0.00</td>\n",
       "      <td>4.000000</td>\n",
       "    </tr>\n",
       "    <tr>\n",
       "      <th>1</th>\n",
       "      <td>1</td>\n",
       "      <td>1.0</td>\n",
       "      <td>2.10</td>\n",
       "      <td>1.0</td>\n",
       "      <td>N</td>\n",
       "      <td>9</td>\n",
       "      <td>81</td>\n",
       "      <td>Credit Card</td>\n",
       "      <td>2.5</td>\n",
       "      <td>6.191269</td>\n",
       "      <td>0.0</td>\n",
       "      <td>1.0</td>\n",
       "      <td>2.5</td>\n",
       "      <td>0.00</td>\n",
       "      <td>8.500000</td>\n",
       "    </tr>\n",
       "    <tr>\n",
       "      <th>2</th>\n",
       "      <td>1</td>\n",
       "      <td>1.0</td>\n",
       "      <td>0.95</td>\n",
       "      <td>1.0</td>\n",
       "      <td>N</td>\n",
       "      <td>92</td>\n",
       "      <td>90</td>\n",
       "      <td>Cash</td>\n",
       "      <td>2.5</td>\n",
       "      <td>3.983872</td>\n",
       "      <td>0.0</td>\n",
       "      <td>1.0</td>\n",
       "      <td>2.5</td>\n",
       "      <td>0.00</td>\n",
       "      <td>66.733333</td>\n",
       "    </tr>\n",
       "    <tr>\n",
       "      <th>3</th>\n",
       "      <td>0</td>\n",
       "      <td>1.0</td>\n",
       "      <td>0.80</td>\n",
       "      <td>1.0</td>\n",
       "      <td>N</td>\n",
       "      <td>19</td>\n",
       "      <td>102</td>\n",
       "      <td>Credit Card</td>\n",
       "      <td>3.5</td>\n",
       "      <td>6.839341</td>\n",
       "      <td>0.0</td>\n",
       "      <td>1.0</td>\n",
       "      <td>2.5</td>\n",
       "      <td>0.00</td>\n",
       "      <td>12.450000</td>\n",
       "    </tr>\n",
       "    <tr>\n",
       "      <th>4</th>\n",
       "      <td>1</td>\n",
       "      <td>1.0</td>\n",
       "      <td>4.01</td>\n",
       "      <td>1.0</td>\n",
       "      <td>N</td>\n",
       "      <td>131</td>\n",
       "      <td>229</td>\n",
       "      <td>Cash</td>\n",
       "      <td>0.0</td>\n",
       "      <td>1.468943</td>\n",
       "      <td>0.0</td>\n",
       "      <td>1.0</td>\n",
       "      <td>0.0</td>\n",
       "      <td>0.00</td>\n",
       "      <td>28.383333</td>\n",
       "    </tr>\n",
       "    <tr>\n",
       "      <th>...</th>\n",
       "      <td>...</td>\n",
       "      <td>...</td>\n",
       "      <td>...</td>\n",
       "      <td>...</td>\n",
       "      <td>...</td>\n",
       "      <td>...</td>\n",
       "      <td>...</td>\n",
       "      <td>...</td>\n",
       "      <td>...</td>\n",
       "      <td>...</td>\n",
       "      <td>...</td>\n",
       "      <td>...</td>\n",
       "      <td>...</td>\n",
       "      <td>...</td>\n",
       "      <td>...</td>\n",
       "    </tr>\n",
       "    <tr>\n",
       "      <th>49995</th>\n",
       "      <td>1</td>\n",
       "      <td>1.0</td>\n",
       "      <td>0.61</td>\n",
       "      <td>1.0</td>\n",
       "      <td>N</td>\n",
       "      <td>48</td>\n",
       "      <td>72</td>\n",
       "      <td>Credit Card</td>\n",
       "      <td>2.5</td>\n",
       "      <td>4.043482</td>\n",
       "      <td>0.0</td>\n",
       "      <td>1.0</td>\n",
       "      <td>2.5</td>\n",
       "      <td>0.00</td>\n",
       "      <td>48.616667</td>\n",
       "    </tr>\n",
       "    <tr>\n",
       "      <th>49996</th>\n",
       "      <td>1</td>\n",
       "      <td>1.0</td>\n",
       "      <td>5.02</td>\n",
       "      <td>1.0</td>\n",
       "      <td>N</td>\n",
       "      <td>57</td>\n",
       "      <td>103</td>\n",
       "      <td>Cash</td>\n",
       "      <td>1.0</td>\n",
       "      <td>2.895882</td>\n",
       "      <td>0.0</td>\n",
       "      <td>1.0</td>\n",
       "      <td>0.0</td>\n",
       "      <td>1.75</td>\n",
       "      <td>14.750000</td>\n",
       "    </tr>\n",
       "    <tr>\n",
       "      <th>49997</th>\n",
       "      <td>1</td>\n",
       "      <td>1.0</td>\n",
       "      <td>1.92</td>\n",
       "      <td>1.0</td>\n",
       "      <td>N</td>\n",
       "      <td>150</td>\n",
       "      <td>78</td>\n",
       "      <td>Credit Card</td>\n",
       "      <td>1.0</td>\n",
       "      <td>5.636590</td>\n",
       "      <td>0.0</td>\n",
       "      <td>1.0</td>\n",
       "      <td>2.5</td>\n",
       "      <td>0.00</td>\n",
       "      <td>39.116667</td>\n",
       "    </tr>\n",
       "    <tr>\n",
       "      <th>49998</th>\n",
       "      <td>0</td>\n",
       "      <td>1.0</td>\n",
       "      <td>5.40</td>\n",
       "      <td>1.0</td>\n",
       "      <td>N</td>\n",
       "      <td>4</td>\n",
       "      <td>154</td>\n",
       "      <td>Credit Card</td>\n",
       "      <td>3.5</td>\n",
       "      <td>7.293144</td>\n",
       "      <td>0.0</td>\n",
       "      <td>1.0</td>\n",
       "      <td>2.5</td>\n",
       "      <td>0.00</td>\n",
       "      <td>26.750000</td>\n",
       "    </tr>\n",
       "    <tr>\n",
       "      <th>49999</th>\n",
       "      <td>1</td>\n",
       "      <td>1.0</td>\n",
       "      <td>1.31</td>\n",
       "      <td>1.0</td>\n",
       "      <td>N</td>\n",
       "      <td>7</td>\n",
       "      <td>174</td>\n",
       "      <td>Cash</td>\n",
       "      <td>2.5</td>\n",
       "      <td>1.966592</td>\n",
       "      <td>0.0</td>\n",
       "      <td>1.0</td>\n",
       "      <td>2.5</td>\n",
       "      <td>0.00</td>\n",
       "      <td>49.983333</td>\n",
       "    </tr>\n",
       "  </tbody>\n",
       "</table>\n",
       "<p>50000 rows × 15 columns</p>\n",
       "</div>"
      ],
      "text/plain": [
       "       VendorID  passenger_count  trip_distance  RatecodeID  \\\n",
       "0             1              1.0           4.95         1.0   \n",
       "1             1              1.0           2.10         1.0   \n",
       "2             1              1.0           0.95         1.0   \n",
       "3             0              1.0           0.80         1.0   \n",
       "4             1              1.0           4.01         1.0   \n",
       "...         ...              ...            ...         ...   \n",
       "49995         1              1.0           0.61         1.0   \n",
       "49996         1              1.0           5.02         1.0   \n",
       "49997         1              1.0           1.92         1.0   \n",
       "49998         0              1.0           5.40         1.0   \n",
       "49999         1              1.0           1.31         1.0   \n",
       "\n",
       "      store_and_fwd_flag  PULocationID  DOLocationID payment_type  extra  \\\n",
       "0                      N            20             3  Credit Card    1.0   \n",
       "1                      N             9            81  Credit Card    2.5   \n",
       "2                      N            92            90         Cash    2.5   \n",
       "3                      N            19           102  Credit Card    3.5   \n",
       "4                      N           131           229         Cash    0.0   \n",
       "...                  ...           ...           ...          ...    ...   \n",
       "49995                  N            48            72  Credit Card    2.5   \n",
       "49996                  N            57           103         Cash    1.0   \n",
       "49997                  N           150            78  Credit Card    1.0   \n",
       "49998                  N             4           154  Credit Card    3.5   \n",
       "49999                  N             7           174         Cash    2.5   \n",
       "\n",
       "       tip_amount  tolls_amount  improvement_surcharge  congestion_surcharge  \\\n",
       "0        6.067612           0.0                    1.0                   2.5   \n",
       "1        6.191269           0.0                    1.0                   2.5   \n",
       "2        3.983872           0.0                    1.0                   2.5   \n",
       "3        6.839341           0.0                    1.0                   2.5   \n",
       "4        1.468943           0.0                    1.0                   0.0   \n",
       "...           ...           ...                    ...                   ...   \n",
       "49995    4.043482           0.0                    1.0                   2.5   \n",
       "49996    2.895882           0.0                    1.0                   0.0   \n",
       "49997    5.636590           0.0                    1.0                   2.5   \n",
       "49998    7.293144           0.0                    1.0                   2.5   \n",
       "49999    1.966592           0.0                    1.0                   2.5   \n",
       "\n",
       "       Airport_fee  trip_time  \n",
       "0             0.00   4.000000  \n",
       "1             0.00   8.500000  \n",
       "2             0.00  66.733333  \n",
       "3             0.00  12.450000  \n",
       "4             0.00  28.383333  \n",
       "...            ...        ...  \n",
       "49995         0.00  48.616667  \n",
       "49996         1.75  14.750000  \n",
       "49997         0.00  39.116667  \n",
       "49998         0.00  26.750000  \n",
       "49999         0.00  49.983333  \n",
       "\n",
       "[50000 rows x 15 columns]"
      ]
     },
     "execution_count": 123,
     "metadata": {},
     "output_type": "execute_result"
    }
   ],
   "source": [
    "from sklearn.impute import SimpleImputer\n",
    "si_p=SimpleImputer(strategy='most_frequent')\n",
    "x_predict[string_nan_cols] = si_p.fit_transform(x_predict[string_nan_cols])\n",
    "x_predict"
   ]
  },
  {
   "cell_type": "code",
   "execution_count": 124,
   "id": "6ea0d77d",
   "metadata": {
    "execution": {
     "iopub.execute_input": "2023-12-15T17:41:55.674983Z",
     "iopub.status.busy": "2023-12-15T17:41:55.674413Z",
     "iopub.status.idle": "2023-12-15T17:41:55.698100Z",
     "shell.execute_reply": "2023-12-15T17:41:55.696863Z"
    },
    "papermill": {
     "duration": 0.088001,
     "end_time": "2023-12-15T17:41:55.700987",
     "exception": false,
     "start_time": "2023-12-15T17:41:55.612986",
     "status": "completed"
    },
    "tags": []
   },
   "outputs": [
    {
     "data": {
      "text/plain": [
       "Series([], dtype: int64)"
      ]
     },
     "execution_count": 124,
     "metadata": {},
     "output_type": "execute_result"
    }
   ],
   "source": [
    "missing_df_pred_values = x_predict.isnull().sum()\n",
    "filter_miss_pred = missing_df_pred_values.loc[missing_df_values != 0]\n",
    "filter_miss_pred"
   ]
  },
  {
   "cell_type": "code",
   "execution_count": 125,
   "id": "755b2ccc",
   "metadata": {
    "execution": {
     "iopub.execute_input": "2023-12-15T17:41:55.823873Z",
     "iopub.status.busy": "2023-12-15T17:41:55.823501Z",
     "iopub.status.idle": "2023-12-15T17:41:55.958456Z",
     "shell.execute_reply": "2023-12-15T17:41:55.957355Z"
    },
    "papermill": {
     "duration": 0.200402,
     "end_time": "2023-12-15T17:41:55.962041",
     "exception": false,
     "start_time": "2023-12-15T17:41:55.761639",
     "status": "completed"
    },
    "tags": []
   },
   "outputs": [
    {
     "name": "stdout",
     "output_type": "stream",
     "text": [
      "Original DataFrame:\n",
      "       VendorID  passenger_count  trip_distance  RatecodeID  \\\n",
      "0             1              1.0           4.95         1.0   \n",
      "1             1              1.0           2.10         1.0   \n",
      "2             1              1.0           0.95         1.0   \n",
      "3             0              1.0           0.80         1.0   \n",
      "4             1              1.0           4.01         1.0   \n",
      "...         ...              ...            ...         ...   \n",
      "49995         1              1.0           0.61         1.0   \n",
      "49996         1              1.0           5.02         1.0   \n",
      "49997         1              1.0           1.92         1.0   \n",
      "49998         0              1.0           5.40         1.0   \n",
      "49999         1              1.0           1.31         1.0   \n",
      "\n",
      "      store_and_fwd_flag  PULocationID  DOLocationID payment_type  extra  \\\n",
      "0                      N            20             3  Credit Card    1.0   \n",
      "1                      N             9            81  Credit Card    2.5   \n",
      "2                      N            92            90         Cash    2.5   \n",
      "3                      N            19           102  Credit Card    3.5   \n",
      "4                      N           131           229         Cash    0.0   \n",
      "...                  ...           ...           ...          ...    ...   \n",
      "49995                  N            48            72  Credit Card    2.5   \n",
      "49996                  N            57           103         Cash    1.0   \n",
      "49997                  N           150            78  Credit Card    1.0   \n",
      "49998                  N             4           154  Credit Card    3.5   \n",
      "49999                  N             7           174         Cash    2.5   \n",
      "\n",
      "       tip_amount  tolls_amount  improvement_surcharge  congestion_surcharge  \\\n",
      "0        6.067612           0.0                    1.0                   2.5   \n",
      "1        6.191269           0.0                    1.0                   2.5   \n",
      "2        3.983872           0.0                    1.0                   2.5   \n",
      "3        6.839341           0.0                    1.0                   2.5   \n",
      "4        1.468943           0.0                    1.0                   0.0   \n",
      "...           ...           ...                    ...                   ...   \n",
      "49995    4.043482           0.0                    1.0                   2.5   \n",
      "49996    2.895882           0.0                    1.0                   0.0   \n",
      "49997    5.636590           0.0                    1.0                   2.5   \n",
      "49998    7.293144           0.0                    1.0                   2.5   \n",
      "49999    1.966592           0.0                    1.0                   2.5   \n",
      "\n",
      "       Airport_fee  trip_time  \n",
      "0             0.00   4.000000  \n",
      "1             0.00   8.500000  \n",
      "2             0.00  66.733333  \n",
      "3             0.00  12.450000  \n",
      "4             0.00  28.383333  \n",
      "...            ...        ...  \n",
      "49995         0.00  48.616667  \n",
      "49996         1.75  14.750000  \n",
      "49997         0.00  39.116667  \n",
      "49998         0.00  26.750000  \n",
      "49999         0.00  49.983333  \n",
      "\n",
      "[50000 rows x 15 columns]\n",
      "\n",
      "Transformed DataFrame:\n",
      "       VendorID  passenger_count  trip_distance  RatecodeID  PULocationID  \\\n",
      "0           0.0              0.0       1.235060         0.0     -0.842105   \n",
      "1           0.0              0.0       0.099602         0.0     -0.924812   \n",
      "2           0.0              0.0      -0.358566         0.0     -0.300752   \n",
      "3          -1.0              0.0      -0.418327         0.0     -0.849624   \n",
      "4           0.0              0.0       0.860558         0.0     -0.007519   \n",
      "...         ...              ...            ...         ...           ...   \n",
      "49995       0.0              0.0      -0.494024         0.0     -0.631579   \n",
      "49996       0.0              0.0       1.262948         0.0     -0.563910   \n",
      "49997       0.0              0.0       0.027888         0.0      0.135338   \n",
      "49998      -1.0              0.0       1.414343         0.0     -0.962406   \n",
      "49999       0.0              0.0      -0.215139         0.0     -0.939850   \n",
      "\n",
      "       DOLocationID  extra  tip_amount  tolls_amount  improvement_surcharge  \\\n",
      "0         -0.984848    0.0    0.197009           0.0                    0.0   \n",
      "1         -0.393939    0.6    0.227618           0.0                    0.0   \n",
      "2         -0.325758    0.6   -0.318764           0.0                    0.0   \n",
      "3         -0.234848    1.0    0.388030           0.0                    0.0   \n",
      "4          0.727273   -0.4   -0.941266           0.0                    0.0   \n",
      "...             ...    ...         ...           ...                    ...   \n",
      "49995     -0.462121    0.6   -0.304009           0.0                    0.0   \n",
      "49996     -0.227273    0.0   -0.588066           0.0                    0.0   \n",
      "49997     -0.416667    0.0    0.090322           0.0                    0.0   \n",
      "49998      0.159091    1.0    0.500357           0.0                    0.0   \n",
      "49999      0.310606    0.6   -0.818087           0.0                    0.0   \n",
      "\n",
      "       congestion_surcharge  Airport_fee  trip_time  store_and_fwd_flag_N  \\\n",
      "0                       0.0         0.00  -0.726131                   1.0   \n",
      "1                       0.0         0.00  -0.629218                   1.0   \n",
      "2                       0.0         0.00   0.624910                   1.0   \n",
      "3                       0.0         0.00  -0.544149                   1.0   \n",
      "4                      -2.5         0.00  -0.201005                   1.0   \n",
      "...                     ...          ...        ...                   ...   \n",
      "49995                   0.0         0.00   0.234745                   1.0   \n",
      "49996                  -2.5         1.75  -0.494616                   1.0   \n",
      "49997                   0.0         0.00   0.030151                   1.0   \n",
      "49998                   0.0         0.00  -0.236181                   1.0   \n",
      "49999                   0.0         0.00   0.264178                   1.0   \n",
      "\n",
      "       store_and_fwd_flag_Y  payment_type_Cash  payment_type_Credit Card  \\\n",
      "0                       0.0                0.0                       1.0   \n",
      "1                       0.0                0.0                       1.0   \n",
      "2                       0.0                1.0                       0.0   \n",
      "3                       0.0                0.0                       1.0   \n",
      "4                       0.0                1.0                       0.0   \n",
      "...                     ...                ...                       ...   \n",
      "49995                   0.0                0.0                       1.0   \n",
      "49996                   0.0                1.0                       0.0   \n",
      "49997                   0.0                0.0                       1.0   \n",
      "49998                   0.0                0.0                       1.0   \n",
      "49999                   0.0                1.0                       0.0   \n",
      "\n",
      "       payment_type_UPI  payment_type_Wallet  payment_type_unknown  \n",
      "0                   0.0                  0.0                   0.0  \n",
      "1                   0.0                  0.0                   0.0  \n",
      "2                   0.0                  0.0                   0.0  \n",
      "3                   0.0                  0.0                   0.0  \n",
      "4                   0.0                  0.0                   0.0  \n",
      "...                 ...                  ...                   ...  \n",
      "49995               0.0                  0.0                   0.0  \n",
      "49996               0.0                  0.0                   0.0  \n",
      "49997               0.0                  0.0                   0.0  \n",
      "49998               0.0                  0.0                   0.0  \n",
      "49999               0.0                  0.0                   0.0  \n",
      "\n",
      "[50000 rows x 20 columns]\n"
     ]
    }
   ],
   "source": [
    "import pandas as pd\n",
    "import numpy as np\n",
    "from sklearn.compose import ColumnTransformer, make_column_transformer, make_column_selector\n",
    "from sklearn.pipeline import Pipeline, make_pipeline\n",
    "from sklearn.preprocessing import OneHotEncoder, RobustScaler\n",
    "from sklearn.impute import SimpleImputer\n",
    "from sklearn.compose import make_column_transformer\n",
    "\n",
    "\n",
    "# Identify numeric and string columns\n",
    "numeric_cols = x_predict.select_dtypes(include=['float64', 'int64']).columns\n",
    "string_cols = x_predict.select_dtypes(include=['object']).columns\n",
    "\n",
    "# Create transformers with specified columns\n",
    "numeric_transformer = Pipeline(steps=[\n",
    "    ('scaler', RobustScaler())\n",
    "])\n",
    "\n",
    "string_transformer = Pipeline(steps=[\n",
    "    ('onehot', OneHotEncoder())\n",
    "])\n",
    "\n",
    "# Create column transformer\n",
    "preprocessor = make_column_transformer(\n",
    "    (numeric_transformer, numeric_cols),\n",
    "    (string_transformer, string_cols)\n",
    ")\n",
    "\n",
    "# Create the full pipeline\n",
    "pipeline = make_pipeline(preprocessor)\n",
    "\n",
    "# Apply the pipeline to the DataFrame\n",
    "x_predict_transformed = pipeline.fit_transform(x_predict)\n",
    "\n",
    "# Convert the result back to a DataFrame\n",
    "columns = ['VendorID', 'passenger_count', 'trip_distance', 'RatecodeID',\n",
    "       'PULocationID', 'DOLocationID', 'extra', 'tip_amount', 'tolls_amount',\n",
    "       'improvement_surcharge', 'congestion_surcharge',\n",
    "       'Airport_fee', 'trip_time', 'store_and_fwd_flag_N',\n",
    "       'store_and_fwd_flag_Y', 'payment_type_Cash', 'payment_type_Credit Card',\n",
    "       'payment_type_UPI', 'payment_type_Wallet', 'payment_type_unknown']\n",
    "x_predict_transformed = pd.DataFrame(x_predict_transformed, columns=columns)\n",
    "\n",
    "# Display the original and transformed DataFrames\n",
    "print(\"Original DataFrame:\")\n",
    "print(x_predict)\n",
    "print(\"\\nTransformed DataFrame:\")\n",
    "print(x_predict_transformed)\n"
   ]
  },
  {
   "cell_type": "code",
   "execution_count": null,
   "id": "22358210",
   "metadata": {
    "papermill": {
     "duration": 0.059793,
     "end_time": "2023-12-15T17:41:56.081810",
     "exception": false,
     "start_time": "2023-12-15T17:41:56.022017",
     "status": "completed"
    },
    "tags": []
   },
   "outputs": [],
   "source": []
  },
  {
   "cell_type": "markdown",
   "id": "7a2afe71",
   "metadata": {
    "papermill": {
     "duration": 0.059271,
     "end_time": "2023-12-15T17:41:56.201222",
     "exception": false,
     "start_time": "2023-12-15T17:41:56.141951",
     "status": "completed"
    },
    "tags": []
   },
   "source": [
    "# **SUBMISSION**"
   ]
  },
  {
   "cell_type": "code",
   "execution_count": 126,
   "id": "7c12b972",
   "metadata": {
    "execution": {
     "iopub.execute_input": "2023-12-15T17:41:56.323479Z",
     "iopub.status.busy": "2023-12-15T17:41:56.322827Z",
     "iopub.status.idle": "2023-12-15T17:41:59.332748Z",
     "shell.execute_reply": "2023-12-15T17:41:59.331490Z"
    },
    "papermill": {
     "duration": 3.073415,
     "end_time": "2023-12-15T17:41:59.335713",
     "exception": false,
     "start_time": "2023-12-15T17:41:56.262298",
     "status": "completed"
    },
    "tags": []
   },
   "outputs": [],
   "source": [
    "y = regr.predict(x_predict_transformed)"
   ]
  },
  {
   "cell_type": "code",
   "execution_count": 127,
   "id": "db07504d",
   "metadata": {
    "execution": {
     "iopub.execute_input": "2023-12-15T17:41:59.464603Z",
     "iopub.status.busy": "2023-12-15T17:41:59.463622Z",
     "iopub.status.idle": "2023-12-15T17:41:59.473274Z",
     "shell.execute_reply": "2023-12-15T17:41:59.471935Z"
    },
    "papermill": {
     "duration": 0.078499,
     "end_time": "2023-12-15T17:41:59.476032",
     "exception": false,
     "start_time": "2023-12-15T17:41:59.397533",
     "status": "completed"
    },
    "tags": []
   },
   "outputs": [
    {
     "data": {
      "text/plain": [
       "array([ 38.522 ,  27.4988,  16.73  ,  14.9625,  24.2844,  13.3007,\n",
       "       125.3115,  24.1602,  15.762 ,  14.094 ])"
      ]
     },
     "execution_count": 127,
     "metadata": {},
     "output_type": "execute_result"
    }
   ],
   "source": [
    "y[:10]\n",
    "#array([ 40.431,  26.438,  16.43 ,  15.047,  25.094,  12.58 , 122.536,24.468,  15.016,  13.61 ])"
   ]
  },
  {
   "cell_type": "code",
   "execution_count": 128,
   "id": "54aec9a6",
   "metadata": {
    "execution": {
     "iopub.execute_input": "2023-12-15T17:41:59.600289Z",
     "iopub.status.busy": "2023-12-15T17:41:59.599189Z",
     "iopub.status.idle": "2023-12-15T17:41:59.666736Z",
     "shell.execute_reply": "2023-12-15T17:41:59.665655Z"
    },
    "papermill": {
     "duration": 0.132541,
     "end_time": "2023-12-15T17:41:59.669442",
     "exception": false,
     "start_time": "2023-12-15T17:41:59.536901",
     "status": "completed"
    },
    "tags": []
   },
   "outputs": [],
   "source": [
    "submit = pd.DataFrame(columns=[\"ID\",\"total_amount\"])\n",
    "submit[\"ID\"] = [i for i in range(1,len(y)+1)]\n",
    "submit[\"total_amount\"] = y"
   ]
  },
  {
   "cell_type": "code",
   "execution_count": 129,
   "id": "ce8219d3",
   "metadata": {
    "execution": {
     "iopub.execute_input": "2023-12-15T17:41:59.799680Z",
     "iopub.status.busy": "2023-12-15T17:41:59.799239Z",
     "iopub.status.idle": "2023-12-15T17:42:00.019738Z",
     "shell.execute_reply": "2023-12-15T17:42:00.017571Z"
    },
    "papermill": {
     "duration": 0.287779,
     "end_time": "2023-12-15T17:42:00.023230",
     "exception": false,
     "start_time": "2023-12-15T17:41:59.735451",
     "status": "completed"
    },
    "tags": []
   },
   "outputs": [],
   "source": [
    "submit.to_csv(\"submission.csv\",index=False)"
   ]
  }
 ],
 "metadata": {
  "kaggle": {
   "accelerator": "none",
   "dataSources": [
    {
     "databundleVersionId": 6604167,
     "sourceId": 61246,
     "sourceType": "competition"
    }
   ],
   "dockerImageVersionId": 30558,
   "isGpuEnabled": false,
   "isInternetEnabled": true,
   "language": "python",
   "sourceType": "notebook"
  },
  "kernelspec": {
   "display_name": "Python 3",
   "language": "python",
   "name": "python3"
  },
  "language_info": {
   "codemirror_mode": {
    "name": "ipython",
    "version": 3
   },
   "file_extension": ".py",
   "mimetype": "text/x-python",
   "name": "python",
   "nbconvert_exporter": "python",
   "pygments_lexer": "ipython3",
   "version": "3.10.12"
  },
  "papermill": {
   "default_parameters": {},
   "duration": 184.522103,
   "end_time": "2023-12-15T17:42:01.012691",
   "environment_variables": {},
   "exception": null,
   "input_path": "__notebook__.ipynb",
   "output_path": "__notebook__.ipynb",
   "parameters": {},
   "start_time": "2023-12-15T17:38:56.490588",
   "version": "2.4.0"
  }
 },
 "nbformat": 4,
 "nbformat_minor": 5
}
